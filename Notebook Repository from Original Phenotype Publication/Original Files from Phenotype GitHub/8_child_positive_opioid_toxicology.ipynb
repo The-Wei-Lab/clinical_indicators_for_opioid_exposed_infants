{
 "cells": [
  {
   "cell_type": "markdown",
   "metadata": {
    "application/vnd.databricks.v1+cell": {
     "cellMetadata": {},
     "inputWidgets": {},
     "nuid": "ebd9eb1f-48c5-4e8a-8886-3dcc103c0e06",
     "showTitle": false,
     "title": ""
    }
   },
   "source": [
    "# Project: Performance of phenotype algorithms for the identification of opioid-exposed infants, Andrew D. Wiese et al. Hospital Pediatrics 2024\n",
    "# Title: Identify infants with positive opioid toxicology results\n",
    "# Summary: \n",
    "## Identify infants with positive opioid toxicology results\n",
    "\n"
   ]
  },
  {
   "cell_type": "markdown",
   "metadata": {
    "application/vnd.databricks.v1+cell": {
     "cellMetadata": {},
     "inputWidgets": {},
     "nuid": "8bc4825d-e3c3-493b-9472-da60376ba5a3",
     "showTitle": false,
     "title": ""
    }
   },
   "source": [
    "##### Algorihtm steps\n",
    "```\n",
    "1.READ infant_tox_lab_list table\n",
    "2.READ measurement table\n",
    "3.FILTER measurement table WHERE measurement_source_value IN infant_tox_lab_list short and long names\n",
    "4.UNION filtered measurement tables\n",
    "5.FILTER union result WHERE value_source_value is 'present' or 'positive' \n",
    "6.JOIN filtered result with mom_baby_step1 on person_id\n",
    "7.SAVE joined result as infant_tox_lab view\n",
    "```\n",
    "\n",
    "##### Data Dictionaries\n",
    "**infant_tox_lab_list** - Table containing lab test short and long names  \n",
    "**meas_table** - Measurement table containing lab test results  \n",
    "**mom_baby_step1** - Table containing mom and baby person IDs\n",
    "\n",
    "**infant_tox_lab** - View containing baby person IDs and their positive lab test results\n",
    "\n",
    "##### Usage Notes\n",
    "```\n",
    "- The algorithm filters the measurement table twice - first to get measurements matching the infant_tox_lab_list, and again to filter on positive value_source_value\n",
    "- The filtered measurement tables are unioned before the second filter\n",
    "- The positive lab results are inner joined with mom_baby_step1 to get the associated baby person IDs\n",
    "- The final view infant_tox_lab can be used to identify babies with positive lab test results\n",
    "```"
   ]
  },
  {
   "cell_type": "code",
   "execution_count": 0,
   "metadata": {
    "ExecuteTime": {
     "end_time": "2023-01-09T18:41:55.684491Z",
     "start_time": "2023-01-09T18:41:55.670875Z"
    },
    "application/vnd.databricks.v1+cell": {
     "cellMetadata": {},
     "inputWidgets": {},
     "nuid": "d15be919-e8f1-47cb-a483-65bf14196498",
     "showTitle": false,
     "title": ""
    }
   },
   "outputs": [],
   "source": [
    "%run \"./project_modules\""
   ]
  },
  {
   "cell_type": "markdown",
   "metadata": {
    "application/vnd.databricks.v1+cell": {
     "cellMetadata": {},
     "inputWidgets": {},
     "nuid": "39be2967-b5cc-440a-ad27-1deebc07d041",
     "showTitle": false,
     "title": ""
    }
   },
   "source": [
    "##### Tox codes-names: phenotyping.mprint_infant_tox_lab_name_sheet_4\n",
    "##### Search in measurement table to get lab value for baby\n",
    "##### the lab value (value_source_value) need to be 'present' or 'positive'"
   ]
  },
  {
   "cell_type": "code",
   "execution_count": 0,
   "metadata": {
    "ExecuteTime": {
     "end_time": "2023-01-09T18:44:05.453786Z",
     "start_time": "2023-01-09T18:44:05.283077Z"
    },
    "application/vnd.databricks.v1+cell": {
     "cellMetadata": {},
     "inputWidgets": {},
     "nuid": "0f41c697-3701-4950-a127-c3b41d6855cc",
     "showTitle": false,
     "title": ""
    }
   },
   "outputs": [],
   "source": [
    "sql=f\"select * from {infant_tox_lab_list};\"\n",
    "spark.sql(sql).display()"
   ]
  },
  {
   "cell_type": "code",
   "execution_count": 0,
   "metadata": {
    "application/vnd.databricks.v1+cell": {
     "cellMetadata": {},
     "inputWidgets": {},
     "nuid": "960d6a88-61c6-462a-b309-078c7b8e8aec",
     "showTitle": false,
     "title": ""
    }
   },
   "outputs": [],
   "source": [
    "sql=f\"\"\"\n",
    "       select b.FACT_ID_2 as baby_person_id, allrecord.* from \n",
    "       (\n",
    "           select * from \n",
    "          (\n",
    "           SELECT * FROM {meas_table} WHERE lower(trim(measurement_source_value)) in \n",
    "           (SELECT lower_lab_short_name FROM {infant_tox_lab_list})\n",
    "           union\n",
    "           SELECT * FROM {meas_table} WHERE lower(trim(measurement_source_value)) in \n",
    "           (SELECT lower_lab_long_name FROM {infant_tox_lab_list})\n",
    "           ) as union_result\n",
    "           where lower(value_source_value) = 'present' or lower(value_source_value) = 'positive'\n",
    "        ) as allrecord\n",
    "        inner join \n",
    "        global_temp.mom_baby_step1 b\n",
    "        on allrecord.person_id = b.FACT_ID_2 ;\n",
    "    \"\"\"\n",
    "\n",
    "infant_tox_lab = spark.sql(sql)\n",
    "infant_tox_lab.name='infant_tox_lab'\n",
    "register_parquet_global_view(infant_tox_lab)"
   ]
  },
  {
   "cell_type": "markdown",
   "metadata": {
    "application/vnd.databricks.v1+cell": {
     "cellMetadata": {},
     "inputWidgets": {},
     "nuid": "ec0e429e-0231-41e8-8d52-ec14d38c34f6",
     "showTitle": false,
     "title": ""
    }
   },
   "source": [
    "##### Validation"
   ]
  },
  {
   "cell_type": "code",
   "execution_count": 0,
   "metadata": {
    "ExecuteTime": {
     "end_time": "2023-01-09T18:48:00.269027Z",
     "start_time": "2023-01-09T18:47:48.841299Z"
    },
    "application/vnd.databricks.v1+cell": {
     "cellMetadata": {},
     "inputWidgets": {},
     "nuid": "36a5ed7c-ae83-4b2c-8b56-6bba5a540d78",
     "showTitle": false,
     "title": ""
    }
   },
   "outputs": [],
   "source": [
    "df_inspection(\"global_temp.infant_tox_lab\",\"baby\")"
   ]
  }
 ],
 "metadata": {
  "application/vnd.databricks.v1+notebook": {
   "dashboards": [],
   "language": "python",
   "notebookMetadata": {
    "pythonIndentUnit": 4
   },
   "notebookName": "8_child_positive_opioid_toxicology",
   "widgets": {}
  },
  "kernelspec": {
   "display_name": "Python 3 (ipykernel)",
   "language": "python",
   "name": "python3"
  },
  "language_info": {
   "codemirror_mode": {
    "name": "ipython",
    "version": 3
   },
   "file_extension": ".py",
   "mimetype": "text/x-python",
   "name": "python",
   "nbconvert_exporter": "python",
   "pygments_lexer": "ipython3",
   "version": "3.9.12"
  }
 },
 "nbformat": 4,
 "nbformat_minor": 0
}
