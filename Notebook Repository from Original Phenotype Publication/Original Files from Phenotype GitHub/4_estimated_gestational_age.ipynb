{
 "cells": [
  {
   "cell_type": "markdown",
   "metadata": {
    "application/vnd.databricks.v1+cell": {
     "cellMetadata": {},
     "inputWidgets": {},
     "nuid": "61eff7fc-0821-4f2a-a04a-f099f9e2a34e",
     "showTitle": false,
     "title": ""
    }
   },
   "source": [
    "# Project: Performance of phenotype algorithms for the identification of opioid-exposed infants, Andrew D. Wiese et al. Hospital Pediatrics 2024\n",
    "# Title: Extract estimated gestational age for infant\n",
    "# Summary: \n",
    "## Extract and clean estimated gestational age and only include infants with >=33 weeks gestation \n",
    "\n",
    "# Notes:\n",
    "- Estimated time of conception is also calculated after extracting estimated gestational age using the formula: Baby Date of Birth - estimated gestational age + 14 days"
   ]
  },
  {
   "cell_type": "markdown",
   "metadata": {
    "application/vnd.databricks.v1+cell": {
     "cellMetadata": {},
     "inputWidgets": {},
     "nuid": "749c72f7-9b9f-41d8-9541-369beab6fe73",
     "showTitle": false,
     "title": ""
    }
   },
   "source": [
    "\n",
    "##### Algorithm steps:\n",
    "```\n",
    "1. Obtain EGA info from OBSERVATION table joining with FACT_RELATIONSHIP and CONCEPT tables\n",
    "2. Transform EGA string (e.g. 38w 6d) to total days (e.g. 272)\n",
    "3. Ingest data and for duplicate baby IDs, pick record with largest total EGA days\n",
    "4. Validate results\n",
    "5. For same total EGA days, pick record with oldest observation date \n",
    "6. Validate results\n",
    "7. Remove value_as_string column and make distinct records\n",
    "8. Validate results\n",
    "9. Identify records with 0 weeks EGA as uncertain\n",
    "10. For EGA >=33 weeks or uncertain, calculate conception date as:\n",
    "    - Conception Date = Baby Date of Birth - Length of Gestation + 14 days\n",
    "11. Validate results\n",
    "```\n",
    "\n",
    "##### Data Dictionaries:\n",
    "\n",
    "**ega_raw_df**: EGA info from OBSERVATION table   \n",
    "\n",
    "**ega_df**: EGA data after transforming string to total days\n",
    "\n",
    "**largest_ega_df**: Picked largest total EGA days for duplicate baby IDs \n",
    "\n",
    "**largest_ega_earliest_obs_date_df**: Added filter to pick oldest observation date for same total EGA days\n",
    "\n",
    "**ega_distinct_df**: Removed value_as_string column and made distinct records\n",
    "\n",
    "**gestational_age_uncertain_df**: Filtered for 0 weeks EGA as uncertain\n",
    "\n",
    "**ega_w33_or_uncertain_gestation_date**: Calculated conception date for EGA >=33 weeks or uncertain\n",
    "\n",
    "##### Usage Notes:\n",
    "```\n",
    "- EGA data is extracted from the OBSERVATION table joining with FACT_RELATIONSHIP and CONCEPT tables\n",
    "- Duplicate EGA records per baby are resolved by picking the largest total EGA days\n",
    "- For same total EGA days, the record with the oldest observation date is picked \n",
    "- Records with 0 weeks EGA are marked as uncertain\n",
    "- Conception date is calculated as Baby Date of Birth - Length of Gestation + 14 days\n",
    "- Final output table contains the calculated conception date for EGA >=33 weeks or uncertain\n",
    "```"
   ]
  },
  {
   "cell_type": "code",
   "execution_count": 0,
   "metadata": {
    "ExecuteTime": {
     "end_time": "2023-01-09T15:40:02.332832Z",
     "start_time": "2023-01-09T15:40:02.319646Z"
    },
    "application/vnd.databricks.v1+cell": {
     "cellMetadata": {
      "byteLimit": 2048000,
      "rowLimit": 10000
     },
     "inputWidgets": {},
     "nuid": "df050983-29ee-4f1a-93ce-788b45c1e208",
     "showTitle": false,
     "title": ""
    }
   },
   "outputs": [],
   "source": [
    "%run \"./project_modules\""
   ]
  },
  {
   "cell_type": "markdown",
   "metadata": {
    "application/vnd.databricks.v1+cell": {
     "cellMetadata": {
      "byteLimit": 2048000,
      "rowLimit": 10000
     },
     "inputWidgets": {},
     "nuid": "4c2aa678-895a-4544-8c43-18da954bddb5",
     "showTitle": false,
     "title": ""
    }
   },
   "source": [
    "##### Obtain EGA info from OBSERVATION table based on mom-baby pairs from FACT_RELATIONSHIP table then change EGA time format for later use (e.g., 38w 6d = 272 total EGA days)"
   ]
  },
  {
   "cell_type": "code",
   "execution_count": 0,
   "metadata": {
    "application/vnd.databricks.v1+cell": {
     "cellMetadata": {
      "byteLimit": 2048000,
      "rowLimit": 10000
     },
     "inputWidgets": {},
     "nuid": "15487ec9-24d3-4c67-9854-321bfd476388",
     "showTitle": false,
     "title": ""
    }
   },
   "outputs": [],
   "source": [
    "sql = f\"\"\"\n",
    "      select fact_id_1 as mom_person_id, fact_id_2 as baby_person_id, birth_datetime,person_source_value as baby_person_source_value, observation_date, value_as_string, observation_concept_id, concept_name from\n",
    "     (\n",
    "      select * from global_temp.mom_baby_step1 a\n",
    "      left join {obs_table} b\n",
    "      on a.fact_id_1=b.person_id\n",
    "      where abs(datediff(observation_datetime,birth_datetime))<=2\n",
    "     ) as a\n",
    "     left join {concept_table}\n",
    "     on observation_concept_id=CONCEPT_ID\n",
    "     where lower(concept_name) like '%gestation%';\n",
    "\"\"\" \n",
    "ega_raw_df = spark.sql(sql) #value_as_string: 38w 6d = 272 total EGA days\n",
    "cal_ega(ega_raw_df,'value_as_string').createOrReplaceTempView(\"ega_info\")"
   ]
  },
  {
   "cell_type": "markdown",
   "metadata": {
    "application/vnd.databricks.v1+cell": {
     "cellMetadata": {
      "byteLimit": 2048000,
      "rowLimit": 10000
     },
     "inputWidgets": {},
     "nuid": "c40df08f-2556-48a3-a94c-4b05a76cd797",
     "showTitle": false,
     "title": ""
    }
   },
   "source": [
    "##### This table has the duplicate rows. Please ingest and pick the largest EGA (suggest to use the total ega days column) for any duplicate rows."
   ]
  },
  {
   "cell_type": "code",
   "execution_count": 0,
   "metadata": {
    "ExecuteTime": {
     "end_time": "2023-01-09T15:40:29.067610Z",
     "start_time": "2023-01-09T15:40:20.897052Z"
    },
    "application/vnd.databricks.v1+cell": {
     "cellMetadata": {
      "byteLimit": 2048000,
      "rowLimit": 10000
     },
     "inputWidgets": {},
     "nuid": "1d195d34-1fc1-476a-a11f-a367a516eab6",
     "showTitle": false,
     "title": ""
    },
    "code_folding": []
   },
   "outputs": [],
   "source": [
    "sql=\"\"\"\n",
    "    select mom_person_id,birth_datetime,baby_person_id,birth_datetime as baby_dob,observation_date,\n",
    "    value_as_string,observation_concept_id,concept_name,ega_week as weeks,ega_day as days,total_ega_days from \n",
    "    ega_info\n",
    "    \"\"\"\n",
    "ega_df = spark.sql(sql)\n",
    "ega_df.createOrReplaceTempView(\"ega_df\")"
   ]
  },
  {
   "cell_type": "markdown",
   "metadata": {
    "application/vnd.databricks.v1+cell": {
     "cellMetadata": {
      "byteLimit": 2048000,
      "rowLimit": 10000
     },
     "inputWidgets": {},
     "nuid": "f578f2f8-e952-4598-a850-90be73d1734f",
     "showTitle": false,
     "title": ""
    }
   },
   "source": [
    "##### Validation"
   ]
  },
  {
   "cell_type": "code",
   "execution_count": 0,
   "metadata": {
    "ExecuteTime": {
     "end_time": "2023-01-09T15:41:27.255129Z",
     "start_time": "2023-01-09T15:41:27.030660Z"
    },
    "application/vnd.databricks.v1+cell": {
     "cellMetadata": {
      "byteLimit": 2048000,
      "rowLimit": 10000
     },
     "inputWidgets": {},
     "nuid": "5c9cad76-905a-4ebc-81ac-242d4b2c1e57",
     "showTitle": false,
     "title": ""
    }
   },
   "outputs": [],
   "source": [
    "df_inspection(\"ega_df\",\"all\")"
   ]
  },
  {
   "cell_type": "code",
   "execution_count": 0,
   "metadata": {
    "application/vnd.databricks.v1+cell": {
     "cellMetadata": {
      "byteLimit": 2048000,
      "rowLimit": 10000
     },
     "inputWidgets": {},
     "nuid": "8640d20e-1152-4544-8ae6-0eac13187ac1",
     "showTitle": false,
     "title": ""
    }
   },
   "outputs": [],
   "source": [
    "sql=\"\"\"\n",
    "       select distinct a.*,b.max_total_ega_days from ega_df a\n",
    "       join\n",
    "       (select baby_person_id,max(total_ega_days) as max_total_ega_days\n",
    "       from ega_df\n",
    "       group by (baby_person_id)\n",
    "       ) b\n",
    "       on a.baby_person_id = b.baby_person_id and a.total_ega_days = b.max_total_ega_days;\n",
    "    \"\"\"\n",
    "largest_ega_df = spark.sql(sql)\n",
    "largest_ega_df.createOrReplaceTempView(\"largest_ega_df\")"
   ]
  },
  {
   "cell_type": "markdown",
   "metadata": {
    "application/vnd.databricks.v1+cell": {
     "cellMetadata": {
      "byteLimit": 2048000,
      "rowLimit": 10000
     },
     "inputWidgets": {},
     "nuid": "feac8fcb-4fb2-4cad-a163-9a7d80327f23",
     "showTitle": false,
     "title": ""
    }
   },
   "source": [
    "##### Validation"
   ]
  },
  {
   "cell_type": "code",
   "execution_count": 0,
   "metadata": {
    "ExecuteTime": {
     "end_time": "2023-01-09T15:44:19.025985Z",
     "start_time": "2023-01-09T15:44:14.752672Z"
    },
    "application/vnd.databricks.v1+cell": {
     "cellMetadata": {
      "byteLimit": 2048000,
      "rowLimit": 10000
     },
     "inputWidgets": {},
     "nuid": "3c7f9be4-1791-4da9-9463-a05fcbf085c1",
     "showTitle": false,
     "title": ""
    }
   },
   "outputs": [],
   "source": [
    "df_inspection(\"largest_ega_df\",\"all\")"
   ]
  },
  {
   "cell_type": "markdown",
   "metadata": {
    "application/vnd.databricks.v1+cell": {
     "cellMetadata": {
      "byteLimit": 2048000,
      "rowLimit": 10000
     },
     "inputWidgets": {},
     "nuid": "207144db-fbe6-484a-9185-927f72b0cde4",
     "showTitle": false,
     "title": ""
    }
   },
   "source": [
    "##### Note: has same length_of_gestation, but different observation_date, then pick the oldest observation_date\n",
    "\n",
    "##### Example:\n",
    "- 123|1980-09-29 00:00:00|6 238 210|2012-07-17 00:00:00|2012-07-17|39|40 485 048|Estimated fetal gestational age at delivery|39|0|273|273\n",
    "- 123|1980-09-29 00:00:00|6 238 210|2012-07-17 00:00:00|2012-07-18|39 weeks|40 485 048|Estimated fetal gestational age at delivery|39|0|273|273"
   ]
  },
  {
   "cell_type": "code",
   "execution_count": 0,
   "metadata": {
    "application/vnd.databricks.v1+cell": {
     "cellMetadata": {
      "byteLimit": 2048000,
      "rowLimit": 10000
     },
     "inputWidgets": {},
     "nuid": "f9dd0656-8545-4836-8a60-4e0f2f3165e3",
     "showTitle": false,
     "title": ""
    }
   },
   "outputs": [],
   "source": [
    "sql=\"\"\"\n",
    "       select distinct a.* from largest_ega_df a\n",
    "       join \n",
    "       (select baby_person_id,min(observation_date) as min_observation_date\n",
    "       from largest_ega_df\n",
    "       group by (baby_person_id)) b\n",
    "       on a.baby_person_id = b.baby_person_id and a.observation_date = b.min_observation_date;\n",
    "    \"\"\"\n",
    "largest_ega_earliest_obs_date_df = spark.sql(sql)\n",
    "largest_ega_earliest_obs_date_df.createOrReplaceTempView(\"largest_ega_earliest_obs_date_df\")"
   ]
  },
  {
   "cell_type": "markdown",
   "metadata": {
    "application/vnd.databricks.v1+cell": {
     "cellMetadata": {
      "byteLimit": 2048000,
      "rowLimit": 10000
     },
     "inputWidgets": {},
     "nuid": "3d5c1b3b-7399-428e-a67b-eae8e83883b5",
     "showTitle": false,
     "title": ""
    }
   },
   "source": [
    "##### Validation"
   ]
  },
  {
   "cell_type": "code",
   "execution_count": 0,
   "metadata": {
    "ExecuteTime": {
     "end_time": "2023-01-09T15:47:29.799097Z",
     "start_time": "2023-01-09T15:47:27.846092Z"
    },
    "application/vnd.databricks.v1+cell": {
     "cellMetadata": {
      "byteLimit": 2048000,
      "rowLimit": 10000
     },
     "inputWidgets": {},
     "nuid": "61ce8487-e756-4d4e-9556-0403c83a6c56",
     "showTitle": false,
     "title": ""
    }
   },
   "outputs": [],
   "source": [
    "df_inspection(\"largest_ega_earliest_obs_date_df\",\"all\")"
   ]
  },
  {
   "cell_type": "markdown",
   "metadata": {
    "application/vnd.databricks.v1+cell": {
     "cellMetadata": {
      "byteLimit": 2048000,
      "rowLimit": 10000
     },
     "inputWidgets": {},
     "nuid": "8c83533f-c6e6-4ba9-b259-66aa5689edd9",
     "showTitle": false,
     "title": ""
    }
   },
   "source": [
    "##### Note: has same numbers as ega value, but different info in the column 'value_as_string', remove this column,\n",
    "##### then make it distinct\n",
    "\n",
    "##### Example:\n",
    "- 333|1985-08-10 00:00:00|5 107 413|2013-12-15 00:00:00|2013-12-15|38 6/7 weeks|40 485 048|Estimated fetal gestational age at delivery|38|6|272|272\n",
    "- 333|1985-08-10 00:00:00|5 107 413|2013-12-15 00:00:00|2013-12-15|38 6/7|40 485 048|Estimated fetal gestational age at delivery|38|6|272|272"
   ]
  },
  {
   "cell_type": "code",
   "execution_count": 0,
   "metadata": {
    "application/vnd.databricks.v1+cell": {
     "cellMetadata": {
      "byteLimit": 2048000,
      "rowLimit": 10000
     },
     "inputWidgets": {},
     "nuid": "f11a5a7f-a108-43f0-81ef-47065f2cac61",
     "showTitle": false,
     "title": ""
    }
   },
   "outputs": [],
   "source": [
    "sql=\"\"\"\n",
    "    select distinct mom_person_id,baby_person_id,baby_dob,observation_date,weeks,days,max_total_ega_days \n",
    "    from largest_ega_earliest_obs_date_df;\n",
    "    \"\"\"\n",
    "ega_distinct_df = spark.sql(sql)\n",
    "ega_distinct_df.createOrReplaceTempView(\"ega_distinct_df\")"
   ]
  },
  {
   "cell_type": "markdown",
   "metadata": {
    "application/vnd.databricks.v1+cell": {
     "cellMetadata": {
      "byteLimit": 2048000,
      "rowLimit": 10000
     },
     "inputWidgets": {},
     "nuid": "bc6d1f6a-995f-49d7-9f18-2e12507fbac5",
     "showTitle": false,
     "title": ""
    }
   },
   "source": [
    "##### Validation"
   ]
  },
  {
   "cell_type": "code",
   "execution_count": 0,
   "metadata": {
    "ExecuteTime": {
     "end_time": "2023-01-09T15:54:17.989148Z",
     "start_time": "2023-01-09T15:54:17.445807Z"
    },
    "application/vnd.databricks.v1+cell": {
     "cellMetadata": {
      "byteLimit": 2048000,
      "rowLimit": 10000
     },
     "inputWidgets": {},
     "nuid": "8f8b4787-f368-4a5b-a1a2-042161f83821",
     "showTitle": false,
     "title": ""
    }
   },
   "outputs": [],
   "source": [
    "df_inspection(\"ega_distinct_df\",\"all\")"
   ]
  },
  {
   "cell_type": "code",
   "execution_count": 0,
   "metadata": {
    "ExecuteTime": {
     "end_time": "2023-01-09T15:54:27.103610Z",
     "start_time": "2023-01-09T15:54:26.575539Z"
    },
    "application/vnd.databricks.v1+cell": {
     "cellMetadata": {
      "byteLimit": 2048000,
      "rowLimit": 10000
     },
     "inputWidgets": {},
     "nuid": "3c74b855-23d2-40ad-910e-36d581eae753",
     "showTitle": false,
     "title": ""
    }
   },
   "outputs": [],
   "source": [
    "#--The ega is uncertain\n",
    "sql=\"\"\"\n",
    "     select count(distinct mom_person_id) as unique_mom,count(distinct baby_person_id) as unique_baby, count(*) as total \n",
    "     from ega_distinct_df where weeks = 0;\n",
    "    \"\"\"\n",
    "insp_df = spark.sql(sql)\n",
    "insp_df.display()"
   ]
  },
  {
   "cell_type": "code",
   "execution_count": 0,
   "metadata": {
    "application/vnd.databricks.v1+cell": {
     "cellMetadata": {
      "byteLimit": 2048000,
      "rowLimit": 10000
     },
     "inputWidgets": {},
     "nuid": "8d54818e-d255-4da0-8a96-9d56a22595e1",
     "showTitle": false,
     "title": ""
    }
   },
   "outputs": [],
   "source": [
    "sql=\"\"\"\n",
    "     select * from ega_distinct_df where weeks = 0;\n",
    "    \"\"\"\n",
    "gestational_age_uncertain_df = spark.sql(sql)\n",
    "gestational_age_uncertain_df.createOrReplaceTempView(\"gestational_age_uncertain_df\")"
   ]
  },
  {
   "cell_type": "markdown",
   "metadata": {
    "application/vnd.databricks.v1+cell": {
     "cellMetadata": {
      "byteLimit": 2048000,
      "rowLimit": 10000
     },
     "inputWidgets": {},
     "nuid": "0ebe7ab7-f3fc-4a9f-9b40-b62afd2a4254",
     "showTitle": false,
     "title": ""
    }
   },
   "source": [
    "##### Conception Date: (baby date of birth - length of gestation) + 14 days. For the code application, in the code 'start_gestation_date' means 'Conception Date'\n",
    "##### For example, if the first day of the last period was March 11 and you recently had a positive pregnancy test, your first day of pregnancy is March 11 (and not the day of conception)"
   ]
  },
  {
   "cell_type": "code",
   "execution_count": 0,
   "metadata": {
    "application/vnd.databricks.v1+cell": {
     "cellMetadata": {
      "byteLimit": 2048000,
      "rowLimit": 10000
     },
     "inputWidgets": {},
     "nuid": "3ffe1f81-b304-47b5-9e0a-e286de393e0e",
     "showTitle": false,
     "title": ""
    }
   },
   "outputs": [],
   "source": [
    "sql=\"\"\"\n",
    "     select *,\n",
    "     case when weeks = 0 then 'uncertain' else 'week >= 33' end as if_33w_or_uncertain,\n",
    "     case when weeks != 0 then max_total_ega_days else  330  end as length_of_gestation\n",
    "     from \n",
    "     (select * from ega_distinct_df where weeks >= 33 or weeks = 0) w33_or_uncertain;\n",
    "    \"\"\"\n",
    "\n",
    "ega_w33_or_uncertain_gestation_date1 = spark.sql(sql)\n",
    "\n",
    "ega_w33_or_uncertain_gestation_date1=ega_w33_or_uncertain_gestation_date1.withColumn(\"length_of_gestation\",ega_w33_or_uncertain_gestation_date1[\"length_of_gestation\"].cast(IntegerType()))\n",
    "\n",
    "ega_w33_or_uncertain_gestation_date=ega_w33_or_uncertain_gestation_date1.withColumn('estimated_gestation_date',\n",
    "                       F.expr(\"date_sub(BABY_DOB, length_of_gestation)\"))\n",
    "\n",
    "ega_w33_or_uncertain_gestation_date=ega_w33_or_uncertain_gestation_date.withColumn('start_gestation_date',\n",
    "                       F.expr(\"date_sub(BABY_DOB, length_of_gestation-14)\"))\n",
    "\n",
    "\n",
    "ega_w33_or_uncertain_gestation_date.name='ega_w33_or_uncertain_gestation_date'\n",
    "register_parquet_global_view(ega_w33_or_uncertain_gestation_date)"
   ]
  },
  {
   "cell_type": "markdown",
   "metadata": {
    "application/vnd.databricks.v1+cell": {
     "cellMetadata": {
      "byteLimit": 2048000,
      "rowLimit": 10000
     },
     "inputWidgets": {},
     "nuid": "4ab88cbf-cf5e-46bb-b63b-fe3277207bc2",
     "showTitle": false,
     "title": ""
    }
   },
   "source": [
    "##### Validation"
   ]
  },
  {
   "cell_type": "code",
   "execution_count": 0,
   "metadata": {
    "ExecuteTime": {
     "end_time": "2023-01-09T15:58:19.966309Z",
     "start_time": "2023-01-09T15:58:17.880350Z"
    },
    "application/vnd.databricks.v1+cell": {
     "cellMetadata": {
      "byteLimit": 2048000,
      "rowLimit": 10000
     },
     "inputWidgets": {},
     "nuid": "5c5de809-e36f-41f3-9979-d1ea9b258674",
     "showTitle": false,
     "title": ""
    }
   },
   "outputs": [],
   "source": [
    "df_inspection(\"global_temp.ega_w33_or_uncertain_gestation_date\",\"all\")"
   ]
  }
 ],
 "metadata": {
  "application/vnd.databricks.v1+notebook": {
   "dashboards": [],
   "language": "python",
   "notebookMetadata": {
    "mostRecentlyExecutedCommandWithImplicitDF": {
     "commandId": 12387770580160,
     "dataframes": [
      "_sqldf"
     ]
    },
    "pythonIndentUnit": 4
   },
   "notebookName": "4_estimated_gestational_age",
   "widgets": {}
  },
  "kernelspec": {
   "display_name": "Python 3 (ipykernel)",
   "language": "python",
   "name": "python3"
  },
  "language_info": {
   "codemirror_mode": {
    "name": "ipython",
    "version": 3
   },
   "file_extension": ".py",
   "mimetype": "text/x-python",
   "name": "python",
   "nbconvert_exporter": "python",
   "pygments_lexer": "ipython3",
   "version": "3.9.12"
  }
 },
 "nbformat": 4,
 "nbformat_minor": 0
}
