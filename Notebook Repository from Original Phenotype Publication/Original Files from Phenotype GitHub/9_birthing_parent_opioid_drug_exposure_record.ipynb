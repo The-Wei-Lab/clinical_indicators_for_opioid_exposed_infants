{
 "cells": [
  {
   "cell_type": "markdown",
   "metadata": {
    "application/vnd.databricks.v1+cell": {
     "cellMetadata": {},
     "inputWidgets": {},
     "nuid": "8779d1aa-455f-40f4-9b9c-e63955288480",
     "showTitle": false,
     "title": ""
    }
   },
   "source": [
    "# Project: Performance of phenotype algorithms for the identification of opioid-exposed infants, Andrew D. Wiese et al. Hospital Pediatrics 2024\n",
    "# Title: Identify birthing parents with evidence of outpatient opioid drug exposure from drug exposure data\n",
    "# Summary: \n",
    "## Identify birthing parents with evidence of outpatient opioid drug exposure from drug exposure data from 30 to 2 days prior to delivery\n",
    "\n",
    "# Notes:\n",
    "- x_drug_exposure is a VUMC specific table containing extra information about drug exposures. This table was used to filter for outpatient drug exposures based on the source document, e.g. EPIC OP ORDERS. This was in addition to using the visit_occurence_id to select for outpatient drug exposures."
   ]
  },
  {
   "cell_type": "markdown",
   "metadata": {
    "application/vnd.databricks.v1+cell": {
     "cellMetadata": {},
     "inputWidgets": {},
     "nuid": "b2d20a06-3fc5-408f-8396-04bffff50258",
     "showTitle": false,
     "title": ""
    }
   },
   "source": [
    "##### Algorithm steps:\n",
    "```\n",
    "1.Load person table\n",
    "2.Load mom-baby table\n",
    "3.Filter mom-baby table to births after 2010\n",
    "4.Join filtered table to person to get mom-baby pairs\n",
    "5.Load drug exposure table\n",
    "6.Filter drug exposure table to moms in pairs\n",
    "7.Join drug exposure with opioid search terms on drug name\n",
    "8.Filter out excluded drugs from join\n",
    "9.Join back to mom-baby pairs table \n",
    "10.Filter to drugs 30 days before birth\n",
    "11.Join to drug exposure extra table (VUMC only)\n",
    "12.Join back to original drug exposure table\n",
    "13.Filter for outpatient records:\n",
    "    - Has occurrence ID and visit concept ID 9202\n",
    "    - No occurrence ID but visit end date:\n",
    "        - Visit start <= drug start <= visit end\n",
    "    - No occurrence ID, visit end date null:\n",
    "        - Visit start <= drug start <= visit end + 3 days \n",
    "    - Has x_doc_type indicating an out-patient visit\n",
    "14. Ouput final filtering and selected columns\n",
    "```\n",
    "\n",
    "##### Data Dictionaries:\n",
    "\n",
    "**person**: Person dimension table  \n",
    "**mom_baby_step1**: Table with mom-baby pairs and birth dates   \n",
    "**drug_exposure**: Table with drug exposures for persons  \n",
    "**mom_drug_search_term_list**: List of opioid search terms  \n",
    "\n",
    "**mom_baby_step1_2010_mombabypair**: Filtered mom-baby pairs to those after 2010  \n",
    "**drug_exp_mom_df**: Drug exposures for moms in pairs  \n",
    "**mom_drug_info**: Joined drug exposures and search terms  \n",
    "**mom_opioid_within_dob_30days**: Filtered to 30 days before birth  \n",
    "**mom_opioid_within_dob_30days_extra**: Joined to drug exposure extra table  \n",
    "**mom_opioid_within_dob_30days_all**: Joined back to original drug exposure  \n",
    "**mom_drug_dob30days_all_doctype_op**: Final output table  \n",
    "\n",
    "##### Usage Notes:\n",
    "\n",
    "- This pipeline focuses on moms exposed to opioids in the 30 days before giving birth, using outpatient prescription data\n",
    "- Uses a list of opioid search terms to identify relevant drugs\n",
    "- Filters out certain excluded drugs not considered opioids for this analysis\n",
    "- Handles different cases in defining outpatient records based on occurrence IDs and visit start/end dates\n",
    "- Output table contains one row per opioid prescription for a mom in defined period before birth"
   ]
  },
  {
   "cell_type": "code",
   "execution_count": 0,
   "metadata": {
    "ExecuteTime": {
     "end_time": "2023-01-09T21:24:12.704232Z",
     "start_time": "2023-01-09T21:24:12.690594Z"
    },
    "application/vnd.databricks.v1+cell": {
     "cellMetadata": {
      "byteLimit": 2048000,
      "rowLimit": 10000
     },
     "inputWidgets": {},
     "nuid": "f9b4339b-dab3-4f16-9113-a73402ebf4d7",
     "showTitle": false,
     "title": ""
    }
   },
   "outputs": [],
   "source": [
    "%run \"./project_modules\""
   ]
  },
  {
   "cell_type": "markdown",
   "metadata": {
    "application/vnd.databricks.v1+cell": {
     "cellMetadata": {
      "byteLimit": 2048000,
      "rowLimit": 10000
     },
     "inputWidgets": {},
     "nuid": "87117a66-5558-4122-89e3-136333cfc496",
     "showTitle": false,
     "title": ""
    }
   },
   "source": [
    "##### MOM exposed to OPIOID DRUG (in table drug_exposure)\n",
    "- Use the DRUG_DOC_TYPE to define the outpatient drug exposure\n",
    "- Use Opioid Search Terms - phenotyping.mprint_mom_drug_search_term_v2\n",
    "- Remove drug: albuterol, ultramin, opium,oms\n",
    "- Time limit: Maternal opioid prescriptions within 30 days of birth \n",
    "- baby_birth_date - 30 <= drug_exposure_start_date & drug_exposure_start_date < baby_birth_date - 2\n",
    "- Just need the records with outpatient doc_type (x_doc_type = 'RXSTAR' or 'EPIC OP ORDER' or 'EPIC HIST MED')"
   ]
  },
  {
   "cell_type": "code",
   "execution_count": 0,
   "metadata": {
    "application/vnd.databricks.v1+cell": {
     "cellMetadata": {
      "byteLimit": 2048000,
      "implicitDf": true,
      "rowLimit": 10000
     },
     "inputWidgets": {},
     "nuid": "9b0d9001-e188-4b76-8917-2b2f9c02d3b8",
     "showTitle": false,
     "title": ""
    }
   },
   "outputs": [],
   "source": [
    "%sql\n",
    "--- Default bin size for range join optimization for all datetime comparision\n",
    "SET spark.databricks.optimizer.rangeJoin.binSize=90"
   ]
  },
  {
   "cell_type": "markdown",
   "metadata": {
    "application/vnd.databricks.v1+cell": {
     "cellMetadata": {
      "byteLimit": 2048000,
      "rowLimit": 10000
     },
     "inputWidgets": {},
     "nuid": "d9740621-7d03-49f0-8ab8-d228cd025eb3",
     "showTitle": false,
     "title": ""
    }
   },
   "source": [
    "##### Focus on the cohort whose birth date after 2010 (optional)"
   ]
  },
  {
   "cell_type": "code",
   "execution_count": 0,
   "metadata": {
    "application/vnd.databricks.v1+cell": {
     "cellMetadata": {
      "byteLimit": 2048000,
      "rowLimit": 10000
     },
     "inputWidgets": {},
     "nuid": "20928089-f822-4c4d-83e3-a90688c2cf8d",
     "showTitle": false,
     "title": ""
    }
   },
   "outputs": [],
   "source": [
    "sql=f\"\"\"\n",
    "       select b.person_id as mom_person_id,\n",
    "       c.person_id as baby_person_id, \n",
    "       a.birth_datetime as baby_birth_datetime from\n",
    "       (select distinct FACT_ID_1,FACT_ID_2,birth_datetime from global_temp.mom_baby_step1 where year(birth_datetime) >=2010) a\n",
    "       inner join {person_table} b on a.FACT_ID_1 = b.person_id\n",
    "       inner join {person_table} c on a.FACT_ID_2 = c.person_id;\n",
    "      \n",
    "    \"\"\"\n",
    "   \n",
    "mom_baby_step1_2010_mombabypair = spark.sql(sql)\n",
    "mom_baby_step1_2010_mombabypair.name='mom_baby_step1_2010_mombabypair'\n",
    "register_parquet_global_view(mom_baby_step1_2010_mombabypair)"
   ]
  },
  {
   "cell_type": "code",
   "execution_count": 0,
   "metadata": {
    "application/vnd.databricks.v1+cell": {
     "cellMetadata": {
      "byteLimit": 2048000,
      "rowLimit": 10000
     },
     "inputWidgets": {},
     "nuid": "45932ff0-22dc-40b5-a843-76397365b098",
     "showTitle": false,
     "title": ""
    }
   },
   "outputs": [],
   "source": [
    "sql=f\"\"\"\n",
    "     select drug_exposure_id,person_id,drug_exposure_start_date,drug_exposure_end_date,\n",
    "     lower(trim(drug_source_value)) as drug_source_value,drug_source_concept_id,visit_occurrence_id,drug_concept_id,drug_exposure_start_datetime,drug_exposure_end_datetime,verbatim_end_date,drug_type_concept_id,stop_reason,refills,quantity,days_supply,sig,route_concept_id,lot_number,provider_id,route_source_value,dose_unit_source_value,x_drug_type_source_concept_id \n",
    "     from {drug_exp_table} where person_id in \n",
    "     (select mom_person_id from global_temp.mom_baby_step1_2010_mombabypair) \n",
    "    \"\"\"\n",
    "\n",
    "drugexp_mombabypair_df = spark.sql(sql)\n",
    "drugexp_mombabypair_df.name='drug_exp_mom_df'\n",
    "register_parquet_global_view(drugexp_mombabypair_df)"
   ]
  },
  {
   "cell_type": "code",
   "execution_count": 0,
   "metadata": {
    "application/vnd.databricks.v1+cell": {
     "cellMetadata": {
      "byteLimit": 2048000,
      "rowLimit": 10000
     },
     "inputWidgets": {},
     "nuid": "b1ebc460-c4b1-4145-ae33-f5bcb5dd0b4c",
     "showTitle": false,
     "title": ""
    }
   },
   "outputs": [],
   "source": [
    "display(drugexp_mombabypair_df)"
   ]
  },
  {
   "cell_type": "markdown",
   "metadata": {
    "ExecuteTime": {
     "end_time": "2023-01-09T19:13:44.631902Z",
     "start_time": "2023-01-09T19:13:44.629262Z"
    },
    "application/vnd.databricks.v1+cell": {
     "cellMetadata": {
      "byteLimit": 2048000,
      "rowLimit": 10000
     },
     "inputWidgets": {},
     "nuid": "b06d7205-8ca1-40f5-b482-33e423506ca1",
     "showTitle": false,
     "title": ""
    }
   },
   "source": [
    "##### Search in table 'drug_exposure'"
   ]
  },
  {
   "cell_type": "code",
   "execution_count": 0,
   "metadata": {
    "application/vnd.databricks.v1+cell": {
     "cellMetadata": {
      "byteLimit": 2048000,
      "rowLimit": 10000
     },
     "inputWidgets": {},
     "nuid": "05608532-1fa0-4ac0-9232-dafd10a0c052",
     "showTitle": false,
     "title": ""
    }
   },
   "outputs": [],
   "source": [
    "df1=spark.sql(f\"select * from global_temp.drug_exp_mom_df\")\n",
    "df2=spark.sql(f\"select * from {mom_drug_search_term_list}\")\n",
    "merged_df = df1.join(F.broadcast(df2), df1.drug_source_value.contains(df2[\"generic\"]), \"inner\")\n",
    "mom_drug_info=merged_df.filter(\"drug_source_value not like '%albuterol%' and drug_source_value not like '%ultramini%'\")\n",
    "\n",
    "mom_drug_info.name='mom_drug_info'\n",
    "register_parquet_global_view(mom_drug_info)"
   ]
  },
  {
   "cell_type": "markdown",
   "metadata": {
    "application/vnd.databricks.v1+cell": {
     "cellMetadata": {
      "byteLimit": 2048000,
      "rowLimit": 10000
     },
     "inputWidgets": {},
     "nuid": "59b646e5-a483-467d-a30e-dd44e588a48a",
     "showTitle": false,
     "title": ""
    }
   },
   "source": [
    "##### Validation"
   ]
  },
  {
   "cell_type": "code",
   "execution_count": 0,
   "metadata": {
    "application/vnd.databricks.v1+cell": {
     "cellMetadata": {
      "byteLimit": 2048000,
      "rowLimit": 10000
     },
     "inputWidgets": {},
     "nuid": "a0298de0-8f59-4290-aa50-f0c339320077",
     "showTitle": false,
     "title": ""
    }
   },
   "outputs": [],
   "source": [
    "display(mom_drug_info)"
   ]
  },
  {
   "cell_type": "code",
   "execution_count": 0,
   "metadata": {
    "application/vnd.databricks.v1+cell": {
     "cellMetadata": {
      "byteLimit": 2048000,
      "rowLimit": 10000
     },
     "inputWidgets": {},
     "nuid": "722d5712-af40-43bb-824d-b08f93b229b2",
     "showTitle": false,
     "title": ""
    }
   },
   "outputs": [],
   "source": [
    "sql=\"\"\"\n",
    "    select count(*) as total, count(distinct person_id) as unique_patient from global_temp.mom_drug_info;\n",
    "    \"\"\"\n",
    "inspect_df= spark.sql(sql)\n",
    "inspect_df.display()"
   ]
  },
  {
   "cell_type": "markdown",
   "metadata": {
    "application/vnd.databricks.v1+cell": {
     "cellMetadata": {
      "byteLimit": 2048000,
      "rowLimit": 10000
     },
     "inputWidgets": {},
     "nuid": "0b96c882-73b5-4006-b4b7-6a5308e91763",
     "showTitle": false,
     "title": ""
    }
   },
   "source": [
    "##### Time limit: Maternal opioid prescriptions within 30 days of birth"
   ]
  },
  {
   "cell_type": "code",
   "execution_count": 0,
   "metadata": {
    "application/vnd.databricks.v1+cell": {
     "cellMetadata": {
      "byteLimit": 2048000,
      "rowLimit": 10000
     },
     "inputWidgets": {},
     "nuid": "6ab20257-3f64-42fe-afd3-d1ba9a4507d3",
     "showTitle": false,
     "title": ""
    }
   },
   "outputs": [],
   "source": [
    "sql=\"\"\"\n",
    "       select a.*,b.mom_person_id,b.baby_person_id,b.baby_birth_datetime from global_temp.mom_drug_info a,\n",
    "       global_temp.mom_baby_step1_2010_mombabypair b\n",
    "       where a.person_id = b.mom_person_id\n",
    "       and date_sub(baby_birth_datetime, 30)<= drug_exposure_start_date and \n",
    "       drug_exposure_start_date < date_sub(baby_birth_datetime,2);\n",
    "    \"\"\"\n",
    "\n",
    "mom_opioid_within_dob_30days = spark.sql(sql)\n",
    "mom_opioid_within_dob_30days.name='mom_opioid_within_dob_30days'\n",
    "register_parquet_global_view(mom_opioid_within_dob_30days)"
   ]
  },
  {
   "cell_type": "markdown",
   "metadata": {
    "application/vnd.databricks.v1+cell": {
     "cellMetadata": {
      "byteLimit": 2048000,
      "rowLimit": 10000
     },
     "inputWidgets": {},
     "nuid": "5530bdd0-b943-4bda-bc84-c064bfd9a68d",
     "showTitle": false,
     "title": ""
    }
   },
   "source": [
    "##### Validation"
   ]
  },
  {
   "cell_type": "code",
   "execution_count": 0,
   "metadata": {
    "ExecuteTime": {
     "end_time": "2023-01-09T21:37:14.949678Z",
     "start_time": "2023-01-09T21:31:38.848787Z"
    },
    "application/vnd.databricks.v1+cell": {
     "cellMetadata": {
      "byteLimit": 2048000,
      "rowLimit": 10000
     },
     "inputWidgets": {},
     "nuid": "ef9f6de4-e6b6-48d2-848a-3d59a9601df7",
     "showTitle": false,
     "title": ""
    }
   },
   "outputs": [],
   "source": [
    "sql=\"\"\"\n",
    "     select count(*) as total,count(distinct person_id) as unique_mom from global_temp.mom_opioid_within_dob_30days;\n",
    "    \"\"\"\n",
    "inspect_df= spark.sql(sql)\n",
    "inspect_df.display()"
   ]
  },
  {
   "cell_type": "markdown",
   "metadata": {
    "application/vnd.databricks.v1+cell": {
     "cellMetadata": {
      "byteLimit": 2048000,
      "rowLimit": 10000
     },
     "inputWidgets": {},
     "nuid": "a9e8244c-080d-4af7-a162-94439e5e23d8",
     "showTitle": false,
     "title": ""
    }
   },
   "source": [
    "##### Add the information of X_DRUG_EXPOSURE, expecially the column 'x_doc_type' (VUMC only)"
   ]
  },
  {
   "cell_type": "code",
   "execution_count": 0,
   "metadata": {
    "application/vnd.databricks.v1+cell": {
     "cellMetadata": {
      "byteLimit": 2048000,
      "rowLimit": 10000
     },
     "inputWidgets": {},
     "nuid": "53383905-5df6-4b9f-bea6-0ec75a74ccd5",
     "showTitle": false,
     "title": ""
    }
   },
   "outputs": [],
   "source": [
    "sql=f\"\"\"\n",
    "     select * from global_temp.mom_opioid_within_dob_30days a\n",
    "     inner join \n",
    "     {drug_exp_table_extra} b\n",
    "     using (drug_exposure_id,person_id);\n",
    "    \"\"\"\n",
    "mom_opioid_within_dob_30days_extra= spark.sql(sql)\n",
    "mom_opioid_within_dob_30days_extra.createOrReplaceTempView(\"mom_opioid_within_dob_30days_extra\")"
   ]
  },
  {
   "cell_type": "code",
   "execution_count": 0,
   "metadata": {
    "application/vnd.databricks.v1+cell": {
     "cellMetadata": {
      "byteLimit": 2048000,
      "rowLimit": 10000
     },
     "inputWidgets": {},
     "nuid": "dbaeed02-6f9c-4743-bcf7-ae0d75898edd",
     "showTitle": false,
     "title": ""
    }
   },
   "outputs": [],
   "source": [
    "sql=f\"\"\"\n",
    "     select * from mom_opioid_within_dob_30days_extra a\n",
    "     inner join \n",
    "     (select drug_exposure_id,person_id from {drug_exp_table}) b\n",
    "     using (drug_exposure_id,person_id);\n",
    "    \"\"\"\n",
    "mom_opioid_within_dob_30days_all= spark.sql(sql)\n",
    "mom_opioid_within_dob_30days_all.createOrReplaceTempView(\"mom_opioid_within_dob_30days_all\")"
   ]
  },
  {
   "cell_type": "markdown",
   "metadata": {
    "application/vnd.databricks.v1+cell": {
     "cellMetadata": {
      "byteLimit": 2048000,
      "rowLimit": 10000
     },
     "inputWidgets": {},
     "nuid": "bd71e56c-e439-4de1-8816-a40c5576fb32",
     "showTitle": false,
     "title": ""
    }
   },
   "source": [
    "##### Outpatients records only\n",
    "##### Patient has occurrence id, the visit concept id is '9202'"
   ]
  },
  {
   "cell_type": "code",
   "execution_count": 0,
   "metadata": {
    "application/vnd.databricks.v1+cell": {
     "cellMetadata": {
      "byteLimit": 2048000,
      "rowLimit": 10000
     },
     "inputWidgets": {},
     "nuid": "02fd3efe-e038-455d-94a2-1b2771025fb3",
     "showTitle": false,
     "title": ""
    }
   },
   "outputs": [],
   "source": [
    "op1=spark.sql(\"SELECT * FROM mom_opioid_within_dob_30days_all WHERE VISIT_OCCURRENCE_ID IS NOT NULL\")\n",
    "op2=spark.sql(f\"SELECT * FROM {visit_table} WHERE VISIT_CONCEPT_ID = '9202'\")\n",
    "op1.createOrReplaceTempView(\"op1\")\n",
    "op2.createOrReplaceTempView(\"op2\")\n",
    "\n",
    "cond = [op1.person_id == op2.person_id, op1.visit_occurrence_id == op2.visit_occurrence_id]\n",
    "\n",
    "mom_drug_dob_30days_all_ocurrenceid_op = op1.join(op2, cond, 'inner').drop(op2.person_id)\n",
    "mom_drug_dob_30days_all_ocurrenceid_op.createOrReplaceTempView(\"mom_drug_dob_30days_all_ocurrenceid_op\")"
   ]
  },
  {
   "cell_type": "code",
   "execution_count": 0,
   "metadata": {
    "application/vnd.databricks.v1+cell": {
     "cellMetadata": {
      "byteLimit": 2048000,
      "rowLimit": 10000
     },
     "inputWidgets": {},
     "nuid": "9caa3e2b-d4cb-4481-8f73-0fd0dc59bea8",
     "showTitle": false,
     "title": ""
    }
   },
   "outputs": [],
   "source": [
    "sql=\"\"\"\n",
    "     SELECT * FROM mom_opioid_within_dob_30days_all WHERE VISIT_OCCURRENCE_ID IS NULL;\n",
    "    \"\"\"\n",
    "\n",
    "spark.sql(sql).createOrReplaceTempView(\"mom_drug_dob_30days_all_no_occurrenceid\")"
   ]
  },
  {
   "cell_type": "markdown",
   "metadata": {
    "application/vnd.databricks.v1+cell": {
     "cellMetadata": {
      "byteLimit": 2048000,
      "rowLimit": 10000
     },
     "inputWidgets": {},
     "nuid": "12f641ec-3232-4d9d-b683-41ba17554d57",
     "showTitle": false,
     "title": ""
    }
   },
   "source": [
    "##### Records does not have occurrence id, but visit_end_date is not null\n",
    "- VISIT_START_DATE <= DRUG_EXPOSURE_START_DATE and\n",
    "- DRUG_EXPOSURE_START_DATE <= VISIT_END_DATE\n"
   ]
  },
  {
   "cell_type": "code",
   "execution_count": 0,
   "metadata": {
    "application/vnd.databricks.v1+cell": {
     "cellMetadata": {
      "byteLimit": 2048000,
      "rowLimit": 10000
     },
     "inputWidgets": {},
     "nuid": "555831f1-94e5-4fb2-bff4-2492f78b1e54",
     "showTitle": false,
     "title": ""
    }
   },
   "outputs": [],
   "source": [
    "sql=f\"\"\"\n",
    "     SELECT * FROM \n",
    "     (\n",
    "      mom_drug_dob_30days_all_no_occurrenceid A \n",
    "      JOIN \n",
    "      (\n",
    "      SELECT * FROM {visit_table} WHERE person_id in \n",
    "      (select person_id from mom_drug_dob_30days_all_no_occurrenceid) and VISIT_END_DATE IS NOT NULL\n",
    "      ) B \n",
    "      USING (PERSON_ID)\n",
    "     ) \n",
    "\n",
    "      WHERE ((B.VISIT_START_DATE <= A.DRUG_EXPOSURE_START_DATE) AND (A.DRUG_EXPOSURE_START_DATE <= B.VISIT_END_DATE)\n",
    "    );\n",
    "    \"\"\"\n",
    "\n",
    "spark.sql(sql).createOrReplaceTempView(\"mom_drug_dob_30days_all_no_occurrenceid_detaill1\")"
   ]
  },
  {
   "cell_type": "markdown",
   "metadata": {
    "application/vnd.databricks.v1+cell": {
     "cellMetadata": {
      "byteLimit": 2048000,
      "rowLimit": 10000
     },
     "inputWidgets": {},
     "nuid": "917be7d4-a788-472a-9494-6013fad34c88",
     "showTitle": false,
     "title": ""
    }
   },
   "source": [
    "##### Records do not have occurrence id, but visit_end_date is not null\n",
    "- VISIT_START_DATE <= DRUG_EXPOSURE_START_DATE and \n",
    "- DRUG_EXPOSURE_START_DATE <= VISIT_END_DATE and \n",
    "- visit concept id = '9202'"
   ]
  },
  {
   "cell_type": "code",
   "execution_count": 0,
   "metadata": {
    "application/vnd.databricks.v1+cell": {
     "cellMetadata": {
      "byteLimit": 2048000,
      "rowLimit": 10000
     },
     "inputWidgets": {},
     "nuid": "fe8c98af-8b4d-44db-a25e-280a92027554",
     "showTitle": false,
     "title": ""
    }
   },
   "outputs": [],
   "source": [
    "sql=f\"\"\"\n",
    "    SELECT * FROM \n",
    "    (\n",
    "     mom_drug_dob_30days_all_no_occurrenceid A \n",
    "     JOIN (SELECT * FROM {visit_table} WHERE person_id in (select person_id from mom_drug_dob_30days_all_no_occurrenceid) \n",
    "     and VISIT_END_DATE IS NOT NULL and VISIT_CONCEPT_ID = '9202') B \n",
    "     USING (PERSON_ID)\n",
    "    ) \n",
    "    \n",
    "    WHERE \n",
    "    (((B.VISIT_START_DATE <= A.DRUG_EXPOSURE_START_DATE) AND (A.DRUG_EXPOSURE_START_DATE <= B.VISIT_END_DATE)));\n",
    "    \"\"\"\n",
    "\n",
    "spark.sql(sql).createOrReplaceTempView(\"mom_drug_dob_30days_all_no_occurrenceid_detaill1_op\")"
   ]
  },
  {
   "cell_type": "markdown",
   "metadata": {
    "application/vnd.databricks.v1+cell": {
     "cellMetadata": {
      "byteLimit": 2048000,
      "rowLimit": 10000
     },
     "inputWidgets": {},
     "nuid": "6bb10749-c13b-41d2-91a5-996fc0f9d805",
     "showTitle": false,
     "title": ""
    }
   },
   "source": [
    "##### Records do not have occurrence id, but visit_end_date is null\n",
    "- VISIT_START_DATE <= DRUG_EXPOSURE_START_DATE AND DRUG_EXPOSURE_START_DATE <= B.VISIT_END_DATE + 3; and visit concept id = '9202'"
   ]
  },
  {
   "cell_type": "code",
   "execution_count": 0,
   "metadata": {
    "application/vnd.databricks.v1+cell": {
     "cellMetadata": {
      "byteLimit": 2048000,
      "rowLimit": 10000
     },
     "inputWidgets": {},
     "nuid": "8c531ce1-79f8-4c48-8124-3c8fc8798e7a",
     "showTitle": false,
     "title": ""
    }
   },
   "outputs": [],
   "source": [
    "sql=f\"\"\" \n",
    "    SELECT * FROM \n",
    "    (\n",
    "     mom_drug_dob_30days_all_no_occurrenceid A \n",
    "     JOIN (SELECT * FROM {visit_table} WHERE person_id in (select person_id from mom_drug_dob_30days_all_no_occurrenceid) \n",
    "     and VISIT_END_DATE IS NULL and VISIT_CONCEPT_ID = '9202') B \n",
    "     USING (PERSON_ID)\n",
    "    ) \n",
    "    WHERE \n",
    "    (\n",
    "     ((B.VISIT_START_DATE <= A.DRUG_EXPOSURE_START_DATE) AND (A.DRUG_EXPOSURE_START_DATE <= date_add(B.VISIT_END_DATE, 3)))\n",
    "    );\n",
    "\n",
    "    \"\"\"\n",
    "\n",
    "spark.sql(sql).createOrReplaceTempView(\"mom_drug_dob_30days_all_no_occurrenceid_detaill2_op\")"
   ]
  },
  {
   "cell_type": "code",
   "execution_count": 0,
   "metadata": {
    "application/vnd.databricks.v1+cell": {
     "cellMetadata": {
      "byteLimit": 2048000,
      "rowLimit": 10000
     },
     "inputWidgets": {},
     "nuid": "a151afab-1dc4-4d78-aaee-691bb3034512",
     "showTitle": false,
     "title": ""
    }
   },
   "outputs": [],
   "source": [
    "sql=\"\"\"\n",
    "    (\n",
    "    (SELECT * FROM mom_drug_dob_30days_all_ocurrenceid_op) \n",
    "     UNION \n",
    "    (SELECT * FROM mom_drug_dob_30days_all_no_occurrenceid_detaill1_op)\n",
    "    ) \n",
    "    UNION (SELECT * FROM mom_drug_dob_30days_all_no_occurrenceid_detaill2_op);\n",
    "   \"\"\"\n",
    "\n",
    "spark.sql(sql).createOrReplaceTempView(\"mom_drug_dob_30days_op_all\")"
   ]
  },
  {
   "cell_type": "code",
   "execution_count": 0,
   "metadata": {
    "application/vnd.databricks.v1+cell": {
     "cellMetadata": {
      "byteLimit": 2048000,
      "rowLimit": 10000
     },
     "inputWidgets": {},
     "nuid": "f14a904a-137c-4be8-8ac3-9c75ad63d4a9",
     "showTitle": false,
     "title": ""
    }
   },
   "outputs": [],
   "source": [
    "\n",
    "sql=\"\"\"\n",
    "       select drug_exposure_id,person_id,drug_concept_id,drug_exposure_start_date,drug_exposure_start_datetime,\n",
    "       drug_exposure_end_date,drug_exposure_end_datetime,verbatim_end_date,drug_type_concept_id,stop_reason,\n",
    "       refills, quantity,days_supply,sig,route_concept_id,lot_number,drug_source_value,drug_source_concept_id,route_source_value,dose_unit_source_value, x_drug_type_source_concept_id,generic,mom_person_id,baby_person_id,baby_birth_datetime,x_doc_type,x_doc_stype,x_dose,x_drug_form,x_strength,x_frequency \n",
    "       from mom_drug_dob_30days_op_all\n",
    "       where x_doc_type = 'RXSTAR' or x_doc_type ='EPIC OP ORDER' or x_doc_type = 'EPIC HIST MED';\n",
    "    \"\"\"\n",
    "\n",
    "mom_drug_dob30days_all_doctype_op=spark.sql(sql).distinct()\n",
    "\n",
    "mom_drug_dob30days_all_doctype_op.name='mom_drug_dob30days_all_doctype_op'\n",
    "register_parquet_global_view(mom_drug_dob30days_all_doctype_op)"
   ]
  },
  {
   "cell_type": "code",
   "execution_count": 0,
   "metadata": {
    "application/vnd.databricks.v1+cell": {
     "cellMetadata": {
      "byteLimit": 2048000,
      "rowLimit": 10000
     },
     "inputWidgets": {},
     "nuid": "5063ad12-4b33-4ff0-9ce9-d095d1fb0f39",
     "showTitle": false,
     "title": ""
    }
   },
   "outputs": [],
   "source": [
    "df_inspection(\"global_temp.mom_drug_dob30days_all_doctype_op\",\"mom\")"
   ]
  }
 ],
 "metadata": {
  "application/vnd.databricks.v1+notebook": {
   "dashboards": [],
   "language": "python",
   "notebookMetadata": {
    "mostRecentlyExecutedCommandWithImplicitDF": {
     "commandId": 1043862105695275,
     "dataframes": [
      "_sqldf"
     ]
    },
    "pythonIndentUnit": 4
   },
   "notebookName": "9_birthing_parent_opioid_drug_exposure_record",
   "widgets": {}
  },
  "kernelspec": {
   "display_name": "Python 3 (ipykernel)",
   "language": "python",
   "name": "python3"
  },
  "language_info": {
   "codemirror_mode": {
    "name": "ipython",
    "version": 3
   },
   "file_extension": ".py",
   "mimetype": "text/x-python",
   "name": "python",
   "nbconvert_exporter": "python",
   "pygments_lexer": "ipython3",
   "version": "3.9.12"
  }
 },
 "nbformat": 4,
 "nbformat_minor": 0
}
