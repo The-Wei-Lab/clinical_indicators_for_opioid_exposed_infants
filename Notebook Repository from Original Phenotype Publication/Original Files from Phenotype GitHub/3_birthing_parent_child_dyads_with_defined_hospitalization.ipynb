{
 "cells": [
  {
   "cell_type": "markdown",
   "metadata": {
    "application/vnd.databricks.v1+cell": {
     "cellMetadata": {},
     "inputWidgets": {},
     "nuid": "c694ae21-ccd3-4a3e-8d6f-93fc9973f4b0",
     "showTitle": false,
     "title": ""
    }
   },
   "source": [
    "# Project: Performance of phenotype algorithms for the identification of opioid-exposed infants, Andrew D. Wiese et al. Hospital Pediatrics 2024\n",
    "# Title: Birthing Parent-Child Dyads with Defined Birth Hospitalization Stay\n",
    "# Summary: \n",
    "## Select birthing parent-child dyads with evidence of live births (from 2_birthing_parent_child_dyads_with_live_births.ipynb/.html) with a defined birth hospitalization stay, e.g. start and end dates around child date of birth\n",
    "\n",
    "# Notes:\n",
    "- If only have partial birth hospitalization stay information, will impute missing information"
   ]
  },
  {
   "cell_type": "markdown",
   "metadata": {
    "application/vnd.databricks.v1+cell": {
     "cellMetadata": {
      "byteLimit": 2048000,
      "rowLimit": 10000
     },
     "inputWidgets": {},
     "nuid": "6fc564d8-1c70-4587-8b9a-1056e82d50d6",
     "showTitle": false,
     "title": ""
    }
   },
   "source": [
    "\n",
    "##### Algorithm steps:\n",
    "```\n",
    "1. Get baby birth inpatient visits where:\n",
    "   - Birth date is within 3 days of visit start date\n",
    "   - Visit is inpatient (concept ID 9201)\n",
    "   - Visit end date is not null\n",
    "\n",
    "2. For each baby's first inpatient visit:\n",
    "   - Get earliest visit start date\n",
    "   - Check if birth date is within visit period\n",
    "   - Flag 'Y' if birth during visit, 'N' otherwise\n",
    "\n",
    "3. Get visit details for first inpatient visits\n",
    "   - Join to visit table on matching person and visit dates\n",
    "\n",
    "4. Explore patients without identified inpatient visit\n",
    "   - Get list of babies missing from step 2\n",
    "\n",
    "5. For patients without meaningful inpatient visit:\n",
    "   - Handle different visit concepts and end dates\n",
    "   - Get first visit start and end dates\n",
    "\n",
    "6. For patients with no visit info around birth:\n",
    "   - Return null for visit dates\n",
    "   - Flag as 'no_visitinfo_during_birth'\n",
    "\n",
    "7. Merge all cases:\n",
    "   - Valid inpatient visit\n",
    "   - No meaningful inpatient\n",
    "   - No visit info\n",
    "   - Not in visit table\n",
    "\n",
    "8. Filter out problematic cases:\n",
    "   - Keep only valid inpatient or no meaningful inpatient\n",
    "\n",
    "\n",
    "```\n",
    "\n",
    "##### Data Dictionary:\n",
    "\n",
    "**mom_baby_step1**: Fact and dimension table linking mom and baby persons \n",
    "\n",
    "**person**: Person data including demographics\n",
    "\n",
    "**visit**: Visit data including dates and concepts\n",
    "\n",
    "**baby_df**: Baby data filtered for inpatient visits\n",
    "\n",
    "**mom_baby_step1_baby1stvisit_noproblem_prepare**: Baby first inpatient visits\n",
    "\n",
    "**mom_baby_step1_baby1stvisit_noproblem**: Clean info for first inpatient visits \n",
    "\n",
    "**mom_baby_step1_baby1stvisit_noproblem_detail**: Details for first inpatient visits\n",
    "\n",
    "**mom_baby_step1_baby1stvisit_nomeaninfulipvisitinfo**: Babies missing from first inpatient visit data\n",
    "\n",
    "**mom_baby_step1_baby1stvisit_nomeaninfulipvisitinfo_prepare**: Visit data for babies missing inpatient info\n",
    "\n",
    "**mom_baby_step1_baby1stvisit_nomeaninfulipvisitinfo_1stvisit**: Constructed first visit data for these babies\n",
    "\n",
    "**mom_baby_step1_baby1stvisit_novisitinfobirth**: Babies with no visit data around birth\n",
    "\n",
    "**mom_baby_step1_baby1stvisit_novisitinfo**: Babies not in visit table \n",
    "\n",
    "**mom_baby_step1_baby1stvisit_all**: Merged data from all cases\n",
    "\n",
    "**mom_baby_step1_baby1stvisit**: Final cohort filtering out problematic cases\n",
    "\n",
    "\n",
    "##### Usage Notes:\n",
    "\n",
    "```\n",
    "- This extracts the first inpatient visit around birth for babies linked to mothers\n",
    "- It handles several edge cases like missing visits or inconsistent data\n",
    "- The final cohort contains only babies with valid inpatient data or no meaningful inpatient but other visit data\n",
    "- Making assumptions about visit start/end dates for different concepts when data is missing\n",
    "```"
   ]
  },
  {
   "cell_type": "code",
   "execution_count": 0,
   "metadata": {
    "ExecuteTime": {
     "end_time": "2023-01-09T14:47:18.361224Z",
     "start_time": "2023-01-09T14:47:18.340870Z"
    },
    "application/vnd.databricks.v1+cell": {
     "cellMetadata": {
      "byteLimit": 2048000,
      "rowLimit": 10000
     },
     "inputWidgets": {},
     "nuid": "e3a06caa-7eef-4e4b-9008-6192b55d469b",
     "showTitle": false,
     "title": ""
    }
   },
   "outputs": [],
   "source": [
    "%run \"./project_modules\""
   ]
  },
  {
   "cell_type": "markdown",
   "metadata": {
    "application/vnd.databricks.v1+cell": {
     "cellMetadata": {
      "byteLimit": 2048000,
      "rowLimit": 10000
     },
     "inputWidgets": {},
     "nuid": "d7bf439b-533a-4e60-a9ce-f4ad8ebb4eea",
     "showTitle": false,
     "title": ""
    }
   },
   "source": [
    "##### Get the baby birth inpatient visit\n",
    "##### a. (birth_datetime) >= visit_start_date and  date(birth_datetime) <= visit_start_date + 3 \n",
    "##### b. inpatient (visit_concept_id = 9201)\n",
    "##### c. visit_end_date is not null\n"
   ]
  },
  {
   "cell_type": "code",
   "execution_count": 0,
   "metadata": {
    "ExecuteTime": {
     "end_time": "2023-01-09T14:47:27.409827Z",
     "start_time": "2023-01-09T14:47:27.407217Z"
    },
    "application/vnd.databricks.v1+cell": {
     "cellMetadata": {
      "byteLimit": 2048000,
      "rowLimit": 10000
     },
     "inputWidgets": {},
     "nuid": "7f6aebd1-0008-4ea6-8ffe-5e9442c22a61",
     "showTitle": false,
     "title": ""
    },
    "code_folding": []
   },
   "outputs": [],
   "source": [
    "sql=f\"\"\"\n",
    "       select person_id as baby_person_id,birth_datetime,location_id,person_source_value as  baby_grid,gender_source_value,race_source_value,min(visit_start_date) as earliest_visit_start_date \n",
    "       from \n",
    "       (select * from {person_table} where person_id in (select fact_id_2 from global_temp.mom_baby_step1)) a \n",
    "       inner join \n",
    "       (select * from {visit_table} where visit_concept_id = '9201') b \n",
    "       using (person_id) \n",
    "       group by person_id,birth_datetime,location_id,person_source_value,gender_source_value,race_source_value;\n",
    "    \"\"\"\n",
    "spark.sql(sql).createOrReplaceTempView(\"baby_df\") \n",
    "\n",
    "sql=f\"\"\"\n",
    "       select a.*,\n",
    "       case \n",
    "       when date(birth_datetime) >= a.earliest_visit_start_date \n",
    "       and  date(birth_datetime) <= date_add(a.earliest_visit_start_date, 3) \n",
    "       then 'Y' \n",
    "       else 'N' \n",
    "       end as birthdate_during_visit, b.* from baby_df a, {visit_table} b \n",
    "       where a.baby_person_id==b.person_id and \n",
    "       a.earliest_visit_start_date==b.visit_start_date and \n",
    "       b.visit_concept_id='9201'\n",
    "    \"\"\"\n",
    "\n",
    "spark.sql(sql).createOrReplaceTempView(\"mom_baby_step1_baby1stvisit_noproblem_prepare\")"
   ]
  },
  {
   "cell_type": "markdown",
   "metadata": {
    "application/vnd.databricks.v1+cell": {
     "cellMetadata": {
      "byteLimit": 2048000,
      "rowLimit": 10000
     },
     "inputWidgets": {},
     "nuid": "68f7fe7e-09fb-4b60-bdf6-6a16080e4ff1",
     "showTitle": false,
     "title": ""
    }
   },
   "source": [
    "####  if there is multiple inpatient visit during birth hospitalization, then include all the hospital stay length"
   ]
  },
  {
   "cell_type": "code",
   "execution_count": 0,
   "metadata": {
    "application/vnd.databricks.v1+cell": {
     "cellMetadata": {
      "byteLimit": 2048000,
      "rowLimit": 10000
     },
     "inputWidgets": {},
     "nuid": "621a1421-c2d7-4287-8e12-ddbe16089b95",
     "showTitle": false,
     "title": ""
    }
   },
   "outputs": [],
   "source": [
    "sql=\"\"\"\n",
    "    select baby_person_id,baby_grid,birth_datetime,\n",
    "    min(visit_start_date) as first_visit_start_date,min(visit_start_datetime) as first_visit_start_datetime,\n",
    "    max(visit_end_date) as  first_visit_end_date, 'N' as baby_1st_visit_problem from mom_baby_step1_baby1stvisit_noproblem_prepare\n",
    "    where visit_end_date is not null and birthdate_during_visit = 'Y'\n",
    "    group by baby_person_id,baby_grid,birth_datetime;\n",
    "    \"\"\"\n",
    "spark.sql(sql).createOrReplaceTempView(\"mom_baby_step1_baby1stvisit_noproblem\")"
   ]
  },
  {
   "cell_type": "markdown",
   "metadata": {
    "application/vnd.databricks.v1+cell": {
     "cellMetadata": {
      "byteLimit": 2048000,
      "rowLimit": 10000
     },
     "inputWidgets": {},
     "nuid": "0cc59395-7f34-4499-a619-a6d0bc108bf2",
     "showTitle": false,
     "title": ""
    }
   },
   "source": [
    "##### the detail visit info"
   ]
  },
  {
   "cell_type": "code",
   "execution_count": 0,
   "metadata": {
    "application/vnd.databricks.v1+cell": {
     "cellMetadata": {
      "byteLimit": 2048000,
      "rowLimit": 10000
     },
     "inputWidgets": {},
     "nuid": "4cf78e51-fd5d-444a-85f4-89e6feccaa76",
     "showTitle": false,
     "title": ""
    }
   },
   "outputs": [],
   "source": [
    "sql=f\"\"\"\n",
    "     select a.*,b.visit_occurrence_id,b.visit_start_date,b.visit_end_date,b.visit_concept_id,b.visit_source_value \n",
    "     from mom_baby_step1_baby1stvisit_noproblem a \n",
    "     inner join \n",
    "     {visit_table} b\n",
    "     on a.baby_person_id = b.person_id and a.first_visit_start_date = b.visit_start_date and \n",
    "     a.first_visit_end_date = b.visit_end_date\n",
    "     where visit_concept_id = '9201'\n",
    "    \"\"\"\n",
    "spark.sql(sql).createOrReplaceTempView(\"mom_baby_step1_baby1stvisit_noproblem_detail\") "
   ]
  },
  {
   "cell_type": "markdown",
   "metadata": {
    "application/vnd.databricks.v1+cell": {
     "cellMetadata": {
      "byteLimit": 2048000,
      "rowLimit": 10000
     },
     "inputWidgets": {},
     "nuid": "e12957af-801e-4077-a5d2-acd4d2cb606d",
     "showTitle": false,
     "title": ""
    }
   },
   "source": [
    "##### Explore other patients' 1st visit information\n"
   ]
  },
  {
   "cell_type": "code",
   "execution_count": 0,
   "metadata": {
    "application/vnd.databricks.v1+cell": {
     "cellMetadata": {
      "byteLimit": 2048000,
      "rowLimit": 10000
     },
     "inputWidgets": {},
     "nuid": "d1c481f7-dfd0-4717-9300-927bec5af188",
     "showTitle": false,
     "title": ""
    }
   },
   "outputs": [],
   "source": [
    "sql=\"\"\"\n",
    "    select fact_id_2 as baby_person_id from global_temp.mom_baby_step1 where fact_id_2 \n",
    "    not in (select baby_person_id from mom_baby_step1_baby1stvisit_noproblem);\n",
    "    \"\"\"\n",
    "spark.sql(sql).createOrReplaceTempView(\"mom_baby_step1_baby1stvisit_nomeaninfulipvisitinfo\") "
   ]
  },
  {
   "cell_type": "markdown",
   "metadata": {
    "application/vnd.databricks.v1+cell": {
     "cellMetadata": {
      "byteLimit": 2048000,
      "rowLimit": 10000
     },
     "inputWidgets": {},
     "nuid": "442824ad-7d20-4b3f-ae07-811d39617780",
     "showTitle": false,
     "title": ""
    }
   },
   "source": [
    "##### Explore the cohort that did not have meaningful inpatinet(9201) visit_information, but had other type visit information, or had inpatient visit with 'null' as visit_end_date\n",
    "##### if visit_concept_id = 9201 (inpatient), visit_start_date + 21 as visit_end_date (if it was null in the visit_table)\n",
    "##### if visit_concept_id = 9202 (outpatient), visit_start_date + 3 as visit_end_date (if it was null in the visit_table)"
   ]
  },
  {
   "cell_type": "code",
   "execution_count": 0,
   "metadata": {
    "application/vnd.databricks.v1+cell": {
     "cellMetadata": {
      "byteLimit": 2048000,
      "rowLimit": 10000
     },
     "inputWidgets": {},
     "nuid": "a9a461a2-729a-4152-8d0a-cd69009402bb",
     "showTitle": false,
     "title": ""
    }
   },
   "outputs": [],
   "source": [
    "sql=f\"\"\"\n",
    "   select *,\n",
    "    case \n",
    "    when visit_concept_id = 9201 and visit_end_date is not null then visit_end_date \n",
    "    when visit_concept_id = 9201 and visit_end_date is null then date_add(visit_start_date, 21)\n",
    "    when visit_concept_id = 9202 and visit_end_date is not null then visit_end_date \n",
    "    when visit_concept_id = 9202 and visit_end_date is null then date_add(visit_start_date, 3)\n",
    "    else visit_end_date end ifnull_first_visit_end_date\n",
    "   from\n",
    "    (select fact_id_2 as person_id,person_source_value as baby_grid,birth_datetime from global_temp.mom_baby_step1 where \n",
    "    fact_id_2 in (select baby_person_id from mom_baby_step1_baby1stvisit_nomeaninfulipvisitinfo)) a\n",
    "    inner join {visit_table} b using(person_id)\n",
    "    where date(birth_datetime) >= visit_start_date and  date(birth_datetime) <= date_add(visit_start_date, 3);\n",
    "    \"\"\"\n",
    "    \n",
    "spark.sql(sql).createOrReplaceTempView(\"mom_baby_step1_baby1stvisit_nomeaninfulipvisitinfo_prepare\")"
   ]
  },
  {
   "cell_type": "markdown",
   "metadata": {
    "application/vnd.databricks.v1+cell": {
     "cellMetadata": {
      "byteLimit": 2048000,
      "rowLimit": 10000
     },
     "inputWidgets": {},
     "nuid": "328dbb26-62c6-4b1d-a167-ff501be516ff",
     "showTitle": false,
     "title": ""
    }
   },
   "source": [
    "##### mom_baby_step1_baby1stvisit_nomeaninfulipvisitinfo_1stvisit"
   ]
  },
  {
   "cell_type": "code",
   "execution_count": 0,
   "metadata": {
    "application/vnd.databricks.v1+cell": {
     "cellMetadata": {
      "byteLimit": 2048000,
      "rowLimit": 10000
     },
     "inputWidgets": {},
     "nuid": "c32cdc87-8c95-484e-bbb1-b7673845b770",
     "showTitle": false,
     "title": ""
    }
   },
   "outputs": [],
   "source": [
    "sql=\"\"\"\n",
    "    select person_id as baby_person_id,baby_grid,birth_datetime,min(visit_start_date) as first_visit_start_date,\n",
    "    min(visit_start_datetime) as first_visit_start_datetime,max(ifnull_first_visit_end_date) as first_visit_end_date,\n",
    "    'no_meaningfull_ip_visit_info' as baby_1st_visit_problem\n",
    "    \n",
    "    from mom_baby_step1_baby1stvisit_nomeaninfulipvisitinfo_prepare \n",
    "    group by person_id,baby_grid,birth_datetime;\n",
    "    \"\"\"\n",
    "    \n",
    "spark.sql(sql).createOrReplaceTempView(\"mom_baby_step1_baby1stvisit_nomeaninfulipvisitinfo_1stvisit\")"
   ]
  },
  {
   "cell_type": "markdown",
   "metadata": {
    "application/vnd.databricks.v1+cell": {
     "cellMetadata": {
      "byteLimit": 2048000,
      "rowLimit": 10000
     },
     "inputWidgets": {},
     "nuid": "e6aaab89-d44c-4ed3-b8e2-7ab0761b26b3",
     "showTitle": false,
     "title": ""
    }
   },
   "source": [
    "##### mom_baby_step1_baby1stvisit_novisitinfobirth"
   ]
  },
  {
   "cell_type": "code",
   "execution_count": 0,
   "metadata": {
    "application/vnd.databricks.v1+cell": {
     "cellMetadata": {
      "byteLimit": 2048000,
      "rowLimit": 10000
     },
     "inputWidgets": {},
     "nuid": "a282b0c6-cde3-4a3c-a58c-19e4fe4322b8",
     "showTitle": false,
     "title": ""
    }
   },
   "outputs": [],
   "source": [
    "sql=f\"\"\"\n",
    "     select fact_id_2 as baby_person_id,person_source_value as baby_grid, birth_datetime,\n",
    "     null as first_visit_start_date,null as first_visit_start_datetime,null as first_visit_end_date,\n",
    "     'no_visitinfo_during_birth' as baby_1st_visit_problem\n",
    "     from global_temp.mom_baby_step1 where fact_id_2 in \n",
    "     (select person_id from {visit_table})\n",
    "     and fact_id_2 not in (select baby_person_id from mom_baby_step1_baby1stvisit_nomeaninfulipvisitinfo_1stvisit)\n",
    "     and fact_id_2 not in (select baby_person_id from mom_baby_step1_baby1stvisit_noproblem);\n",
    "    \"\"\"\n",
    "    \n",
    "spark.sql(sql).createOrReplaceTempView(\"mom_baby_step1_baby1stvisit_novisitinfobirth\")"
   ]
  },
  {
   "cell_type": "markdown",
   "metadata": {
    "application/vnd.databricks.v1+cell": {
     "cellMetadata": {
      "byteLimit": 2048000,
      "rowLimit": 10000
     },
     "inputWidgets": {},
     "nuid": "7ab3c268-c764-4aa3-a436-4823c3657c44",
     "showTitle": false,
     "title": ""
    }
   },
   "source": [
    "##### mom_baby_step1_baby1stvisit_novisitinfo"
   ]
  },
  {
   "cell_type": "code",
   "execution_count": 0,
   "metadata": {
    "application/vnd.databricks.v1+cell": {
     "cellMetadata": {
      "byteLimit": 2048000,
      "rowLimit": 10000
     },
     "inputWidgets": {},
     "nuid": "a515d216-f638-43e0-98fc-206f47383fee",
     "showTitle": false,
     "title": ""
    }
   },
   "outputs": [],
   "source": [
    "sql=f\"\"\"\n",
    "    select fact_id_2 as baby_person_id,person_source_value as baby_grid, birth_datetime,\n",
    "    null as first_visit_start_date,null as first_visit_start_datetime,null as first_visit_end_date,\n",
    "    'noinfo_in_visit_table' as baby_1st_visit_problem\n",
    "    from global_temp.mom_baby_step1 where fact_id_2 not in \n",
    "    (select distinct person_id from {visit_table});\n",
    "    \"\"\"\n",
    "\n",
    "\n",
    "spark.sql(sql).createOrReplaceTempView(\"mom_baby_step1_baby1stvisit_novisitinfo\") "
   ]
  },
  {
   "cell_type": "markdown",
   "metadata": {
    "application/vnd.databricks.v1+cell": {
     "cellMetadata": {
      "byteLimit": 2048000,
      "rowLimit": 10000
     },
     "inputWidgets": {},
     "nuid": "b3d5f382-c67c-4063-9d61-713e1d62d74a",
     "showTitle": false,
     "title": ""
    }
   },
   "source": [
    "##### Merge all 4 conditions:\n",
    "##### 1) had valid birth hospitalization inpatient information\n",
    "##### 2) had birth visit, but did not have meaningful inpatient visit information\n",
    "##### 3) did not have visit around birthdate\n",
    "##### 4) did not exist in visit_occurrence table;"
   ]
  },
  {
   "cell_type": "code",
   "execution_count": 0,
   "metadata": {
    "ExecuteTime": {
     "end_time": "2023-01-09T15:23:32.716905Z",
     "start_time": "2023-01-09T15:23:08.087995Z"
    },
    "application/vnd.databricks.v1+cell": {
     "cellMetadata": {
      "byteLimit": 2048000,
      "rowLimit": 10000
     },
     "inputWidgets": {},
     "nuid": "74057722-9540-419f-a41c-c15b356689bf",
     "showTitle": false,
     "title": ""
    }
   },
   "outputs": [],
   "source": [
    "sql=\"\"\"\n",
    "    select * from mom_baby_step1_baby1stvisit_noproblem\n",
    "    union \n",
    "    select * from mom_baby_step1_baby1stvisit_nomeaninfulipvisitinfo_1stvisit\n",
    "    union \n",
    "    select * from mom_baby_step1_baby1stvisit_novisitinfobirth\n",
    "    union \n",
    "    select * from mom_baby_step1_baby1stvisit_novisitinfo;\n",
    "    \"\"\"\n",
    "mom_baby_step1_baby1stvisit_all = spark.sql(sql)\n",
    "mom_baby_step1_baby1stvisit_all.name='mom_baby_step1_baby1stvisit_all'\n",
    "register_parquet_global_view(mom_baby_step1_baby1stvisit_all)"
   ]
  },
  {
   "cell_type": "code",
   "execution_count": 0,
   "metadata": {
    "application/vnd.databricks.v1+cell": {
     "cellMetadata": {
      "byteLimit": 2048000,
      "rowLimit": 10000
     },
     "inputWidgets": {},
     "nuid": "5b993979-e0f7-41cf-8431-63023cfafe27",
     "showTitle": false,
     "title": ""
    }
   },
   "outputs": [],
   "source": [
    "df_inspection(\"global_temp.mom_baby_step1_baby1stvisit_all\",\"baby\")"
   ]
  },
  {
   "cell_type": "code",
   "execution_count": 0,
   "metadata": {
    "application/vnd.databricks.v1+cell": {
     "cellMetadata": {
      "byteLimit": 2048000,
      "rowLimit": 10000
     },
     "inputWidgets": {},
     "nuid": "b1eb29b3-8467-4672-9596-78b518b19619",
     "showTitle": false,
     "title": ""
    }
   },
   "outputs": [],
   "source": [
    "sql=\"\"\"\n",
    "       select * from global_temp.mom_baby_step1_baby1stvisit_all where baby_1st_visit_problem = 'N' or \n",
    "       baby_1st_visit_problem = 'no_meaningfull_ip_visit_info';\n",
    "    \"\"\"\n",
    "mom_baby_step1_baby1stvisit = spark.sql(sql)\n",
    "mom_baby_step1_baby1stvisit.name='mom_baby_step1_baby1stvisit'\n",
    "register_parquet_global_view(mom_baby_step1_baby1stvisit)"
   ]
  },
  {
   "cell_type": "code",
   "execution_count": 0,
   "metadata": {
    "application/vnd.databricks.v1+cell": {
     "cellMetadata": {
      "byteLimit": 2048000,
      "rowLimit": 10000
     },
     "inputWidgets": {},
     "nuid": "e8b38502-6096-4ae1-9ea0-c1e0a7081ba5",
     "showTitle": false,
     "title": ""
    }
   },
   "outputs": [],
   "source": [
    "df_inspection(\"global_temp.mom_baby_step1_baby1stvisit\",\"baby\")"
   ]
  },
  {
   "cell_type": "code",
   "execution_count": 0,
   "metadata": {
    "application/vnd.databricks.v1+cell": {
     "cellMetadata": {
      "byteLimit": 2048000,
      "implicitDf": true,
      "rowLimit": 10000
     },
     "inputWidgets": {},
     "nuid": "660d4746-bd40-4d9d-8c47-962692201959",
     "showTitle": false,
     "title": ""
    }
   },
   "outputs": [],
   "source": [
    "%sql\n",
    "select * from global_temp.mom_baby_step1_baby1stvisit"
   ]
  }
 ],
 "metadata": {
  "application/vnd.databricks.v1+notebook": {
   "dashboards": [],
   "language": "python",
   "notebookMetadata": {
    "mostRecentlyExecutedCommandWithImplicitDF": {
     "commandId": 295370193701939,
     "dataframes": [
      "_sqldf"
     ]
    },
    "pythonIndentUnit": 4
   },
   "notebookName": "3_birthing_parent_child_dyads_with_defined_hospitalization",
   "widgets": {}
  },
  "kernelspec": {
   "display_name": "Python 3 (ipykernel)",
   "language": "python",
   "name": "python3"
  },
  "language_info": {
   "codemirror_mode": {
    "name": "ipython",
    "version": 3
   },
   "file_extension": ".py",
   "mimetype": "text/x-python",
   "name": "python",
   "nbconvert_exporter": "python",
   "pygments_lexer": "ipython3",
   "version": "3.9.12"
  }
 },
 "nbformat": 4,
 "nbformat_minor": 0
}
