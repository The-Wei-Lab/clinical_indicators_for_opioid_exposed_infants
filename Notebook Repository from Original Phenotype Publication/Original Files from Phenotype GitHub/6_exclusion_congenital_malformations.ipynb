{
 "cells": [
  {
   "cell_type": "markdown",
   "metadata": {
    "application/vnd.databricks.v1+cell": {
     "cellMetadata": {},
     "inputWidgets": {},
     "nuid": "ffb02671-3407-4611-b43d-89789d2b6913",
     "showTitle": false,
     "title": ""
    }
   },
   "source": [
    "# Project: Performance of phenotype algorithms for the identification of opioid-exposed infants, Andrew D. Wiese et al. Hospital Pediatrics 2024\n",
    "# Title: Exclude infants with evidence of congenital malformations\n",
    "# Summary: \n",
    "## Exclude infants with evidence of congenital malformations based on ICD codes\n",
    "\n",
    "# Notes:\n",
    "- Look for evidence of congenital malformations during birth hospitalization stay"
   ]
  },
  {
   "cell_type": "markdown",
   "metadata": {
    "application/vnd.databricks.v1+cell": {
     "cellMetadata": {},
     "inputWidgets": {},
     "nuid": "03ff7b0a-579c-43c8-af2f-33c29d8ddc5d",
     "showTitle": false,
     "title": ""
    }
   },
   "source": [
    "\n",
    "##### Algorithm steps:\n",
    "```\n",
    "1. Get list of fetal anomaly codes\n",
    "fetal_anomaly_codes = get_codes_from_table(fetal_anomalies_code_list)\n",
    "\n",
    "2. Find records in condition and observation tables matching codes\n",
    "condition_records = get_records_with_codes(condition, 'fact_id_2', fetal_anomaly_codes)\n",
    "observation_records = get_records_with_codes(observation, 'fact_id_2', fetal_anomaly_codes)\n",
    "\n",
    "3. Merge condition and observation records\n",
    "merged_records = merge_dataframes(condition_records, observation_records)\n",
    "\n",
    "4. Join with first prenatal visit data\n",
    "final_records = join(merged_records, first_prenatal_visit_data, \n",
    "                    on='baby_person_id')\n",
    "\n",
    "5. Save results as global temp view\n",
    "save_global_temp_view(final_records, 'mom_baby_step3_fetal_anomalies')\n",
    "```\n",
    "\n",
    "##### Data Dictionaries:\n",
    "\n",
    "**fetal_anomalies_code_list**: Table containing list of fetal anomaly codes\n",
    "\n",
    "**condition**: Condition occurrence table\n",
    "**observation**: Observation table\n",
    "\n",
    "**fact_id_2**: Fact ID column in condition and observation tables\n",
    "\n",
    "**baby_person_id**: Baby person ID column for joining\n",
    "\n",
    "**first_prenatal_visit_data**: \n",
    "    - first_visit_start_date: Date of first prenatal visit\n",
    "    - first_visit_end_date: Date of end of first prenatal visit\n",
    "\n",
    "**final_records**:\n",
    "    - Columns from condition/observation tables\n",
    "    - first_visit_start_date\n",
    "    - first_visit_end_date\n",
    "\n",
    "##### Usage Notes:\n",
    "```\n",
    "- Fetal anomaly codes are searched for only within the first prenatal visit period\n",
    "- Distinct records returned to avoid duplicates\n",
    "- Results registered as global temp view for further analysis\n",
    "```"
   ]
  },
  {
   "cell_type": "code",
   "execution_count": 0,
   "metadata": {
    "ExecuteTime": {
     "end_time": "2023-01-09T18:12:19.047585Z",
     "start_time": "2023-01-09T18:12:19.034111Z"
    },
    "application/vnd.databricks.v1+cell": {
     "cellMetadata": {},
     "inputWidgets": {},
     "nuid": "e1cfde86-c664-40d3-a677-503b98b3d1cf",
     "showTitle": false,
     "title": ""
    }
   },
   "outputs": [],
   "source": [
    "%run \"./project_modules\""
   ]
  },
  {
   "cell_type": "markdown",
   "metadata": {
    "application/vnd.databricks.v1+cell": {
     "cellMetadata": {},
     "inputWidgets": {},
     "nuid": "4f877e78-c96a-4aaf-950b-4f8fd48751ab",
     "showTitle": false,
     "title": ""
    }
   },
   "source": [
    "##### Search condition_occurrence and observation tables for baby using fetal anomalies codes"
   ]
  },
  {
   "cell_type": "code",
   "execution_count": 0,
   "metadata": {
    "ExecuteTime": {
     "end_time": "2023-01-09T18:14:55.144782Z",
     "start_time": "2023-01-09T18:14:54.930435Z"
    },
    "application/vnd.databricks.v1+cell": {
     "cellMetadata": {},
     "inputWidgets": {},
     "nuid": "1fbfe2eb-230d-4faf-85e8-0f40d622ad21",
     "showTitle": false,
     "title": ""
    }
   },
   "outputs": [],
   "source": [
    "sql=f\"select code from {fetal_anomalies_code_list};\"\n",
    "\n",
    "fetal_anomalies_code = spark.sql(sql)\n",
    "fetal_anomalies_code.display()"
   ]
  },
  {
   "cell_type": "markdown",
   "metadata": {
    "application/vnd.databricks.v1+cell": {
     "cellMetadata": {},
     "inputWidgets": {},
     "nuid": "6db331a3-23c9-4407-b4b0-ed28033279e6",
     "showTitle": false,
     "title": ""
    }
   },
   "source": [
    "##### Find records from condition and observation tables"
   ]
  },
  {
   "cell_type": "code",
   "execution_count": 0,
   "metadata": {
    "application/vnd.databricks.v1+cell": {
     "cellMetadata": {},
     "inputWidgets": {},
     "nuid": "d141823f-50b9-49ce-8f41-ff22908b5467",
     "showTitle": false,
     "title": ""
    }
   },
   "outputs": [],
   "source": [
    "code_list = fetal_anomalies_code.select('code').rdd.flatMap(lambda x: x).collect()\n",
    "cond_df = mon_baby_records_code_list('condition','fact_id_2',code_list)\n",
    "obs_df = mon_baby_records_code_list('observation','fact_id_2',code_list)\n",
    "union_dataframes([cond_df,obs_df]).createOrReplaceTempView(\"merged_df\")\n",
    "\n",
    "sql=\"\"\"\n",
    "       select  distinct merged_df.*,c.first_visit_start_date,c.first_visit_end_date from\n",
    "       merged_df\n",
    "       inner join \n",
    "       global_temp.mom_baby_step1_baby1stvisit c\n",
    "       on merged_df.baby_person_id = c.baby_person_id\n",
    "       where code_date>= first_visit_start_date and code_date<= first_visit_end_date;\n",
    "\"\"\"\n",
    "\n",
    "mom_baby_step3_fetal_anomalies = spark.sql(sql)\n",
    "mom_baby_step3_fetal_anomalies.name='mom_baby_step3_fetal_anomalies'\n",
    "register_parquet_global_view(mom_baby_step3_fetal_anomalies)"
   ]
  },
  {
   "cell_type": "markdown",
   "metadata": {
    "application/vnd.databricks.v1+cell": {
     "cellMetadata": {},
     "inputWidgets": {},
     "nuid": "0f37bc74-2b21-41f2-ad61-1e5f24f5beaf",
     "showTitle": false,
     "title": ""
    }
   },
   "source": [
    "##### Validation"
   ]
  },
  {
   "cell_type": "code",
   "execution_count": 0,
   "metadata": {
    "ExecuteTime": {
     "end_time": "2023-01-09T18:21:16.045791Z",
     "start_time": "2023-01-09T18:21:03.817558Z"
    },
    "application/vnd.databricks.v1+cell": {
     "cellMetadata": {},
     "inputWidgets": {},
     "nuid": "d28acaf5-3dce-4b03-8538-d1d8c4c7c92d",
     "showTitle": false,
     "title": ""
    }
   },
   "outputs": [],
   "source": [
    "df_inspection(\"global_temp.mom_baby_step3_fetal_anomalies\",\"all\")"
   ]
  }
 ],
 "metadata": {
  "application/vnd.databricks.v1+notebook": {
   "dashboards": [],
   "language": "python",
   "notebookMetadata": {
    "pythonIndentUnit": 4
   },
   "notebookName": "6_exclusion_congenital_malformations",
   "widgets": {}
  },
  "kernelspec": {
   "display_name": "Python 3 (ipykernel)",
   "language": "python",
   "name": "python3"
  },
  "language_info": {
   "codemirror_mode": {
    "name": "ipython",
    "version": 3
   },
   "file_extension": ".py",
   "mimetype": "text/x-python",
   "name": "python",
   "nbconvert_exporter": "python",
   "pygments_lexer": "ipython3",
   "version": "3.9.12"
  }
 },
 "nbformat": 4,
 "nbformat_minor": 0
}
