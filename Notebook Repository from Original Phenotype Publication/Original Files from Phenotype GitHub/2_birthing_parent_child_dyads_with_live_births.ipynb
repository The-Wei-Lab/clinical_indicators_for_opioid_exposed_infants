{
 "cells": [
  {
   "cell_type": "markdown",
   "metadata": {
    "application/vnd.databricks.v1+cell": {
     "cellMetadata": {},
     "inputWidgets": {},
     "nuid": "0c11a38b-a36d-4df1-b20e-534a42abd548",
     "showTitle": false,
     "title": ""
    }
   },
   "source": [
    "# Project: Performance of phenotype algorithms for the identification of opioid-exposed infants, Andrew D. Wiese et al. Hospital Pediatrics 2024\n",
    "# Title: Birthing Parent-Child Dyads with Live Births\n",
    "# Summary: \n",
    "## Find birthing parent-child dyads with evidence of live births"
   ]
  },
  {
   "cell_type": "markdown",
   "metadata": {
    "application/vnd.databricks.v1+cell": {
     "cellMetadata": {
      "byteLimit": 2048000,
      "rowLimit": 10000
     },
     "inputWidgets": {},
     "nuid": "22e30384-492a-41ce-93ca-95a30c8bfd40",
     "showTitle": false,
     "title": ""
    }
   },
   "source": [
    "##### Algorithm steps:\n",
    "```\n",
    "1. Create mom_baby_step1 view by joining relationship and person tables on fact_id_2\n",
    "2. Validate mom_baby_step1 view\n",
    "3. Get live birth codes from live birth code sheet\n",
    "4. Get procedure records containing live birth codes\n",
    "5. Get condition records containing live birth codes  \n",
    "6. Get observation records containing live birth codes\n",
    "7. Get mom records from procedure/condition/observation tables\n",
    "8. Get baby records from procedure/condition/observation tables  \n",
    "9. Union mom and baby records into final mom_baby_step1_birth_code view\n",
    "10. Validate final mom_baby_step1_birth_code view\n",
    "```\n",
    "\n",
    "##### Data Dictionaries:\n",
    "\n",
    "**mom_baby_step1:** View containing mom person_id, baby person_id, birth_datetime, and demographic info\n",
    "\n",
    "**lbc_code_list:** Table containing list of live birth codes\n",
    "\n",
    "**merged_lbc_proc_df:** View containing procedure records with live birth codes\n",
    "\n",
    "**merged_lbc_cond_df:** View containing condition records with live birth codes\n",
    "\n",
    "**merged_lbc_obs_df:** View containing observation records with live birth codes  \n",
    "\n",
    "**mon_proc_df:** Mom records from procedure table \n",
    "\n",
    "**mon_cond_df:** Mom records from condition table\n",
    "\n",
    "**mon_obs_df:** Mom records from observation table\n",
    "\n",
    "**baby_proc_df:** Baby records from procedure table\n",
    "\n",
    "**baby_cond_df:** Baby records from condition table \n",
    "\n",
    "**baby_obs_df:** Baby records from observation table\n",
    "\n",
    "**mom_baby_step1_birth_code:** Final view containing all mom and baby records indicating a live birth\n",
    "\n",
    "##### Usage Notes:\n",
    "```\n",
    "- Relationship concept id 4248584 indicates a mom-infant relationship\n",
    "- Date filters are applied to procedure/condition/observation records to limit to 30 days before and after birth date\n",
    "- Wildcard live birth codes are handled differently than exact code matches\n",
    "```"
   ]
  },
  {
   "cell_type": "code",
   "execution_count": 0,
   "metadata": {
    "application/vnd.databricks.v1+cell": {
     "cellMetadata": {
      "byteLimit": 2048000,
      "rowLimit": 10000
     },
     "inputWidgets": {},
     "nuid": "3ced3613-9f83-49cb-9eba-ef7f46224113",
     "showTitle": false,
     "title": ""
    }
   },
   "outputs": [],
   "source": [
    "%run \"./project_modules\""
   ]
  },
  {
   "cell_type": "code",
   "execution_count": 0,
   "metadata": {
    "application/vnd.databricks.v1+cell": {
     "cellMetadata": {
      "byteLimit": 2048000,
      "implicitDf": true,
      "rowLimit": 10000
     },
     "inputWidgets": {},
     "nuid": "2105b23c-d266-4e03-8c9a-7e8922e4ff37",
     "showTitle": false,
     "title": ""
    }
   },
   "outputs": [],
   "source": [
    "%sql\n",
    "--- Default bin size for range join optimization for all datetime comparision\n",
    "SET spark.databricks.optimizer.rangeJoin.binSize=90"
   ]
  },
  {
   "cell_type": "markdown",
   "metadata": {
    "application/vnd.databricks.v1+cell": {
     "cellMetadata": {
      "byteLimit": 2048000,
      "rowLimit": 10000
     },
     "inputWidgets": {},
     "nuid": "d7bf439b-533a-4e60-a9ce-f4ad8ebb4eea",
     "showTitle": false,
     "title": ""
    }
   },
   "source": [
    "##### Create view for mom baby pair in FACT_RELATIONSHIP table\n",
    "##### using relationship_concept_id = '4248584' which means 'MOM_INFANT' relation. \n",
    "##### 'fact_id_1' is mom's person_id, 'fact_id_2' is baby's person_id\n"
   ]
  },
  {
   "cell_type": "code",
   "execution_count": 0,
   "metadata": {
    "ExecuteTime": {
     "end_time": "2023-01-09T14:47:27.409827Z",
     "start_time": "2023-01-09T14:47:27.407217Z"
    },
    "application/vnd.databricks.v1+cell": {
     "cellMetadata": {
      "byteLimit": 2048000,
      "rowLimit": 10000
     },
     "inputWidgets": {},
     "nuid": "7f6aebd1-0008-4ea6-8ffe-5e9442c22a61",
     "showTitle": false,
     "title": ""
    },
    "code_folding": []
   },
   "outputs": [],
   "source": [
    "sql=f\"\"\"\n",
    "    SELECT distinct fact_id_1,fact_id_2,birth_datetime,person_source_value,gender_source_value,race_source_value FROM \n",
    "    (SELECT * FROM {fact_real_table} WHERE relationship_concept_id = '4248584') a\n",
    "    INNER JOIN {person_table} b\n",
    "    ON a.fact_id_2 = b.person_id; \n",
    "    \"\"\"\n",
    "mom_baby_step1 = spark.sql(sql)\n",
    "mom_baby_step1.name='mom_baby_step1'\n",
    "register_parquet_global_view(mom_baby_step1)"
   ]
  },
  {
   "cell_type": "code",
   "execution_count": 0,
   "metadata": {
    "application/vnd.databricks.v1+cell": {
     "cellMetadata": {
      "byteLimit": 2048000,
      "implicitDf": true,
      "rowLimit": 10000
     },
     "inputWidgets": {},
     "nuid": "86f77cf7-d5e4-4ff6-8d0a-fff08c574389",
     "showTitle": false,
     "title": ""
    }
   },
   "outputs": [],
   "source": [
    "%sql\n",
    "select * from global_temp.mom_baby_step1;"
   ]
  },
  {
   "cell_type": "markdown",
   "metadata": {
    "application/vnd.databricks.v1+cell": {
     "cellMetadata": {
      "byteLimit": 2048000,
      "rowLimit": 10000
     },
     "inputWidgets": {},
     "nuid": "7baa552b-dda3-4d63-b4d2-191bf81ea494",
     "showTitle": false,
     "title": ""
    }
   },
   "source": [
    "##### Validation"
   ]
  },
  {
   "cell_type": "code",
   "execution_count": 0,
   "metadata": {
    "ExecuteTime": {
     "end_time": "2023-01-09T14:47:35.214065Z",
     "start_time": "2023-01-09T14:47:27.412276Z"
    },
    "application/vnd.databricks.v1+cell": {
     "cellMetadata": {
      "byteLimit": 2048000,
      "rowLimit": 10000
     },
     "inputWidgets": {},
     "nuid": "2ed59263-a740-4f2e-a15a-f3cd2b0cc6d0",
     "showTitle": false,
     "title": ""
    }
   },
   "outputs": [],
   "source": [
    "sql=\"\"\"\n",
    "    select count(distinct fact_id_1) as unique_mom, count(distinct fact_id_2) as unique_baby, count(*) as total_records from global_temp.mom_baby_step1;\n",
    "    \"\"\"\n",
    "insp_df = spark.sql(sql)\n",
    "insp_df.display()"
   ]
  },
  {
   "cell_type": "markdown",
   "metadata": {
    "application/vnd.databricks.v1+cell": {
     "cellMetadata": {
      "byteLimit": 2048000,
      "rowLimit": 10000
     },
     "inputWidgets": {},
     "nuid": "68f7fe7e-09fb-4b60-bdf6-6a16080e4ff1",
     "showTitle": false,
     "title": ""
    }
   },
   "source": [
    "#####  mom_baby_step1_birth_code\n",
    "##### 1. live birth code: phenotyping.mprint_live_birth_code_sheet_1\n",
    "##### 2. check records with codes in procedure_occurrence / condition_occurrence/ observation table (base on mom or baby)\n",
    "##### 3. time limit: (date_of_birth - 30) < code date < (date_of_birth + 30)"
   ]
  },
  {
   "cell_type": "markdown",
   "metadata": {
    "application/vnd.databricks.v1+cell": {
     "cellMetadata": {
      "byteLimit": 2048000,
      "rowLimit": 10000
     },
     "inputWidgets": {},
     "nuid": "0cc59395-7f34-4499-a619-a6d0bc108bf2",
     "showTitle": false,
     "title": ""
    }
   },
   "source": [
    "##### LBC code list"
   ]
  },
  {
   "cell_type": "code",
   "execution_count": 0,
   "metadata": {
    "application/vnd.databricks.v1+cell": {
     "cellMetadata": {
      "byteLimit": 2048000,
      "rowLimit": 10000
     },
     "inputWidgets": {},
     "nuid": "4cf78e51-fd5d-444a-85f4-89e6feccaa76",
     "showTitle": false,
     "title": ""
    }
   },
   "outputs": [],
   "source": [
    "sql=f\"\"\"\n",
    "    select * from {lbc_code_list}\n",
    "    \"\"\"\n",
    "lbc_code_list = spark.sql(sql)\n",
    "lbc_code_list.display()\n",
    "\n",
    "lbc_codes = lbc_code_list.agg(F.concat_ws(\",\",F.collect_list(F.concat(F.lit('\"'),F.col('CODE'),F.lit('\"'))))).first()[0]\n",
    "wildcard_lbc_codes=['O82.%','V33.%','V30.0%','Z37.5%','V31.%','V36.%','V34.%','O81.%','O80.%','V39.%']"
   ]
  },
  {
   "cell_type": "markdown",
   "metadata": {
    "application/vnd.databricks.v1+cell": {
     "cellMetadata": {
      "byteLimit": 2048000,
      "rowLimit": 10000
     },
     "inputWidgets": {},
     "nuid": "57fb68ea-22d8-48aa-b491-611c719e2b68",
     "showTitle": false,
     "title": ""
    }
   },
   "source": [
    "##### Procedure records with (wildcard) LBC codes"
   ]
  },
  {
   "cell_type": "code",
   "execution_count": 0,
   "metadata": {
    "application/vnd.databricks.v1+cell": {
     "cellMetadata": {
      "byteLimit": 2048000,
      "rowLimit": 10000
     },
     "inputWidgets": {},
     "nuid": "1b8f3871-e2fd-4b1f-b406-8f627f40294c",
     "showTitle": false,
     "title": ""
    }
   },
   "outputs": [],
   "source": [
    "wildcard_lbc_proc_df=get_table_records(proc_table,wildcard_lbc_codes, 1)\n",
    "lbc_proc_df=get_table_records(proc_table,lbc_codes, 0)\n",
    "\n",
    "merged_lbc_proc_df = union_dataframes([wildcard_lbc_proc_df,lbc_proc_df])\n",
    "merged_lbc_proc_df.createOrReplaceTempView(\"merged_lbc_proc_df\") "
   ]
  },
  {
   "cell_type": "markdown",
   "metadata": {
    "application/vnd.databricks.v1+cell": {
     "cellMetadata": {
      "byteLimit": 2048000,
      "rowLimit": 10000
     },
     "inputWidgets": {},
     "nuid": "442824ad-7d20-4b3f-ae07-811d39617780",
     "showTitle": false,
     "title": ""
    }
   },
   "source": [
    "##### Condition records with (wildcard) LBC codes"
   ]
  },
  {
   "cell_type": "code",
   "execution_count": 0,
   "metadata": {
    "application/vnd.databricks.v1+cell": {
     "cellMetadata": {
      "byteLimit": 2048000,
      "rowLimit": 10000
     },
     "inputWidgets": {},
     "nuid": "a9a461a2-729a-4152-8d0a-cd69009402bb",
     "showTitle": false,
     "title": ""
    }
   },
   "outputs": [],
   "source": [
    "wildcard_lbc_cond_df=get_table_records(cond_table,wildcard_lbc_codes, 1)\n",
    "lbc_cond_df=get_table_records(cond_table,lbc_codes, 0)\n",
    "\n",
    "merged_lbc_cond_df = union_dataframes([wildcard_lbc_cond_df,lbc_cond_df])\n",
    "merged_lbc_cond_df.createOrReplaceTempView(\"merged_lbc_cond_df\")"
   ]
  },
  {
   "cell_type": "markdown",
   "metadata": {
    "application/vnd.databricks.v1+cell": {
     "cellMetadata": {
      "byteLimit": 2048000,
      "rowLimit": 10000
     },
     "inputWidgets": {},
     "nuid": "09e1eae1-a630-4a78-91fe-68fc9ee2b0c1",
     "showTitle": false,
     "title": ""
    }
   },
   "source": [
    "##### Observation records with (wildcard) LBC codes\n"
   ]
  },
  {
   "cell_type": "code",
   "execution_count": 0,
   "metadata": {
    "application/vnd.databricks.v1+cell": {
     "cellMetadata": {
      "byteLimit": 2048000,
      "rowLimit": 10000
     },
     "inputWidgets": {},
     "nuid": "c32cdc87-8c95-484e-bbb1-b7673845b770",
     "showTitle": false,
     "title": ""
    }
   },
   "outputs": [],
   "source": [
    "wildcard_lbc_obs_df=get_table_records(obs_table,wildcard_lbc_codes, 1)\n",
    "lbc_obs_df=get_table_records(obs_table,lbc_codes, 0)\n",
    "\n",
    "merged_lbc_obs_df = union_dataframes([wildcard_lbc_obs_df,lbc_obs_df])\n",
    "merged_lbc_obs_df.createOrReplaceTempView(\"merged_lbc_obs_df\")"
   ]
  },
  {
   "cell_type": "markdown",
   "metadata": {
    "application/vnd.databricks.v1+cell": {
     "cellMetadata": {
      "byteLimit": 2048000,
      "rowLimit": 10000
     },
     "inputWidgets": {},
     "nuid": "7ab3c268-c764-4aa3-a436-4823c3657c44",
     "showTitle": false,
     "title": ""
    }
   },
   "source": [
    "##### Mom and baby records in procedure, condition and observation tables"
   ]
  },
  {
   "cell_type": "code",
   "execution_count": 0,
   "metadata": {
    "application/vnd.databricks.v1+cell": {
     "cellMetadata": {
      "byteLimit": 2048000,
      "rowLimit": 10000
     },
     "inputWidgets": {},
     "nuid": "a515d216-f638-43e0-98fc-206f47383fee",
     "showTitle": false,
     "title": ""
    }
   },
   "outputs": [],
   "source": [
    "mon_proc_df=mon_baby_records(\"procedure\",\"merged_lbc_proc_df\",\"fact_id_1\")\n",
    "mon_cond_df=mon_baby_records(\"condition\",\"merged_lbc_cond_df\",\"fact_id_1\")\n",
    "mon_obs_df=mon_baby_records(\"observation\",\"merged_lbc_obs_df\",\"fact_id_1\")\n",
    "\n",
    "baby_proc_df=mon_baby_records(\"procedure\",\"merged_lbc_proc_df\",\"fact_id_2\")\n",
    "baby_cond_df=mon_baby_records(\"condition\",\"merged_lbc_cond_df\",\"fact_id_2\")\n",
    "baby_obs_df=mon_baby_records(\"observation\",\"merged_lbc_obs_df\",\"fact_id_2\")\n",
    "\n",
    "mom_baby_step1_birth_code = union_dataframes([mon_proc_df,mon_cond_df,mon_obs_df,baby_proc_df,baby_cond_df,baby_obs_df])\n",
    "mom_baby_step1_birth_code.name='mom_baby_step1_birth_code'\n",
    "register_parquet_global_view(mom_baby_step1_birth_code)"
   ]
  },
  {
   "cell_type": "markdown",
   "metadata": {
    "application/vnd.databricks.v1+cell": {
     "cellMetadata": {
      "byteLimit": 2048000,
      "rowLimit": 10000
     },
     "inputWidgets": {},
     "nuid": "b3d5f382-c67c-4063-9d61-713e1d62d74a",
     "showTitle": false,
     "title": ""
    }
   },
   "source": [
    "##### Validation"
   ]
  },
  {
   "cell_type": "code",
   "execution_count": 0,
   "metadata": {
    "ExecuteTime": {
     "end_time": "2023-01-09T15:23:32.716905Z",
     "start_time": "2023-01-09T15:23:08.087995Z"
    },
    "application/vnd.databricks.v1+cell": {
     "cellMetadata": {
      "byteLimit": 2048000,
      "rowLimit": 10000
     },
     "inputWidgets": {},
     "nuid": "74057722-9540-419f-a41c-c15b356689bf",
     "showTitle": false,
     "title": ""
    }
   },
   "outputs": [],
   "source": [
    "df_inspection(\"global_temp.mom_baby_step1_birth_code\",\"all\")"
   ]
  }
 ],
 "metadata": {
  "application/vnd.databricks.v1+notebook": {
   "dashboards": [],
   "language": "python",
   "notebookMetadata": {
    "mostRecentlyExecutedCommandWithImplicitDF": {
     "commandId": 1043862105695105,
     "dataframes": [
      "_sqldf"
     ]
    },
    "pythonIndentUnit": 4
   },
   "notebookName": "2_birthing_parent_child_dyads_with_live_births",
   "widgets": {}
  },
  "kernelspec": {
   "display_name": "Python 3 (ipykernel)",
   "language": "python",
   "name": "python3"
  },
  "language_info": {
   "codemirror_mode": {
    "name": "ipython",
    "version": 3
   },
   "file_extension": ".py",
   "mimetype": "text/x-python",
   "name": "python",
   "nbconvert_exporter": "python",
   "pygments_lexer": "ipython3",
   "version": "3.9.12"
  }
 },
 "nbformat": 4,
 "nbformat_minor": 0
}
