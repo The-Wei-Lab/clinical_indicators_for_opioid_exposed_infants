{
 "cells": [
  {
   "cell_type": "markdown",
   "metadata": {
    "application/vnd.databricks.v1+cell": {
     "cellMetadata": {},
     "inputWidgets": {},
     "nuid": "e44bd911-568c-4b38-8b9a-0015bb9ae0d6",
     "showTitle": false,
     "title": ""
    }
   },
   "source": [
    "# Project: Performance of phenotype algorithms for the identification of opioid-exposed infants, Andrew D. Wiese et al. Hospital Pediatrics 2024\n",
    "# Title: Exclude infants with evidence of critical illness\n",
    "# Summary: \n",
    "## Exclude infants with evidence of critical illness based on CPT codes\n",
    "\n",
    "# Notes:\n",
    "- Look for evidence of critical illness during birth hospitalization stay"
   ]
  },
  {
   "cell_type": "markdown",
   "metadata": {
    "application/vnd.databricks.v1+cell": {
     "cellMetadata": {},
     "inputWidgets": {},
     "nuid": "6f95be04-1c34-468e-80f0-76a7f79c4bd6",
     "showTitle": false,
     "title": ""
    }
   },
   "source": [
    "\n",
    "##### Algorithm steps:\n",
    "\n",
    "```\n",
    "1. Define critical illness CPT codes: \n",
    "   - '99468', '99469', '99291', '99292'\n",
    "\n",
    "2. Get baby procedure records from procedure_occurrence table for critical codes\n",
    "\n",
    "3. Join with first visit table on baby_person_id\n",
    "\n",
    "4. Filter records where procedure date is between first visit start and end dates \n",
    "\n",
    "5. Register final table as global temp view\n",
    "```\n",
    "\n",
    "##### Data Dictionaries:\n",
    "\n",
    "**critical4cpt_code_list** - List of critical illness CPT codes \n",
    "\n",
    "**proc_df** - Baby procedure records filtered by critical codes\n",
    "\n",
    "**mom_baby_step1_baby1stvisit** - Table containing baby's first visit details\n",
    "\n",
    "**mom_baby_step3_critical4cpt** - Final output table \n",
    "\n",
    "##### Usage Notes:\n",
    "```\n",
    "- This generates a table of critical illness procedure codes for each baby that occurred during the first visit\n",
    "- It filters the procedure records to only include those within the start/end dates of the first visit\n",
    "- The final table is registered as a global temp view for easy access in subsequent steps\n",
    "- Validation should be performed on the final table to ensure accuracy\n",
    "```"
   ]
  },
  {
   "cell_type": "code",
   "execution_count": 0,
   "metadata": {
    "ExecuteTime": {
     "end_time": "2023-01-09T16:55:16.161097Z",
     "start_time": "2023-01-09T16:55:06.334305Z"
    },
    "application/vnd.databricks.v1+cell": {
     "cellMetadata": {
      "byteLimit": 2048000,
      "rowLimit": 10000
     },
     "inputWidgets": {},
     "nuid": "f5e7b029-0e14-4ee0-b941-caebd71b2545",
     "showTitle": false,
     "title": ""
    }
   },
   "outputs": [],
   "source": [
    "%run \"./project_modules\""
   ]
  },
  {
   "cell_type": "markdown",
   "metadata": {
    "application/vnd.databricks.v1+cell": {
     "cellMetadata": {
      "byteLimit": 2048000,
      "rowLimit": 10000
     },
     "inputWidgets": {},
     "nuid": "6e5b1d13-3995-42e3-95c4-c6dc79e8fb75",
     "showTitle": false,
     "title": ""
    }
   },
   "source": [
    "##### 1. Critical illness CPT codes: '99468', '99469', '99291', '99292'\n",
    "##### 2. procedure_occurrence \n",
    "##### 3. only for baby's code\n"
   ]
  },
  {
   "cell_type": "code",
   "execution_count": 0,
   "metadata": {
    "application/vnd.databricks.v1+cell": {
     "cellMetadata": {
      "byteLimit": 2048000,
      "rowLimit": 10000
     },
     "inputWidgets": {},
     "nuid": "6da102bb-bae4-46ad-99c1-d9eca4b5c52e",
     "showTitle": false,
     "title": ""
    }
   },
   "outputs": [],
   "source": [
    "proc_df=mon_baby_records_code_list('procedure','fact_id_2',critical4cpt_code_list)\n",
    "proc_df.createOrReplaceTempView(\"proc_df\")\n",
    "\n",
    "sql=\"\"\"\n",
    "  \n",
    "    select  distinct proc_df.*,c.first_visit_start_date,c.first_visit_end_date from \n",
    "    proc_df\n",
    "    inner join \n",
    "    global_temp.mom_baby_step1_baby1stvisit c \n",
    "    on proc_df.baby_person_id = c.baby_person_id\n",
    "    where code_date >= first_visit_start_date and code_date <= first_visit_end_date;\n",
    "    \"\"\"\n",
    "mom_baby_step3_critical4cpt = spark.sql(sql)\n",
    "mom_baby_step3_critical4cpt.name='mom_baby_step3_critical4cpt'\n",
    "register_parquet_global_view(mom_baby_step3_critical4cpt)"
   ]
  },
  {
   "cell_type": "markdown",
   "metadata": {
    "application/vnd.databricks.v1+cell": {
     "cellMetadata": {
      "byteLimit": 2048000,
      "rowLimit": 10000
     },
     "inputWidgets": {},
     "nuid": "165056e4-84de-4d17-b5d1-c0adce808b02",
     "showTitle": false,
     "title": ""
    }
   },
   "source": [
    "##### Validation"
   ]
  },
  {
   "cell_type": "code",
   "execution_count": 0,
   "metadata": {
    "application/vnd.databricks.v1+cell": {
     "cellMetadata": {
      "byteLimit": 2048000,
      "rowLimit": 10000
     },
     "inputWidgets": {},
     "nuid": "cf72afb3-681c-4192-9897-5a7068342e2e",
     "showTitle": false,
     "title": ""
    }
   },
   "outputs": [],
   "source": [
    "df_inspection(\"global_temp.mom_baby_step3_critical4cpt\",\"all\")"
   ]
  }
 ],
 "metadata": {
  "application/vnd.databricks.v1+notebook": {
   "dashboards": [],
   "language": "python",
   "notebookMetadata": {
    "mostRecentlyExecutedCommandWithImplicitDF": {
     "commandId": 3143262582234365,
     "dataframes": [
      "_sqldf"
     ]
    },
    "pythonIndentUnit": 4
   },
   "notebookName": "5_exclusion_critical_illness",
   "widgets": {}
  },
  "kernelspec": {
   "display_name": "Python 3 (ipykernel)",
   "language": "python",
   "name": "python3"
  },
  "language_info": {
   "codemirror_mode": {
    "name": "ipython",
    "version": 3
   },
   "file_extension": ".py",
   "mimetype": "text/x-python",
   "name": "python",
   "nbconvert_exporter": "python",
   "pygments_lexer": "ipython3",
   "version": "3.9.12"
  }
 },
 "nbformat": 4,
 "nbformat_minor": 0
}
