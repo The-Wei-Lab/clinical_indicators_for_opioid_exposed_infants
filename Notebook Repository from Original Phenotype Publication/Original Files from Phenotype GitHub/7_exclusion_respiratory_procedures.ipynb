{
 "cells": [
  {
   "cell_type": "markdown",
   "metadata": {
    "application/vnd.databricks.v1+cell": {
     "cellMetadata": {},
     "inputWidgets": {},
     "nuid": "c16c60f8-860c-4001-9fce-88694fd32424",
     "showTitle": false,
     "title": ""
    }
   },
   "source": [
    "# Project: Performance of phenotype algorithms for the identification of opioid-exposed infants, Andrew D. Wiese et al. Hospital Pediatrics 2024\n",
    "# Title: Exclude infants with evidence of respiratory procedures\n",
    "# Summary: \n",
    "## Exclude infants with evidence of respiratory procedures based on ICD procedure codes\n",
    "\n",
    "# Notes:\n",
    "- Look for evidence of respiratory procedures during birth hospitalization stay\n"
   ]
  },
  {
   "cell_type": "markdown",
   "metadata": {
    "application/vnd.databricks.v1+cell": {
     "cellMetadata": {
      "byteLimit": 2048000,
      "rowLimit": 10000
     },
     "inputWidgets": {},
     "nuid": "b61fcae5-7e9f-4d7e-8b89-0a5eb5684820",
     "showTitle": false,
     "title": ""
    }
   },
   "source": [
    "##### Algorithm steps:\n",
    "```\n",
    "1. Define list of respiratory procedure codes (ICD-9 and ICD-10)\n",
    "2. Find records in procedure_occurrence table matching respiratory codes\n",
    "3. Filter records to baby persons only\n",
    "4. Join with first baby visit data to get visit start/end dates\n",
    "5. Filter procedure records to those occurring during first visit \n",
    "6. Register final view of baby respiratory procedures\n",
    "```\n",
    "\n",
    "##### Data Dictionaries:\n",
    "\n",
    "**respiratory_code_list** - List of ICD-9 and ICD-10 procedure codes indicating respiratory procedures\n",
    "\n",
    "**proc_df** - DataFrame of procedure records matching respiratory codes for all persons\n",
    "\n",
    "**mom_baby_step3_respiratory** - Final DataFrame of baby respiratory procedures occurring during first visit \n",
    "\n",
    "##### Usage Notes:\n",
    "```\n",
    "- Requires CDM procedure_occurrence table as input\n",
    "- Joins with first baby visit data from mom_baby_step1_baby1stvisit view\n",
    "- Final view registered as global_temp.mom_baby_step3_respiratory\n",
    "- Validation done by inspecting final DataFrame\n",
    "```"
   ]
  },
  {
   "cell_type": "code",
   "execution_count": 0,
   "metadata": {
    "ExecuteTime": {
     "end_time": "2023-01-09T17:09:41.945451Z",
     "start_time": "2023-01-09T17:09:41.931993Z"
    },
    "application/vnd.databricks.v1+cell": {
     "cellMetadata": {},
     "inputWidgets": {},
     "nuid": "ec180f23-b877-491f-a756-d66a12d23e0e",
     "showTitle": false,
     "title": ""
    }
   },
   "outputs": [],
   "source": [
    "%run \"./project_modules\""
   ]
  },
  {
   "cell_type": "markdown",
   "metadata": {
    "application/vnd.databricks.v1+cell": {
     "cellMetadata": {},
     "inputWidgets": {},
     "nuid": "95aef72d-f6df-4a80-9fac-1dbc801cb8a7",
     "showTitle": false,
     "title": ""
    }
   },
   "source": [
    "##### Create view of respiratory procedure codes \n",
    "##### 1. respiratory procedure code:\n",
    "- Insertion of an endotraceal tube: ICD-9 procedure code 96.04; ICD-10-PCS codes 0BH17EZ, 0BH18EZ \n",
    "- Invasive Mechanical ventilation: ICD-9 procedure codes 96.70, 96.71, 96.72; ICD-10-PCS codes 5A1935Z, 5A1945Z, 5A1955Z \n",
    "- Non-invasive mechnical ventilation: ICD-9 procedure code 93.90; ICD-10-PCS codes 5A09357, 5A09457, 5A09557\n",
    "##### 2. Find records in procedure_occurrence table\n",
    "##### 3. baby only\n"
   ]
  },
  {
   "cell_type": "code",
   "execution_count": 0,
   "metadata": {
    "application/vnd.databricks.v1+cell": {
     "cellMetadata": {},
     "inputWidgets": {},
     "nuid": "bcaf40a2-82d2-41d5-80fa-2fff975a63ba",
     "showTitle": false,
     "title": ""
    }
   },
   "outputs": [],
   "source": [
    "proc_df=mon_baby_records_code_list('procedure','fact_id_2',respiratory_code_list)\n",
    "proc_df.createOrReplaceTempView(\"proc_df\")\n",
    "\n",
    "sql=\"\"\"\n",
    "    select  distinct proc_df.*,c.first_visit_start_date,c.first_visit_end_date from \n",
    "    proc_df\n",
    "    inner join \n",
    "    global_temp.mom_baby_step1_baby1stvisit c\n",
    "    on proc_df.baby_person_id = c.baby_person_id\n",
    "    where code_date >= first_visit_start_date and code_date<= first_visit_end_date;\n",
    "    \"\"\"\n",
    "mom_baby_step3_respiratory = spark.sql(sql)\n",
    "mom_baby_step3_respiratory.name='mom_baby_step3_respiratory'\n",
    "register_parquet_global_view(mom_baby_step3_respiratory)"
   ]
  },
  {
   "cell_type": "markdown",
   "metadata": {
    "application/vnd.databricks.v1+cell": {
     "cellMetadata": {},
     "inputWidgets": {},
     "nuid": "5c3da2ac-ecb0-4da9-a40c-b7c9850d3966",
     "showTitle": false,
     "title": ""
    }
   },
   "source": [
    "##### Validation"
   ]
  },
  {
   "cell_type": "code",
   "execution_count": 0,
   "metadata": {
    "ExecuteTime": {
     "end_time": "2023-01-09T17:14:27.715724Z",
     "start_time": "2023-01-09T17:14:17.472405Z"
    },
    "application/vnd.databricks.v1+cell": {
     "cellMetadata": {},
     "inputWidgets": {},
     "nuid": "b43b7bc3-ca8e-498c-a47f-d80dc17f81aa",
     "showTitle": false,
     "title": ""
    }
   },
   "outputs": [],
   "source": [
    "df_inspection(\"global_temp.mom_baby_step3_respiratory\",\"all\")"
   ]
  }
 ],
 "metadata": {
  "application/vnd.databricks.v1+notebook": {
   "dashboards": [],
   "language": "python",
   "notebookMetadata": {
    "pythonIndentUnit": 4
   },
   "notebookName": "7_exclusion_respiratory_procedures",
   "widgets": {}
  },
  "kernelspec": {
   "display_name": "Python 3 (ipykernel)",
   "language": "python",
   "name": "python3"
  },
  "language_info": {
   "codemirror_mode": {
    "name": "ipython",
    "version": 3
   },
   "file_extension": ".py",
   "mimetype": "text/x-python",
   "name": "python",
   "nbconvert_exporter": "python",
   "pygments_lexer": "ipython3",
   "version": "3.9.12"
  }
 },
 "nbformat": 4,
 "nbformat_minor": 0
}
