{
 "cells": [
  {
   "cell_type": "markdown",
   "metadata": {
    "ExecuteTime": {
     "end_time": "2022-10-17T15:33:31.433647Z",
     "start_time": "2022-10-17T15:33:31.428545Z"
    },
    "application/vnd.databricks.v1+cell": {
     "cellMetadata": {
      "byteLimit": 2048000,
      "rowLimit": 10000
     },
     "inputWidgets": {},
     "nuid": "184fc538-477c-47ee-8d3f-df550f6db0e4",
     "showTitle": false,
     "tableResultSettingsMap": {},
     "title": ""
    }
   },
   "source": [
    "##### Project: Opioid Exposed Infant Covariates\n",
    "##### Investigator: Stephen Patrick, Sarah Loch\n",
    "##### Programmers: Sander Su, Chris Guardo\n",
    "##### Date Created: 01/17/23\n",
    "##### Last Modified: 09/30/25\n",
    "\n",
    "#### Notes: \n",
    "This step comes after birth visit in the workspace pipeline. It creates a set of codes matching drug related codes in the infants’ electronic health record with the birth hospital visit. \n",
    "\n"
   ]
  },
  {
   "cell_type": "code",
   "execution_count": 0,
   "metadata": {
    "ExecuteTime": {
     "end_time": "2023-01-09T17:09:41.945451Z",
     "start_time": "2023-01-09T17:09:41.931993Z"
    },
    "application/vnd.databricks.v1+cell": {
     "cellMetadata": {
      "byteLimit": 2048000,
      "rowLimit": 10000
     },
     "inputWidgets": {},
     "nuid": "ec180f23-b877-491f-a756-d66a12d23e0e",
     "showTitle": false,
     "tableResultSettingsMap": {},
     "title": ""
    }
   },
   "outputs": [],
   "source": [
    "%run \"../Project_modules\""
   ]
  },
  {
   "cell_type": "markdown",
   "metadata": {
    "application/vnd.databricks.v1+cell": {
     "cellMetadata": {
      "byteLimit": 2048000,
      "rowLimit": 10000
     },
     "inputWidgets": {},
     "nuid": "95aef72d-f6df-4a80-9fac-1dbc801cb8a7",
     "showTitle": false,
     "tableResultSettingsMap": {},
     "title": ""
    }
   },
   "source": [
    "#### Search for infant drug exposure records:\n",
    "##### infant drug list:\n",
    "##### - morphine\n",
    "##### - methadone\n",
    "##### - phenobarbital\n",
    "##### - clonidine\n",
    "##### cohort: \n",
    "##### - infant in phenotype cohort\n",
    "##### - time limit: birth hospitalization\n"
   ]
  },
  {
   "cell_type": "code",
   "execution_count": 0,
   "metadata": {
    "application/vnd.databricks.v1+cell": {
     "cellMetadata": {
      "byteLimit": 2048000,
      "rowLimit": 10000
     },
     "inputWidgets": {},
     "nuid": "d39296a7-7578-4f2a-a710-371b28846c8f",
     "showTitle": false,
     "tableResultSettingsMap": {},
     "title": ""
    }
   },
   "outputs": [],
   "source": [
    "phenotype_table_location = \" ***Insert file location*** \"\n",
    "phenotype_table=spark.sql(f\"SELECT * FROM {phenotype_table_location}\")"
   ]
  },
  {
   "cell_type": "code",
   "execution_count": 0,
   "metadata": {
    "application/vnd.databricks.v1+cell": {
     "cellMetadata": {
      "byteLimit": 2048000,
      "rowLimit": 10000
     },
     "inputWidgets": {},
     "nuid": "eaff1c80-14d7-4e2c-92cc-d7e03c15b97e",
     "showTitle": false,
     "tableResultSettingsMap": {},
     "title": ""
    },
    "code_folding": []
   },
   "outputs": [],
   "source": [
    "sql=f\"\"\"\n",
    "       select * from {phenotype_table} a\n",
    "       inner join \n",
    "       (select * from {drug_exp_table}\n",
    "       where lower(trim(drug_source_value)) like '%morphine%' \n",
    "       or lower(trim(drug_source_value)) like '%methadone%' \n",
    "       or lower(trim(drug_source_value)) like '%phenobarbital%' \n",
    "       or lower(trim(drug_source_value)) like '%clonidine%') b\n",
    "       on a.baby_person_id = b.person_id;\n",
    "    \"\"\"\n",
    "mombabypair_infant_drug = spark.sql(sql)\n",
    "mombabypair_infant_drug.createOrReplaceTempView(\"mombabypair_infant_drug\")"
   ]
  },
  {
   "cell_type": "markdown",
   "metadata": {
    "application/vnd.databricks.v1+cell": {
     "cellMetadata": {
      "byteLimit": 2048000,
      "rowLimit": 10000
     },
     "inputWidgets": {},
     "nuid": "af8ef974-04b2-4e3c-b98a-38c268be958d",
     "showTitle": false,
     "tableResultSettingsMap": {},
     "title": ""
    }
   },
   "source": [
    "##### Validation"
   ]
  },
  {
   "cell_type": "code",
   "execution_count": 0,
   "metadata": {
    "application/vnd.databricks.v1+cell": {
     "cellMetadata": {
      "byteLimit": 2048000,
      "rowLimit": 10000
     },
     "inputWidgets": {},
     "nuid": "bcaf40a2-82d2-41d5-80fa-2fff975a63ba",
     "showTitle": false,
     "tableResultSettingsMap": {},
     "title": ""
    }
   },
   "outputs": [],
   "source": [
    "#df_inspection(\"mombabypair_infant_drug\",\"baby\")"
   ]
  },
  {
   "cell_type": "markdown",
   "metadata": {
    "application/vnd.databricks.v1+cell": {
     "cellMetadata": {
      "byteLimit": 2048000,
      "rowLimit": 10000
     },
     "inputWidgets": {},
     "nuid": "81fe8e9c-e888-4a40-9718-113a5a409125",
     "showTitle": false,
     "tableResultSettingsMap": {},
     "title": ""
    }
   },
   "source": [
    "##### time limit: birth hospitalization"
   ]
  },
  {
   "cell_type": "code",
   "execution_count": 0,
   "metadata": {
    "application/vnd.databricks.v1+cell": {
     "cellMetadata": {
      "byteLimit": 2048000,
      "rowLimit": 10000
     },
     "inputWidgets": {},
     "nuid": "457b493c-658d-4516-87e8-d4dd39a1215d",
     "showTitle": false,
     "tableResultSettingsMap": {},
     "title": ""
    }
   },
   "outputs": [],
   "source": [
    "sql=\"\"\"\n",
    "   select distinct infant_drug.*,a.first_visit_start_date, a.first_visit_end_date from \n",
    "   (select * from global_temp.mom_baby_step1_baby1stvisit) a\n",
    "   inner join mombabypair_infant_drug infant_drug\n",
    "   on a.baby_person_id = infant_drug.person_id\n",
    "   where drug_exposure_start_date >= first_visit_start_date and drug_exposure_start_date<= first_visit_end_date;\n",
    "   \"\"\"\n",
    "mom_baby_step1_baby1stvisit_infant_drug= spark.sql(sql)\n",
    "mom_baby_step1_baby1stvisit_infant_drug.createOrReplaceTempView(\"mom_baby_step1_baby1stvisit_infant_drug\")"
   ]
  },
  {
   "cell_type": "markdown",
   "metadata": {
    "application/vnd.databricks.v1+cell": {
     "cellMetadata": {
      "byteLimit": 2048000,
      "rowLimit": 10000
     },
     "inputWidgets": {},
     "nuid": "ffe4168d-a368-4a4a-8aab-efc4cca5fe6b",
     "showTitle": false,
     "tableResultSettingsMap": {},
     "title": ""
    }
   },
   "source": [
    "##### Adding the information in table 'x_drug_exposure', especially the dose info"
   ]
  },
  {
   "cell_type": "code",
   "execution_count": 0,
   "metadata": {
    "application/vnd.databricks.v1+cell": {
     "cellMetadata": {
      "byteLimit": 2048000,
      "rowLimit": 10000
     },
     "inputWidgets": {},
     "nuid": "b495b1e9-e28e-436a-86d3-3bcab7498bb2",
     "showTitle": false,
     "tableResultSettingsMap": {},
     "title": ""
    }
   },
   "outputs": [],
   "source": [
    "sql=f\"\"\"\n",
    "      select a.*,b.person_id as dose_person_id, b.drug_exposure_id as dose_drug_exposure_id,b.x_doc_type,b.x_doc_stype,\n",
    "      b.x_dose,b.x_drug_form,b.x_strength,b.x_frequency\n",
    "    \n",
    "      from mom_baby_step1_baby1stvisit_infant_drug a left join {drug_exp_table_extra} b \n",
    "      on a.drug_exposure_id = b.drug_exposure_id;\n",
    "    \"\"\"\n",
    "mom_baby_step1_baby1stvisit_infantdrug_dose = spark.sql(sql)\n",
    "mom_baby_step1_baby1stvisit_infantdrug_dose.name='mom_baby_step1_baby1stvisit_infantdrug_dose'\n",
    "register_parquet_global_view(mom_baby_step1_baby1stvisit_infantdrug_dose)"
   ]
  },
  {
   "cell_type": "code",
   "execution_count": 0,
   "metadata": {
    "application/vnd.databricks.v1+cell": {
     "cellMetadata": {
      "byteLimit": 2048000,
      "rowLimit": 10000
     },
     "inputWidgets": {},
     "nuid": "f0e9736e-5661-4746-9582-9a09c15b4856",
     "showTitle": false,
     "tableResultSettingsMap": {},
     "title": ""
    }
   },
   "outputs": [],
   "source": [
    "# Display df so can export\n",
    "mom_baby_step1_baby1stvisit_infantdrug_dose.display()"
   ]
  },
  {
   "cell_type": "markdown",
   "metadata": {
    "application/vnd.databricks.v1+cell": {
     "cellMetadata": {
      "byteLimit": 2048000,
      "rowLimit": 10000
     },
     "inputWidgets": {},
     "nuid": "dfa59627-9392-4158-98c4-cd010cd11547",
     "showTitle": false,
     "tableResultSettingsMap": {},
     "title": ""
    }
   },
   "source": [
    "#### Validation"
   ]
  },
  {
   "cell_type": "code",
   "execution_count": 0,
   "metadata": {
    "ExecuteTime": {
     "end_time": "2023-01-09T17:19:21.502247Z",
     "start_time": "2023-01-09T17:19:11.361171Z"
    },
    "application/vnd.databricks.v1+cell": {
     "cellMetadata": {
      "byteLimit": 2048000,
      "rowLimit": 10000
     },
     "inputWidgets": {},
     "nuid": "be0bdf2c-53bb-44e6-ae87-c3166a503a84",
     "showTitle": false,
     "tableResultSettingsMap": {},
     "title": ""
    }
   },
   "outputs": [],
   "source": [
    "df_inspection(\"global_temp.mom_baby_step1_baby1stvisit_infantdrug_dose\",\"baby\")\n",
    "\n"
   ]
  },
  {
   "cell_type": "markdown",
   "metadata": {
    "application/vnd.databricks.v1+cell": {
     "cellMetadata": {},
     "inputWidgets": {},
     "nuid": "c3162333-b367-4146-9ebf-cdd726160003",
     "showTitle": false,
     "tableResultSettingsMap": {},
     "title": ""
    }
   },
   "source": [
    "### Save Output for future use"
   ]
  },
  {
   "cell_type": "code",
   "execution_count": 0,
   "metadata": {
    "application/vnd.databricks.v1+cell": {
     "cellMetadata": {},
     "inputWidgets": {},
     "nuid": "c601bc91-2e62-4370-be7e-6805b8788eda",
     "showTitle": false,
     "tableResultSettingsMap": {},
     "title": ""
    }
   },
   "outputs": [],
   "source": [
    "mom_baby_step1_baby1stvisit_infantdrug_dose.write.mode(\"overwrite\").saveAsTable(f\"covariate_output.mom_baby_1st_visit_infantdrug_dose\")"
   ]
  }
 ],
 "metadata": {
  "application/vnd.databricks.v1+notebook": {
   "computePreferences": null,
   "dashboards": [],
   "environmentMetadata": null,
   "inputWidgetPreferences": null,
   "language": "python",
   "notebookMetadata": {
    "mostRecentlyExecutedCommandWithImplicitDF": {
     "commandId": -1,
     "dataframes": [
      "_sqldf"
     ]
    },
    "pythonIndentUnit": 4
   },
   "notebookName": "infant pharmacotherapy",
   "widgets": {
    "phenotype_version": {
     "currentValue": "V1_05232022",
     "nuid": "8a2c86f1-e67c-4c36-ba76-efef35bdb15e",
     "typedWidgetInfo": null,
     "widgetInfo": {
      "widgetType": "dropdown",
      "defaultValue": "V1_05232022",
      "label": "Phenotype for outcome covariant",
      "name": "phenotype_version",
      "options": {
       "widgetType": "dropdown",
       "autoCreated": null,
       "choices": [
        "V1_05232022",
        "V2_11042022",
        "Current_version"
       ]
      }
     }
    }
   }
  },
  "kernelspec": {
   "display_name": "Python 3 (ipykernel)",
   "language": "python",
   "name": "python3"
  },
  "language_info": {
   "name": "python"
  }
 },
 "nbformat": 4,
 "nbformat_minor": 0
}