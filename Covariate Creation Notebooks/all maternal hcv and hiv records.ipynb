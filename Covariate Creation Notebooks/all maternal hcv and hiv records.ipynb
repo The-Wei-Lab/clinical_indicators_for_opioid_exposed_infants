{
 "cells": [
  {
   "cell_type": "markdown",
   "metadata": {
    "application/vnd.databricks.v1+cell": {
     "cellMetadata": {},
     "inputWidgets": {},
     "nuid": "1d3e77d7-19ee-4a39-bc96-c9e5de673aeb",
     "showTitle": false,
     "tableResultSettingsMap": {},
     "title": ""
    }
   },
   "source": [
    "##### Project: Opioid Exposed Infant Covariates\n",
    "##### Investigator: Stephen Patrick, Sarah Loch\n",
    "##### Programmers: Sander Su, Chris Guardo\n",
    "##### Date Created: 01/17/23\n",
    "##### Last Modified: 09/30/25\n",
    "\n",
    "#### Notes:\n",
    "This notebook depends on both the mom_hcv_hiv_lab and the mom_hcv_hiv_icd notebook, and performs an inner join to show which patients have both ICD and Lab values \n"
   ]
  },
  {
   "cell_type": "code",
   "execution_count": 0,
   "metadata": {
    "application/vnd.databricks.v1+cell": {
     "cellMetadata": {},
     "inputWidgets": {},
     "nuid": "9e0c1bad-1732-473b-b2ed-25174764b329",
     "showTitle": false,
     "tableResultSettingsMap": {},
     "title": ""
    }
   },
   "outputs": [],
   "source": [
    "%run \"../Project_modules\""
   ]
  },
  {
   "cell_type": "code",
   "execution_count": 0,
   "metadata": {
    "application/vnd.databricks.v1+cell": {
     "cellMetadata": {},
     "inputWidgets": {},
     "nuid": "363cc69f-cf24-4805-8aa6-0cc45365447e",
     "showTitle": false,
     "tableResultSettingsMap": {},
     "title": ""
    }
   },
   "outputs": [],
   "source": [
    "phenotype_table_location = \" ***Insert file location*** \"\n",
    "phenotype_table=spark.sql(f\"SELECT * FROM {phenotype_table_location}\")"
   ]
  },
  {
   "cell_type": "markdown",
   "metadata": {
    "application/vnd.databricks.v1+cell": {
     "cellMetadata": {},
     "inputWidgets": {},
     "nuid": "cc86c22e-8b9a-400c-b0aa-800b3a746ed1",
     "showTitle": false,
     "tableResultSettingsMap": {},
     "title": ""
    }
   },
   "source": [
    "##### Prepare the cohort"
   ]
  },
  {
   "cell_type": "code",
   "execution_count": 0,
   "metadata": {
    "application/vnd.databricks.v1+cell": {
     "cellMetadata": {},
     "inputWidgets": {},
     "nuid": "0ca16b1c-61ee-4031-b40c-85f49cf838ab",
     "showTitle": false,
     "tableResultSettingsMap": {},
     "title": ""
    }
   },
   "outputs": [],
   "source": [
    "mom_exposed_opioid = get_mom_cohort(phenotype_table)\n",
    "mom_exposed_opioid.createOrReplaceTempView(\"mom_exposed_opioid\")"
   ]
  },
  {
   "cell_type": "markdown",
   "metadata": {
    "application/vnd.databricks.v1+cell": {
     "cellMetadata": {},
     "inputWidgets": {},
     "nuid": "fa6620ee-88fb-4d32-b9a3-6158fcc5acb4",
     "showTitle": false,
     "tableResultSettingsMap": {},
     "title": ""
    }
   },
   "source": [
    "##### Combine cohort with covar outcomes"
   ]
  },
  {
   "cell_type": "code",
   "execution_count": 0,
   "metadata": {
    "application/vnd.databricks.v1+cell": {
     "cellMetadata": {
      "implicitDf": true
     },
     "inputWidgets": {},
     "nuid": "f62426fc-dece-42e6-a4db-23f5d7e0fb03",
     "showTitle": false,
     "tableResultSettingsMap": {},
     "title": ""
    }
   },
   "outputs": [],
   "source": [
    "sql=\"\"\"\n",
    "\n",
    "  select\n",
    "  distinct a.*,\n",
    "  case\n",
    "    when b.baby_person_id is not null then 1\n",
    "    else 0\n",
    "  end as maternal_hcv_lab_positive,\n",
    "  case\n",
    "    when c.baby_person_id is not null then 1\n",
    "    else 0\n",
    "  end as maternal_hcv_lab_quantitative,\n",
    "  case\n",
    "    when d.baby_person_id is not null then 1\n",
    "    else 0\n",
    "  end as maternal_hcv_icd,\n",
    "  case\n",
    "    when e.baby_person_id is not null then 1\n",
    "    else 0\n",
    "  end as maternal_hcv_icd_1ip2op,\n",
    "  case\n",
    "    when eip.baby_person_id is not null then 1\n",
    "    else 0\n",
    "  end as maternal_hcv_icd_1ip,\n",
    "  case\n",
    "    when eop.baby_person_id is not null then 1\n",
    "    else 0\n",
    "  end as maternal_hcv_icd_2op,\n",
    "  case\n",
    "    when f.baby_person_id is not null then 1\n",
    "    else 0\n",
    "  end as maternal_hiv_lab_positive,\n",
    "  case\n",
    "    when g.baby_person_id is not null then 1\n",
    "    else 0\n",
    "  end as maternal_hiv_lab_quantitative,\n",
    "  case\n",
    "    when i.baby_person_id is not null then 1\n",
    "    else 0\n",
    "  end as maternal_hiv_icd,\n",
    "  case\n",
    "    when j.baby_person_id is not null then 1\n",
    "    else 0\n",
    "  end as maternal_hiv_icd_1ip2op,\n",
    "  case\n",
    "    when jip.baby_person_id is not null then 1\n",
    "    else 0\n",
    "  end as maternal_hiv_icd_1ip,\n",
    "  case\n",
    "    when jop.baby_person_id is not null then 1\n",
    "    else 0\n",
    "  end as maternal_hiv_icd_2op\n",
    "from\n",
    "  mom_exposed_opioid a\n",
    "  left join global_temp.hcv_hiv_lab_positive_prenatal_opioid_hcv b on a.mom_person_id = b.mom_person_id\n",
    "  and a.baby_person_id = b.baby_person_id\n",
    "  left join global_temp.hcv_hiv_lab_quantative_prenatal_opioid_hcv c on a.mom_person_id = c.mom_person_id\n",
    "  and a.baby_person_id = c.baby_person_id\n",
    "  left join (\n",
    "    select\n",
    "      *\n",
    "    from\n",
    "      global_temp.hcv_hiv_icd_prenatal\n",
    "    where\n",
    "      type = 'HCV'\n",
    "  ) d on a.mom_person_id = d.mom_person_id\n",
    "  and a.baby_person_id = d.baby_person_id\n",
    "  left join global_temp.icd_prenatal_visit_hcv_ip1op2_update e on a.mom_person_id = e.mom_person_id\n",
    "  and a.baby_person_id = e.baby_person_id\n",
    "  left join global_temp.icd_prenatal_visit_hcv_ip1_update eip on a.mom_person_id = eip.mom_person_id\n",
    "  and a.baby_person_id = eip.baby_person_id\n",
    "  left join global_temp.icd_prenatal_visit_hcv_op2_update eop on a.mom_person_id = eop.mom_person_id\n",
    "  and a.baby_person_id = eop.baby_person_id\n",
    "  left join global_temp.hcv_hiv_lab_positive_prenatal_opioid_hiv f on a.mom_person_id = f.mom_person_id\n",
    "  and a.baby_person_id = f.baby_person_id\n",
    "  left join global_temp.hcv_hiv_lab_quantative_prenatal_opioid_hiv g on a.mom_person_id = g.mom_person_id\n",
    "  and a.baby_person_id = g.baby_person_id\n",
    "  left join (\n",
    "    select\n",
    "      *\n",
    "    from\n",
    "      global_temp.hcv_hiv_icd_prenatal\n",
    "    where\n",
    "      type = 'HIV'\n",
    "  ) i on a.mom_person_id = i.mom_person_id\n",
    "  and a.baby_person_id = i.baby_person_id\n",
    "  left join global_temp.icd_prenatal_visit_hiv_ip1op2_update j on a.mom_person_id = j.mom_person_id\n",
    "  and a.baby_person_id = j.baby_person_id\n",
    "  left join global_temp.icd_prenatal_visit_hiv_ip1_update jip on a.mom_person_id = jip.mom_person_id\n",
    "  and a.baby_person_id = jip.baby_person_id\n",
    "  left join global_temp.icd_prenatal_visit_hiv_op2_update jop on a.mom_person_id = jop.mom_person_id\n",
    "  and a.baby_person_id = jop.baby_person_id\n",
    "  \n",
    "  \"\"\"\n",
    "\n",
    "outcome_df=spark.sql(sql)\n",
    "outcome_df.name='mom_hcv_hiv_output'\n",
    "register_parquet_global_view(outcome_df)"
   ]
  },
  {
   "cell_type": "code",
   "execution_count": 0,
   "metadata": {
    "application/vnd.databricks.v1+cell": {
     "cellMetadata": {},
     "inputWidgets": {},
     "nuid": "0ec0948c-fb42-4ada-bc60-15e30d3a8916",
     "showTitle": false,
     "tableResultSettingsMap": {},
     "title": ""
    }
   },
   "outputs": [],
   "source": [
    "df_inspection(\"global_temp.mom_hcv_hiv_output\",\"all\")\n"
   ]
  },
  {
   "cell_type": "markdown",
   "metadata": {
    "application/vnd.databricks.v1+cell": {
     "cellMetadata": {},
     "inputWidgets": {},
     "nuid": "026cd664-389a-4f7b-8bb8-d4994e8626f7",
     "showTitle": false,
     "tableResultSettingsMap": {},
     "title": ""
    }
   },
   "source": [
    "### Save Output for future use"
   ]
  },
  {
   "cell_type": "code",
   "execution_count": 0,
   "metadata": {
    "application/vnd.databricks.v1+cell": {
     "cellMetadata": {},
     "inputWidgets": {},
     "nuid": "0a42b566-974c-422d-9fd1-2539fbf3b095",
     "showTitle": false,
     "tableResultSettingsMap": {},
     "title": ""
    }
   },
   "outputs": [],
   "source": [
    "outcome_df.write.mode(\"overwrite\").saveAsTable(f\"covariate_output.mom_hcv_hiv_output_all\")"
   ]
  }
 ],
 "metadata": {
  "application/vnd.databricks.v1+notebook": {
   "computePreferences": null,
   "dashboards": [],
   "environmentMetadata": null,
   "inputWidgetPreferences": null,
   "language": "python",
   "notebookMetadata": {
    "mostRecentlyExecutedCommandWithImplicitDF": {
     "commandId": 4032878801373214,
     "dataframes": [
      "_sqldf"
     ]
    },
    "pythonIndentUnit": 4
   },
   "notebookName": "all maternal hcv and hiv records",
   "widgets": {
    "phenotype_version": {
     "currentValue": "V2_11042022",
     "nuid": "bd10473c-2f98-4ebb-a73a-381884e27370",
     "typedWidgetInfo": null,
     "widgetInfo": {
      "widgetType": "dropdown",
      "defaultValue": "V2_11042022",
      "label": "Phenotype for outcome covariant",
      "name": "phenotype_version",
      "options": {
       "widgetType": "dropdown",
       "autoCreated": null,
       "choices": [
        "V1_05232022",
        "V2_11042022",
        "Current_version"
       ]
      }
     }
    }
   }
  },
  "language_info": {
   "name": "python"
  }
 },
 "nbformat": 4,
 "nbformat_minor": 0
}