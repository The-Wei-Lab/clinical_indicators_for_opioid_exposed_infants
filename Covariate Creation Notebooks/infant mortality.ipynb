{
 "cells": [
  {
   "cell_type": "markdown",
   "metadata": {
    "ExecuteTime": {
     "end_time": "2022-10-17T15:33:31.433647Z",
     "start_time": "2022-10-17T15:33:31.428545Z"
    },
    "application/vnd.databricks.v1+cell": {
     "cellMetadata": {},
     "inputWidgets": {},
     "nuid": "184fc538-477c-47ee-8d3f-df550f6db0e4",
     "showTitle": false,
     "tableResultSettingsMap": {},
     "title": ""
    }
   },
   "source": [
    "##### Project: Opioid Exposed Infant Covariates\n",
    "##### Investigator: Stephen Patrick, Sarah Loch\n",
    "##### Programmers: Sander Su, Chris Guardo\n",
    "##### Date Created: 01/17/23\n",
    "##### Last Modified: 09/30/25\n",
    "\n",
    "#### Notes: \n",
    "This step comes after birth visit in the workspace pipeline. It matches infant reccords to death reccords available through OMOP tables"
   ]
  },
  {
   "cell_type": "code",
   "execution_count": 0,
   "metadata": {
    "ExecuteTime": {
     "end_time": "2023-01-09T17:09:41.945451Z",
     "start_time": "2023-01-09T17:09:41.931993Z"
    },
    "application/vnd.databricks.v1+cell": {
     "cellMetadata": {},
     "inputWidgets": {},
     "nuid": "ec180f23-b877-491f-a756-d66a12d23e0e",
     "showTitle": false,
     "tableResultSettingsMap": {},
     "title": ""
    }
   },
   "outputs": [],
   "source": [
    "%run \"../Project_modules\""
   ]
  },
  {
   "cell_type": "markdown",
   "metadata": {
    "application/vnd.databricks.v1+cell": {
     "cellMetadata": {},
     "inputWidgets": {},
     "nuid": "95aef72d-f6df-4a80-9fac-1dbc801cb8a7",
     "showTitle": false,
     "tableResultSettingsMap": {},
     "title": ""
    }
   },
   "source": [
    "##### Check if 41K infants are in OMOP DEATH table and output MRN, DOB, Visit start, visit end, DEATH Columns + concept names, Flag for if death date is within birth hospitalization stay + 3 days"
   ]
  },
  {
   "cell_type": "code",
   "execution_count": 0,
   "metadata": {
    "application/vnd.databricks.v1+cell": {
     "cellMetadata": {},
     "inputWidgets": {},
     "nuid": "d8b3a7cc-0cd4-4e98-a41b-8cd576c74cbe",
     "showTitle": false,
     "tableResultSettingsMap": {},
     "title": ""
    }
   },
   "outputs": [],
   "source": [
    "phenotype_table_location = \" ***Insert file location*** \"\n",
    "phenotype_table=spark.sql(f\"SELECT * FROM {phenotype_table_location}\")"
   ]
  },
  {
   "cell_type": "markdown",
   "metadata": {
    "application/vnd.databricks.v1+cell": {
     "cellMetadata": {},
     "inputWidgets": {},
     "nuid": "3841b19d-8c60-457e-a683-a87e8f866e2b",
     "showTitle": false,
     "tableResultSettingsMap": {},
     "title": ""
    }
   },
   "source": [
    "##### cohort:  infant in phenotype cohort with exposed to opioid"
   ]
  },
  {
   "cell_type": "code",
   "execution_count": 0,
   "metadata": {
    "application/vnd.databricks.v1+cell": {
     "cellMetadata": {},
     "inputWidgets": {},
     "nuid": "eaff1c80-14d7-4e2c-92cc-d7e03c15b97e",
     "showTitle": false,
     "tableResultSettingsMap": {},
     "title": ""
    },
    "code_folding": []
   },
   "outputs": [],
   "source": [
    "phenotype_cohort = get_phenotype_cohort(phenotype_table)\n",
    "phenotype_cohort.createOrReplaceTempView(\"phenotype_cohort\")"
   ]
  },
  {
   "cell_type": "markdown",
   "metadata": {
    "application/vnd.databricks.v1+cell": {
     "cellMetadata": {},
     "inputWidgets": {},
     "nuid": "af8ef974-04b2-4e3c-b98a-38c268be958d",
     "showTitle": false,
     "tableResultSettingsMap": {},
     "title": ""
    }
   },
   "source": [
    "##### To See if the infants in the DEATH table (V_DEATH)"
   ]
  },
  {
   "cell_type": "code",
   "execution_count": 0,
   "metadata": {
    "application/vnd.databricks.v1+cell": {
     "cellMetadata": {},
     "inputWidgets": {},
     "nuid": "bcaf40a2-82d2-41d5-80fa-2fff975a63ba",
     "showTitle": false,
     "tableResultSettingsMap": {},
     "title": ""
    }
   },
   "outputs": [],
   "source": [
    "sql=f\"\"\"\n",
    "      select * from {death_table} WHERE person_id in (select distinct baby_person_id from phenotype_cohort);\n",
    "     \"\"\"\n",
    "infant_death = spark.sql(sql)\n",
    "infant_death.name='infant_death'\n",
    "register_parquet_global_view(infant_death)"
   ]
  },
  {
   "cell_type": "markdown",
   "metadata": {
    "application/vnd.databricks.v1+cell": {
     "cellMetadata": {},
     "inputWidgets": {},
     "nuid": "81fe8e9c-e888-4a40-9718-113a5a409125",
     "showTitle": false,
     "tableResultSettingsMap": {},
     "title": ""
    }
   },
   "source": [
    "##### Validation"
   ]
  },
  {
   "cell_type": "code",
   "execution_count": 0,
   "metadata": {
    "application/vnd.databricks.v1+cell": {
     "cellMetadata": {},
     "inputWidgets": {},
     "nuid": "457b493c-658d-4516-87e8-d4dd39a1215d",
     "showTitle": false,
     "tableResultSettingsMap": {},
     "title": ""
    }
   },
   "outputs": [],
   "source": [
    "sql=\"\"\"\n",
    "       select count(*) as total,count(distinct person_id) as unique_baby from global_temp.infant_death;\n",
    "\n",
    "   \"\"\"\n",
    "inspect_df= spark.sql(sql)\n",
    "inspect_df.display()\n"
   ]
  },
  {
   "cell_type": "markdown",
   "metadata": {
    "application/vnd.databricks.v1+cell": {
     "cellMetadata": {},
     "inputWidgets": {},
     "nuid": "dfa59627-9392-4158-98c4-cd010cd11547",
     "showTitle": false,
     "tableResultSettingsMap": {},
     "title": ""
    }
   },
   "source": [
    "##### Add phenotype information for review\n",
    "##### FLAG if the Death happened during birth hospitalization"
   ]
  },
  {
   "cell_type": "code",
   "execution_count": 0,
   "metadata": {
    "ExecuteTime": {
     "end_time": "2023-01-09T17:19:21.502247Z",
     "start_time": "2023-01-09T17:19:11.361171Z"
    },
    "application/vnd.databricks.v1+cell": {
     "cellMetadata": {},
     "inputWidgets": {},
     "nuid": "be0bdf2c-53bb-44e6-ae87-c3166a503a84",
     "showTitle": false,
     "tableResultSettingsMap": {},
     "title": ""
    }
   },
   "outputs": [],
   "source": [
    "\n",
    "sql=f\"\"\"\n",
    "      select BABY_PERSON_SOURCE_VALUE as baby_mrn,DEATH_DATE,DEATH_DATETIME,DEATH_TYPE_CONCEPT_ID,CAUSE_CONCEPT_ID,CAUSE_SOURCE_VALUE,\n",
    "      CAUSE_SOURCE_CONCEPT_ID,\n",
    "      case when death_date is not null and death_date >= first_visit_start_date and death_date <= first_visit_end_date then 1 \n",
    "      when death_date is null then null else 0 end as if_within_bh,\n",
    "      BIRTH_DATETIME,FIRST_VISIT_START_DATE,FIRST_VISIT_START_DATETIME,FIRST_VISIT_END_DATE,\n",
    "      b.BABY_1ST_VISIT_PROBLEM as BABY_1ST_VISIT_PROBLEM_DETAIL,\n",
    "      MOM_PERSON_SOURCE_VALUE as mom_mrn,AGE_AT_DELIVERY,MOM_BIRTH_DATETIME,MOM_GENDER,MOM_RACE,BABY_PERSON_SOURCE_VALUE,\n",
    "      BABY_BIRTH_DATETIME,BABY_GENDER,BABY_RACE,\n",
    "      LIVE_BIRTH_CODE,PREGNANCY_CODE,GESTATIONAL_AGE_W33_OR_UNCERTAIN,\n",
    "      CRITICAL_ILLNESS_4CPT,RESPIRATORY_PROCEDURE_CODE,FETAL_ANOMALIES_CODE,GESTATIONAL_AGE_UNCERTAIN,\n",
    "      NOWS_BABY_CODE,INFANT_TOX_LAB,MOM_OUD,MOM_OUD_INPATIENT,MOM_OUD_OUTPATIENT,MOM_DRUG,MOM_DRUG_IN_NOTE,\n",
    "      MOM_OPIOID_TOX,c.BABY_1ST_VISIT_PROBLEM \n",
    "   \n",
    "      from global_temp.infant_death a \n",
    "      left join global_temp.mom_baby_step1_baby1stvisit b on a.person_id = b.baby_person_id\n",
    "      inner join {phenotype_table} c \n",
    "      on a.person_id = c.baby_person_id;\n",
    "   \"\"\"\n",
    "infant_death_all = spark.sql(sql)\n",
    "infant_death_all.name='infant_death_all'\n",
    "register_parquet_global_view(infant_death_all)"
   ]
  },
  {
   "cell_type": "markdown",
   "metadata": {
    "application/vnd.databricks.v1+cell": {
     "cellMetadata": {},
     "inputWidgets": {},
     "nuid": "431e8aa8-f7e0-4851-a4c6-d5431159f5ac",
     "showTitle": false,
     "tableResultSettingsMap": {},
     "title": ""
    }
   },
   "source": [
    "##### Validation"
   ]
  },
  {
   "cell_type": "code",
   "execution_count": 0,
   "metadata": {
    "application/vnd.databricks.v1+cell": {
     "cellMetadata": {},
     "inputWidgets": {},
     "nuid": "49a98ba7-cbdc-48f6-a26b-26102cb2455a",
     "showTitle": false,
     "tableResultSettingsMap": {},
     "title": ""
    }
   },
   "outputs": [],
   "source": [
    "sql=\"\"\"\n",
    "       select count(*) as total,count(distinct baby_mrn) as unique_baby from global_temp.infant_death_all;\n",
    "    \"\"\"\n",
    "inspect_df = spark.sql(sql)\n",
    "inspect_df.display()"
   ]
  },
  {
   "cell_type": "markdown",
   "metadata": {
    "application/vnd.databricks.v1+cell": {
     "cellMetadata": {},
     "inputWidgets": {},
     "nuid": "50d6e091-6abe-4a59-ab7e-37ab828237c6",
     "showTitle": false,
     "tableResultSettingsMap": {},
     "title": ""
    }
   },
   "source": [
    "### Save Output for future use"
   ]
  },
  {
   "cell_type": "code",
   "execution_count": 0,
   "metadata": {
    "application/vnd.databricks.v1+cell": {
     "cellMetadata": {},
     "inputWidgets": {},
     "nuid": "156141c8-043c-4ecc-8714-bc5fa351d8ee",
     "showTitle": false,
     "tableResultSettingsMap": {},
     "title": ""
    }
   },
   "outputs": [],
   "source": [
    "infant_death_all.write.mode(\"overwrite\").saveAsTable(f\"covariate_output.infant_death_all\")"
   ]
  }
 ],
 "metadata": {
  "application/vnd.databricks.v1+notebook": {
   "computePreferences": null,
   "dashboards": [],
   "environmentMetadata": null,
   "inputWidgetPreferences": null,
   "language": "python",
   "notebookMetadata": {
    "mostRecentlyExecutedCommandWithImplicitDF": {
     "commandId": -1,
     "dataframes": [
      "_sqldf"
     ]
    },
    "pythonIndentUnit": 4
   },
   "notebookName": "infant mortality",
   "widgets": {
    "phenotype_version": {
     "currentValue": "V2_11042022",
     "nuid": "8f2c6a39-c39f-4d39-ad0a-0b8d3fe0e34f",
     "typedWidgetInfo": null,
     "widgetInfo": {
      "widgetType": "dropdown",
      "defaultValue": "V2_11042022",
      "label": "Phenotype for outcome covariant",
      "name": "phenotype_version",
      "options": {
       "widgetType": "dropdown",
       "autoCreated": null,
       "choices": [
        "V1_05232022",
        "V2_11042022",
        "Current_version"
       ]
      }
     }
    }
   }
  },
  "kernelspec": {
   "display_name": "Python 3 (ipykernel)",
   "language": "python",
   "name": "python3"
  },
  "language_info": {
   "name": "python"
  }
 },
 "nbformat": 4,
 "nbformat_minor": 0
}