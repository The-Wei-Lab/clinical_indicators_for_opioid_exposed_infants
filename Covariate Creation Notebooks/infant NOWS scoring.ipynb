{
 "cells": [
  {
   "cell_type": "markdown",
   "metadata": {
    "ExecuteTime": {
     "end_time": "2022-10-17T15:33:31.433647Z",
     "start_time": "2022-10-17T15:33:31.428545Z"
    },
    "application/vnd.databricks.v1+cell": {
     "cellMetadata": {},
     "inputWidgets": {},
     "nuid": "184fc538-477c-47ee-8d3f-df550f6db0e4",
     "showTitle": false,
     "tableResultSettingsMap": {},
     "title": ""
    }
   },
   "source": [
    "##### Project: Opioid Exposed Infant Covariates\n",
    "##### Investigator: Stephen Patrick, Sarah Loch\n",
    "##### Programmers: Sander Su, Chris Guardo\n",
    "##### Date Created: 01/17/23\n",
    "##### Last Modified: 09/30/25\n",
    "\n",
    "#### Notes: \n",
    "This step comes after birth visit in the workspace pipeline. It pulls every  NAST or NOWS composite score recorded during the birth hospitalization from nursing flow sheets. \n",
    "\n",
    "\n",
    "### Using flowsheet data from HCI PAT results table @ VUMC"
   ]
  },
  {
   "cell_type": "code",
   "execution_count": 0,
   "metadata": {
    "ExecuteTime": {
     "end_time": "2023-01-09T17:09:41.945451Z",
     "start_time": "2023-01-09T17:09:41.931993Z"
    },
    "application/vnd.databricks.v1+cell": {
     "cellMetadata": {},
     "inputWidgets": {},
     "nuid": "ec180f23-b877-491f-a756-d66a12d23e0e",
     "showTitle": false,
     "tableResultSettingsMap": {},
     "title": ""
    }
   },
   "outputs": [],
   "source": [
    "%run \"../Project_modules\""
   ]
  },
  {
   "cell_type": "markdown",
   "metadata": {
    "application/vnd.databricks.v1+cell": {
     "cellMetadata": {},
     "inputWidgets": {},
     "nuid": "95aef72d-f6df-4a80-9fac-1dbc801cb8a7",
     "showTitle": false,
     "tableResultSettingsMap": {},
     "title": ""
    }
   },
   "source": [
    "##### Scored for NAS: Y/N\n",
    "##### search '%NAST%' and '%NWI%' in the column 'class_name' of table 'HCI_PAT_RESULT'\n",
    "##### Cohort: infant in phenotype\n",
    "##### time window: all time, mark it the NAST score got during birth hospitalization, using '1' or '0'   ('1': in birth hospitalization; '0': not in birth hospitalization)\n",
    "\n"
   ]
  },
  {
   "cell_type": "code",
   "execution_count": 0,
   "metadata": {
    "application/vnd.databricks.v1+cell": {
     "cellMetadata": {},
     "inputWidgets": {},
     "nuid": "d8b3a7cc-0cd4-4e98-a41b-8cd576c74cbe",
     "showTitle": false,
     "tableResultSettingsMap": {},
     "title": ""
    }
   },
   "outputs": [],
   "source": [
    "phenotype_table_location = \" ***Insert file location*** \"\n",
    "phenotype_table=spark.sql(f\"SELECT * FROM {phenotype_table_location}\")"
   ]
  },
  {
   "cell_type": "markdown",
   "metadata": {
    "application/vnd.databricks.v1+cell": {
     "cellMetadata": {},
     "inputWidgets": {},
     "nuid": "3841b19d-8c60-457e-a683-a87e8f866e2b",
     "showTitle": false,
     "tableResultSettingsMap": {},
     "title": ""
    }
   },
   "source": [
    "##### cohort:infant in phenotype"
   ]
  },
  {
   "cell_type": "code",
   "execution_count": 0,
   "metadata": {
    "application/vnd.databricks.v1+cell": {
     "cellMetadata": {},
     "inputWidgets": {},
     "nuid": "eaff1c80-14d7-4e2c-92cc-d7e03c15b97e",
     "showTitle": false,
     "tableResultSettingsMap": {},
     "title": ""
    },
    "code_folding": []
   },
   "outputs": [],
   "source": [
    "phenotype_cohort=get_phenotype_cohort(phenotype_table)\n",
    "phenotype_cohort.createOrReplaceTempView(\"phenotype_cohort\")"
   ]
  },
  {
   "cell_type": "markdown",
   "metadata": {
    "application/vnd.databricks.v1+cell": {
     "cellMetadata": {},
     "inputWidgets": {},
     "nuid": "25c6c0d9-0e39-40c6-ab4b-6c116f955cc3",
     "showTitle": false,
     "tableResultSettingsMap": {},
     "title": ""
    }
   },
   "source": [
    "##### Function to get NAST/NWI score cohorts\n",
    "##### time window: all time, mark it the NWI score got during birth hospitalization, using '1' or '0' ('1': in birth hospitalization; '0': not in birth hospitalization)"
   ]
  },
  {
   "cell_type": "code",
   "execution_count": 0,
   "metadata": {
    "application/vnd.databricks.v1+cell": {
     "cellMetadata": {},
     "inputWidgets": {},
     "nuid": "9bb9baa0-e0d7-40ee-9194-8bedfef30e4b",
     "showTitle": false,
     "tableResultSettingsMap": {},
     "title": ""
    }
   },
   "outputs": [],
   "source": [
    "def get_score_cohort(score_name):\n",
    "  \n",
    "   sql=f\"\"\"\n",
    "   \n",
    "         select *,case when date(perform_dt)>=first_visit_start_date and date(perform_dt)<=first_visit_end_date then '1' \n",
    "         else '0' end as if_during_birth_hospitalization  \n",
    "      \n",
    "         from\n",
    "      \n",
    "         (select * from phenotype_cohort) a\n",
    "      \n",
    "         inner join \n",
    "      \n",
    "         (SELECT * FROM {flowsheet_table} WHERE upper(class_name) LIKE '%{score_name}%' and lower(display_text) like '%total%') score \n",
    "      \n",
    "         on a.baby_person_source_value = score.mrn \n",
    "      \n",
    "         left join (select baby_person_id,first_visit_start_date,first_visit_end_date from global_temp.mom_baby_step1_baby1stvisit_all) c       \n",
    "         using (baby_person_id);\n",
    "\n",
    "   \"\"\"\n",
    "   score_df= spark.sql(sql)\n",
    "   return score_df"
   ]
  },
  {
   "cell_type": "markdown",
   "metadata": {
    "application/vnd.databricks.v1+cell": {
     "cellMetadata": {},
     "inputWidgets": {},
     "nuid": "af8ef974-04b2-4e3c-b98a-38c268be958d",
     "showTitle": false,
     "tableResultSettingsMap": {},
     "title": ""
    }
   },
   "source": [
    "##### 'NWI' score of the cohort"
   ]
  },
  {
   "cell_type": "code",
   "execution_count": 0,
   "metadata": {
    "application/vnd.databricks.v1+cell": {
     "cellMetadata": {},
     "inputWidgets": {},
     "nuid": "bcaf40a2-82d2-41d5-80fa-2fff975a63ba",
     "showTitle": false,
     "tableResultSettingsMap": {},
     "title": ""
    }
   },
   "outputs": [],
   "source": [
    "mprint_nwi = get_score_cohort('NWI')\n",
    "mprint_nwi.name='mprint_nwi'\n",
    "register_parquet_global_view(mprint_nwi)"
   ]
  },
  {
   "cell_type": "markdown",
   "metadata": {
    "application/vnd.databricks.v1+cell": {
     "cellMetadata": {},
     "inputWidgets": {},
     "nuid": "81fe8e9c-e888-4a40-9718-113a5a409125",
     "showTitle": false,
     "tableResultSettingsMap": {},
     "title": ""
    }
   },
   "source": [
    "##### Validation"
   ]
  },
  {
   "cell_type": "code",
   "execution_count": 0,
   "metadata": {
    "application/vnd.databricks.v1+cell": {
     "cellMetadata": {},
     "inputWidgets": {},
     "nuid": "457b493c-658d-4516-87e8-d4dd39a1215d",
     "showTitle": false,
     "tableResultSettingsMap": {},
     "title": ""
    }
   },
   "outputs": [],
   "source": [
    "# sql=\"\"\"\n",
    "#    select count(*) as total, count(distinct baby_person_source_value) as unique_baby from global_temp.mprint_nwi \n",
    "#    where if_during_birth_hospitalization =1;\n",
    "#    \"\"\"\n",
    "# inspect_df= spark.sql(sql)\n",
    "# inspect_df.display()"
   ]
  },
  {
   "cell_type": "markdown",
   "metadata": {
    "application/vnd.databricks.v1+cell": {
     "cellMetadata": {},
     "inputWidgets": {},
     "nuid": "dfa59627-9392-4158-98c4-cd010cd11547",
     "showTitle": false,
     "tableResultSettingsMap": {},
     "title": ""
    }
   },
   "source": [
    "##### Create 'NAST' score of the cohort (NAST is more important than NAS score)"
   ]
  },
  {
   "cell_type": "code",
   "execution_count": 0,
   "metadata": {
    "ExecuteTime": {
     "end_time": "2023-01-09T17:19:21.502247Z",
     "start_time": "2023-01-09T17:19:11.361171Z"
    },
    "application/vnd.databricks.v1+cell": {
     "cellMetadata": {},
     "inputWidgets": {},
     "nuid": "be0bdf2c-53bb-44e6-ae87-c3166a503a84",
     "showTitle": false,
     "tableResultSettingsMap": {},
     "title": ""
    }
   },
   "outputs": [],
   "source": [
    "mprint_nast = get_score_cohort('NAST')\n",
    "mprint_nast.name='mprint_nast'\n",
    "register_parquet_global_view(mprint_nast)"
   ]
  },
  {
   "cell_type": "markdown",
   "metadata": {
    "application/vnd.databricks.v1+cell": {
     "cellMetadata": {},
     "inputWidgets": {},
     "nuid": "431e8aa8-f7e0-4851-a4c6-d5431159f5ac",
     "showTitle": false,
     "tableResultSettingsMap": {},
     "title": ""
    }
   },
   "source": [
    "##### Validation"
   ]
  },
  {
   "cell_type": "code",
   "execution_count": 0,
   "metadata": {
    "application/vnd.databricks.v1+cell": {
     "cellMetadata": {},
     "inputWidgets": {},
     "nuid": "49a98ba7-cbdc-48f6-a26b-26102cb2455a",
     "showTitle": false,
     "tableResultSettingsMap": {},
     "title": ""
    }
   },
   "outputs": [],
   "source": [
    "# sql=\"\"\"\n",
    "#    select count(*) as total, count(distinct baby_person_source_value) as unique_baby from global_temp.mprint_nast \n",
    "#    where if_during_birth_hospitalization =1;\n",
    "#    \"\"\"\n",
    "# inspect_df= spark.sql(sql)\n",
    "# inspect_df.display()"
   ]
  },
  {
   "cell_type": "markdown",
   "metadata": {
    "application/vnd.databricks.v1+cell": {
     "cellMetadata": {},
     "inputWidgets": {},
     "nuid": "f7199150-fd3c-4aec-aa2f-639adbf06614",
     "showTitle": false,
     "tableResultSettingsMap": {},
     "title": ""
    }
   },
   "source": [
    "###### how many babies have both NAST or NWI score"
   ]
  },
  {
   "cell_type": "code",
   "execution_count": 0,
   "metadata": {
    "application/vnd.databricks.v1+cell": {
     "cellMetadata": {},
     "inputWidgets": {},
     "nuid": "3488a25a-3873-46cf-b150-68fdf7c0c70a",
     "showTitle": false,
     "tableResultSettingsMap": {},
     "title": ""
    }
   },
   "outputs": [],
   "source": [
    "# sql=\"\"\"\n",
    "#      select count(distinct baby_person_id) as unique_baby,min(baby_birth_datetime) as earliest_baby_brith_datetime, \n",
    "#      max(baby_birth_datetime) as latest_baby_brith_datetime from\n",
    "   \n",
    "#      (select distinct baby_person_id,baby_birth_datetime from global_temp.mprint_nwi) a\n",
    "#      inner \n",
    "#      join (select distinct baby_person_id,baby_birth_datetime from global_temp.mprint_nast) b\n",
    "   \n",
    "#      using(baby_person_id,baby_birth_datetime);\n",
    "#    \"\"\"\n",
    "# inspect_df= spark.sql(sql)\n",
    "# inspect_df.display()"
   ]
  },
  {
   "cell_type": "markdown",
   "metadata": {
    "application/vnd.databricks.v1+cell": {
     "cellMetadata": {},
     "inputWidgets": {},
     "nuid": "576cc67f-038b-454e-86b6-1f4d7b1e1f2d",
     "showTitle": false,
     "tableResultSettingsMap": {},
     "title": ""
    }
   },
   "source": [
    "### Save Output for future use"
   ]
  },
  {
   "cell_type": "code",
   "execution_count": 0,
   "metadata": {
    "application/vnd.databricks.v1+cell": {
     "cellMetadata": {},
     "inputWidgets": {},
     "nuid": "365337c0-d0d3-4738-97a0-7eb0e0da3475",
     "showTitle": false,
     "tableResultSettingsMap": {},
     "title": ""
    }
   },
   "outputs": [],
   "source": [
    "mprint_nast.write.mode(\"overwrite\").saveAsTable(f\"covariate_output.nast_or_nows_scoring\")"
   ]
  }
 ],
 "metadata": {
  "application/vnd.databricks.v1+notebook": {
   "computePreferences": null,
   "dashboards": [],
   "environmentMetadata": null,
   "inputWidgetPreferences": null,
   "language": "python",
   "notebookMetadata": {
    "mostRecentlyExecutedCommandWithImplicitDF": {
     "commandId": -1,
     "dataframes": [
      "_sqldf"
     ]
    },
    "pythonIndentUnit": 4
   },
   "notebookName": "infant NOWS scoring",
   "widgets": {
    "phenotype_version": {
     "currentValue": "V2_11042022",
     "nuid": "19f9d7c2-d2f9-4fb2-b81f-748f755fcc2b",
     "typedWidgetInfo": null,
     "widgetInfo": {
      "widgetType": "dropdown",
      "defaultValue": "V2_11042022",
      "label": "Phenotype for outcome covariant",
      "name": "phenotype_version",
      "options": {
       "widgetType": "dropdown",
       "autoCreated": null,
       "choices": [
        "V1_05232022",
        "V2_11042022",
        "Current_version"
       ]
      }
     }
    }
   }
  },
  "kernelspec": {
   "display_name": "Python 3 (ipykernel)",
   "language": "python",
   "name": "python3"
  },
  "language_info": {
   "name": "python"
  }
 },
 "nbformat": 4,
 "nbformat_minor": 0
}