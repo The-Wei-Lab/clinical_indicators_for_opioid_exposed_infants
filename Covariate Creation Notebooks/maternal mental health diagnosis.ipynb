{
 "cells": [
  {
   "cell_type": "markdown",
   "metadata": {
    "ExecuteTime": {
     "end_time": "2022-10-17T15:33:31.433647Z",
     "start_time": "2022-10-17T15:33:31.428545Z"
    },
    "application/vnd.databricks.v1+cell": {
     "cellMetadata": {},
     "inputWidgets": {},
     "nuid": "184fc538-477c-47ee-8d3f-df550f6db0e4",
     "showTitle": false,
     "tableResultSettingsMap": {},
     "title": ""
    }
   },
   "source": [
    "##### Project: Opioid Exposed Infant Covariates\n",
    "##### Investigator: Stephen Patrick, Sarah Loch\n",
    "##### Programmers: Sander Su, Chris Guardo\n",
    "##### Date Created: 01/17/23\n",
    "##### Last Modified: 09/30/25\n",
    "\n",
    "\n",
    "##### Summary: \n",
    "\n",
    "- Variable: 10. Mental health diagnoses (anxiety, depression, bipolar, schizophrenia, psychosis, mood disorders, personality disorder)\n",
    "- timeframe: 1) prenatal or 2) postpartum\n",
    "- cohort: including maternal (ip/op)\n",
    "- ICD list: Sheet 13 mat mental health dx"
   ]
  },
  {
   "cell_type": "code",
   "execution_count": 0,
   "metadata": {
    "ExecuteTime": {
     "end_time": "2023-01-09T17:09:41.945451Z",
     "start_time": "2023-01-09T17:09:41.931993Z"
    },
    "application/vnd.databricks.v1+cell": {
     "cellMetadata": {},
     "inputWidgets": {},
     "nuid": "ec180f23-b877-491f-a756-d66a12d23e0e",
     "showTitle": false,
     "tableResultSettingsMap": {},
     "title": ""
    }
   },
   "outputs": [],
   "source": [
    "%run \"../Project_modules\""
   ]
  },
  {
   "cell_type": "code",
   "execution_count": 0,
   "metadata": {
    "application/vnd.databricks.v1+cell": {
     "cellMetadata": {},
     "inputWidgets": {},
     "nuid": "a412b37f-1933-498c-89eb-0e46c48a4ab0",
     "showTitle": false,
     "tableResultSettingsMap": {},
     "title": ""
    }
   },
   "outputs": [],
   "source": [
    "spark_session = SparkSession.builder.appName(\n",
    "    'Spark_Session').getOrCreate()    \n"
   ]
  },
  {
   "cell_type": "code",
   "execution_count": 0,
   "metadata": {
    "application/vnd.databricks.v1+cell": {
     "cellMetadata": {},
     "inputWidgets": {},
     "nuid": "d39296a7-7578-4f2a-a710-371b28846c8f",
     "showTitle": false,
     "tableResultSettingsMap": {},
     "title": ""
    }
   },
   "outputs": [],
   "source": [
    "phenotype_table_location = \" ***Insert file location*** \"\n",
    "phenotype_table=spark.sql(f\"SELECT * FROM {phenotype_table_location}\")\n",
    "sheet_name=\"phenotyping.sheet_13_mat_mental_health_dx\"\n",
    "\n",
    "phenotype_cohort=get_phenotype_cohort(phenotype_table)\n",
    "phenotype_cohort.createOrReplaceTempView(\"phenotype_cohort\")\n",
    "phenotype_cohort=change_colname_case(phenotype_cohort,\"lower\")\n",
    "df_inspection(\"phenotype_cohort\",\"all\")"
   ]
  },
  {
   "cell_type": "markdown",
   "metadata": {
    "application/vnd.databricks.v1+cell": {
     "cellMetadata": {},
     "inputWidgets": {},
     "nuid": "4db4da1a-bf7f-460e-872c-a62941fe3281",
     "showTitle": false,
     "tableResultSettingsMap": {},
     "title": ""
    }
   },
   "source": [
    "##### In the condition table, to catch up the ICDs"
   ]
  },
  {
   "cell_type": "code",
   "execution_count": 0,
   "metadata": {
    "application/vnd.databricks.v1+cell": {
     "cellMetadata": {},
     "inputWidgets": {},
     "nuid": "eaff1c80-14d7-4e2c-92cc-d7e03c15b97e",
     "showTitle": false,
     "tableResultSettingsMap": {},
     "title": ""
    },
    "code_folding": []
   },
   "outputs": [],
   "source": [
    "sql=f\"\"\"\n",
    "     select trim(DX_group) as DX_group, regexp_replace(disease_code,'xx','') as disease_code from {sheet_name} where trim(disease_code) like '%xx';\n",
    "     \"\"\"\n",
    "disease_partial = spark.sql(sql)\n",
    "disease_partial_str=disease_partial.agg(F.concat_ws(\" or \",F.collect_list(F.concat(F.lit('condition_source_value like \"'),F.col('disease_code'),F.lit('%\"'))))).first()[0]\n",
    "disease_partial.createOrReplaceTempView(\"disease_partial\")\n",
    "\n",
    "sql=f\"select trim(DX_group) as DX_group,trim(disease_code) as disease_code from {sheet_name} where trim(disease_code)  not like '%xx';\"\n",
    "disease_exact = spark.sql(sql)\n",
    "disease_exact.createOrReplaceTempView(\"disease_exact\")"
   ]
  },
  {
   "cell_type": "code",
   "execution_count": 0,
   "metadata": {
    "application/vnd.databricks.v1+cell": {
     "cellMetadata": {},
     "inputWidgets": {},
     "nuid": "0d0f869e-24b9-43f3-8557-c08dc85d9746",
     "showTitle": false,
     "tableResultSettingsMap": {},
     "title": ""
    }
   },
   "outputs": [],
   "source": [
    "def update_df(source_df): #change column names and reorder columns\n",
    "    \n",
    "    name_dict = {'condition_start_date': 'code_date', 'condition_source_value': 'icd_code','condition_start_datetime':'code_datetime'}\n",
    "    source_df=rename_column(source_df,name_dict) \n",
    "    source_df=source_df.select('mom_person_id','baby_person_id','DX_group','icd_code',\n",
    "                               'code_date','code_datetime','visit_occurrence_id','visit_concept_id')\n",
    "    return source_df"
   ]
  },
  {
   "cell_type": "markdown",
   "metadata": {
    "application/vnd.databricks.v1+cell": {
     "cellMetadata": {},
     "inputWidgets": {},
     "nuid": "af8ef974-04b2-4e3c-b98a-38c268be958d",
     "showTitle": false,
     "tableResultSettingsMap": {},
     "title": ""
    }
   },
   "source": [
    "##### Timeframe: prenatal"
   ]
  },
  {
   "cell_type": "code",
   "execution_count": 0,
   "metadata": {
    "application/vnd.databricks.v1+cell": {
     "cellMetadata": {},
     "inputWidgets": {},
     "nuid": "bcaf40a2-82d2-41d5-80fa-2fff975a63ba",
     "showTitle": false,
     "tableResultSettingsMap": {},
     "title": ""
    }
   },
   "outputs": [],
   "source": [
    "sql=f\"\"\"\n",
    "    \n",
    "    select * from \n",
    "     (\n",
    "     select a.*, b.concept_name from\n",
    "     (select * from {cond_table} where (condition_source_value in (select disease_code from disease_exact) or ({disease_partial_str}) ) ) a\n",
    "     left join {concept_table} b\n",
    "     on a.condition_source_concept_id = b.concept_id\n",
    "     ) c\n",
    "   \n",
    "     inner join  \n",
    "     (select mom_person_id, baby_person_id,baby_dob,start_gestation_date,length_of_gestation from \n",
    "     global_temp.ega_w33_or_uncertain_gestation_date) d\n",
    "   \n",
    "     on c.person_id = d.mom_person_id \n",
    "     where condition_start_date >= start_gestation_date and condition_start_date <  date(baby_dob); --baby_dob=delivery date\n",
    "\n",
    "    \"\"\"\n",
    "\n",
    "mental_health_dx_prenatal= spark.sql(sql)\n",
    "mental_health_dx_prenatal=change_colname_case(mental_health_dx_prenatal,\"lower\")\n",
    "mental_health_dx_prenatal.createOrReplaceTempView(\"mental_health_dx_prenatal\")"
   ]
  },
  {
   "cell_type": "markdown",
   "metadata": {
    "application/vnd.databricks.v1+cell": {
     "cellMetadata": {},
     "inputWidgets": {},
     "nuid": "81fe8e9c-e888-4a40-9718-113a5a409125",
     "showTitle": false,
     "tableResultSettingsMap": {},
     "title": ""
    }
   },
   "source": [
    "##### Used to get matchecd mental dx cohorts and phenotype maternal cohorts"
   ]
  },
  {
   "cell_type": "code",
   "execution_count": 0,
   "metadata": {
    "application/vnd.databricks.v1+cell": {
     "cellMetadata": {},
     "inputWidgets": {},
     "nuid": "457b493c-658d-4516-87e8-d4dd39a1215d",
     "showTitle": false,
     "tableResultSettingsMap": {},
     "title": ""
    }
   },
   "outputs": [],
   "source": [
    "def get_matched_mentaldx_phenotype_cohorts(mental_health_dx_cohort):\n",
    "    \n",
    "   ### join with phenotype cohort\n",
    "   tmp_cohort=mental_health_dx_cohort.join(phenotype_cohort,(mental_health_dx_cohort.person_id == phenotype_cohort.mom_person_id) \n",
    "                                             &(mental_health_dx_cohort.baby_person_id== phenotype_cohort.baby_person_id))\\\n",
    "                                          .drop(phenotype_cohort.mom_person_id).drop(phenotype_cohort.baby_person_id)\n",
    "\n",
    "   ### exact code match\n",
    "   mental_health_dx_phenotype_cohort_exact=tmp_cohort.join(disease_exact,tmp_cohort.condition_source_value \n",
    "                                                              ==disease_exact.disease_code).withColumn(\"mom_mrn\",tmp_cohort.mom_person_source_value)\n",
    "\n",
    "   ### partial code match\n",
    "   mental_health_dx_phenotype_cohort_partial=tmp_cohort.join(disease_partial,tmp_cohort.condition_source_value.contains(disease_partial.disease_code))\\\n",
    "                                            .withColumn(\"mom_mrn\",tmp_cohort.mom_person_source_value)\n",
    "\n",
    "   ### combine both cohorts                                                      \n",
    "   mental_health_dx_phenotype_cohort=union_dataframes([mental_health_dx_phenotype_cohort_exact,mental_health_dx_phenotype_cohort_partial])\n",
    "    \n",
    "   return mental_health_dx_phenotype_cohort\n",
    "\n"
   ]
  },
  {
   "cell_type": "code",
   "execution_count": 0,
   "metadata": {
    "application/vnd.databricks.v1+cell": {
     "cellMetadata": {},
     "inputWidgets": {},
     "nuid": "6b59a283-e9cd-48c2-b535-c24810d11658",
     "showTitle": false,
     "tableResultSettingsMap": {},
     "title": ""
    }
   },
   "outputs": [],
   "source": [
    "mental_health_dx_prenatal_and_cohort_tmp=get_matched_mentaldx_phenotype_cohorts(mental_health_dx_prenatal)\n",
    "### get visit information\n",
    "visit_df=spark.sql(f\"select visit_occurrence_id,visit_concept_id,visit_start_datetime from {visit_table}\")\n",
    "mental_health_dx_prenatal_and_cohort = mental_health_dx_prenatal_and_cohort_tmp.join(visit_df, on=['visit_occurrence_id'] , how = 'left')\n",
    "\n",
    "mental_health_dx_prenatal_and_cohort=update_df(mental_health_dx_prenatal_and_cohort)\n",
    "mental_health_dx_prenatal_and_cohort=mental_health_dx_prenatal_and_cohort.withColumn(\"period\", lit('prenatal')) \n",
    "mental_health_dx_prenatal_and_cohort.name='mental_health_dx_prenatal_and_cohort'\n",
    "register_parquet_global_view(mental_health_dx_prenatal_and_cohort)"
   ]
  },
  {
   "cell_type": "markdown",
   "metadata": {
    "application/vnd.databricks.v1+cell": {
     "cellMetadata": {},
     "inputWidgets": {},
     "nuid": "ffe4168d-a368-4a4a-8aab-efc4cca5fe6b",
     "showTitle": false,
     "tableResultSettingsMap": {},
     "title": ""
    }
   },
   "source": [
    "##### Validation"
   ]
  },
  {
   "cell_type": "code",
   "execution_count": 0,
   "metadata": {
    "application/vnd.databricks.v1+cell": {
     "cellMetadata": {},
     "inputWidgets": {},
     "nuid": "b495b1e9-e28e-436a-86d3-3bcab7498bb2",
     "showTitle": false,
     "tableResultSettingsMap": {},
     "title": ""
    }
   },
   "outputs": [],
   "source": [
    "df_inspection(\"global_temp.mental_health_dx_prenatal_and_cohort\",\"all\")"
   ]
  },
  {
   "cell_type": "markdown",
   "metadata": {
    "application/vnd.databricks.v1+cell": {
     "cellMetadata": {},
     "inputWidgets": {},
     "nuid": "dfa59627-9392-4158-98c4-cd010cd11547",
     "showTitle": false,
     "tableResultSettingsMap": {},
     "title": ""
    }
   },
   "source": [
    "##### Timeframe: postpartum"
   ]
  },
  {
   "cell_type": "code",
   "execution_count": 0,
   "metadata": {
    "ExecuteTime": {
     "end_time": "2023-01-09T17:19:21.502247Z",
     "start_time": "2023-01-09T17:19:11.361171Z"
    },
    "application/vnd.databricks.v1+cell": {
     "cellMetadata": {},
     "inputWidgets": {},
     "nuid": "be0bdf2c-53bb-44e6-ae87-c3166a503a84",
     "showTitle": false,
     "tableResultSettingsMap": {},
     "title": ""
    }
   },
   "outputs": [],
   "source": [
    "sql=f\"\"\"\n",
    "\n",
    "     select mom_person_source_value as mom_mrn,* from\n",
    "     (\n",
    "      select a.*, b.concept_name from\n",
    "      (select * from {cond_table} where (condition_source_value in (select disease_code from disease_exact) or ({disease_partial_str}))) a\n",
    "      left join {concept_table} b\n",
    "      on a.condition_source_concept_id = b.concept_id\n",
    "     ) c\n",
    "     \n",
    "     inner join \n",
    "     \n",
    "     (select * from phenotype_cohort) d\n",
    "     on c.person_id = d.mom_person_id \n",
    "     \n",
    "     where condition_start_date >= date(baby_birth_datetime) and condition_start_date <=  date_add(baby_birth_datetime, 365) ;\n",
    "     \n",
    "    \"\"\"\n",
    "\n",
    "\n",
    "tmp_cohort= spark.sql(sql)\n",
    "\n",
    "### partial code match\n",
    "mental_health_dx_postpartum_and_cohort_partial=tmp_cohort.join(disease_partial,tmp_cohort.condition_source_value.contains(disease_partial.disease_code))\n",
    "\n",
    "### exact code match\n",
    "mental_health_dx_postpartum_and_cohort_exact=tmp_cohort.join(disease_exact,tmp_cohort.condition_source_value==disease_exact.disease_code)\n",
    "\n",
    "### combine both cohorts                                                      \n",
    "mental_health_dx_postpartum_and_cohort_tmp=union_dataframes([mental_health_dx_postpartum_and_cohort_exact,mental_health_dx_postpartum_and_cohort_partial])\n",
    "### get visit information\n",
    "mental_health_dx_postpartum_and_cohort = mental_health_dx_postpartum_and_cohort_tmp.join(visit_df, on=['visit_occurrence_id'] , how = 'left')\n",
    "\n",
    "\n",
    "mental_health_dx_postpartum_and_cohort = update_df(mental_health_dx_postpartum_and_cohort)\n",
    "mental_health_dx_postpartum_and_cohort =mental_health_dx_postpartum_and_cohort.withColumn(\"period\", lit('postpartum')) \n",
    "mental_health_dx_postpartum_and_cohort.name='mental_health_dx_postpartum_and_cohort'\n",
    "register_parquet_global_view(mental_health_dx_postpartum_and_cohort)"
   ]
  },
  {
   "cell_type": "code",
   "execution_count": 0,
   "metadata": {
    "application/vnd.databricks.v1+cell": {
     "cellMetadata": {
      "implicitDf": true
     },
     "inputWidgets": {},
     "nuid": "9bd70c71-7aac-4a59-95de-3840bef2f796",
     "showTitle": false,
     "tableResultSettingsMap": {},
     "title": ""
    }
   },
   "outputs": [],
   "source": [
    "%sql\n",
    "select * from global_temp.mental_health_dx_postpartum_and_cohort"
   ]
  },
  {
   "cell_type": "markdown",
   "metadata": {
    "application/vnd.databricks.v1+cell": {
     "cellMetadata": {},
     "inputWidgets": {},
     "nuid": "49a98ba7-cbdc-48f6-a26b-26102cb2455a",
     "showTitle": false,
     "tableResultSettingsMap": {},
     "title": ""
    }
   },
   "source": [
    "##### Validation"
   ]
  },
  {
   "cell_type": "code",
   "execution_count": 0,
   "metadata": {
    "application/vnd.databricks.v1+cell": {
     "cellMetadata": {
      "implicitDf": true
     },
     "inputWidgets": {},
     "nuid": "f286f17f-1981-4432-aedf-9f901d827bb4",
     "showTitle": false,
     "tableResultSettingsMap": {},
     "title": ""
    }
   },
   "outputs": [],
   "source": [
    "# %sql\n",
    "# select * from global_temp.mental_health_dx_postpartum_and_cohort;"
   ]
  },
  {
   "cell_type": "code",
   "execution_count": 0,
   "metadata": {
    "application/vnd.databricks.v1+cell": {
     "cellMetadata": {},
     "inputWidgets": {},
     "nuid": "40a79444-4055-427c-99d1-70d442208d41",
     "showTitle": false,
     "tableResultSettingsMap": {},
     "title": ""
    }
   },
   "outputs": [],
   "source": [
    "df_inspection(\"global_temp.mental_health_dx_postpartum_and_cohort\",\"all\")"
   ]
  },
  {
   "cell_type": "markdown",
   "metadata": {
    "application/vnd.databricks.v1+cell": {
     "cellMetadata": {},
     "inputWidgets": {},
     "nuid": "1dbdc407-876e-482e-a908-c850645013f0",
     "showTitle": false,
     "tableResultSettingsMap": {},
     "title": ""
    }
   },
   "source": [
    "##### Combine prenatll and postpartum data"
   ]
  },
  {
   "cell_type": "code",
   "execution_count": 0,
   "metadata": {
    "application/vnd.databricks.v1+cell": {
     "cellMetadata": {},
     "inputWidgets": {},
     "nuid": "d7ebd348-faa3-4588-88ad-342312ac44d5",
     "showTitle": false,
     "tableResultSettingsMap": {},
     "title": ""
    }
   },
   "outputs": [],
   "source": [
    "sql=\"\"\"\n",
    "        select * from global_temp.mental_health_dx_prenatal_and_cohort\n",
    "        union\n",
    "        select * from global_temp.mental_health_dx_postpartum_and_cohort\n",
    "    \"\"\"\n",
    "combined_cohort=spark.sql(sql)\n",
    "combined_cohort.createOrReplaceTempView(\"combined_cohort\")\n",
    "display(combined_cohort)"
   ]
  },
  {
   "cell_type": "code",
   "execution_count": 0,
   "metadata": {
    "application/vnd.databricks.v1+cell": {
     "cellMetadata": {
      "implicitDf": true
     },
     "inputWidgets": {},
     "nuid": "7846a66b-f82a-4d2d-b493-c7d2a5673d46",
     "showTitle": false,
     "tableResultSettingsMap": {},
     "title": ""
    }
   },
   "outputs": [],
   "source": [
    "df_inspection(\"combined_cohort\",\"all\")"
   ]
  },
  {
   "cell_type": "markdown",
   "metadata": {
    "application/vnd.databricks.v1+cell": {
     "cellMetadata": {},
     "inputWidgets": {},
     "nuid": "d36efdd5-feca-4a14-8579-45e2574c4f61",
     "showTitle": false,
     "tableResultSettingsMap": {},
     "title": ""
    }
   },
   "source": [
    "##### Used to get IP(9201) / OP(9202) cohorts"
   ]
  },
  {
   "cell_type": "code",
   "execution_count": 0,
   "metadata": {
    "application/vnd.databricks.v1+cell": {
     "cellMetadata": {},
     "inputWidgets": {},
     "nuid": "4b0631f3-99eb-457b-9d47-3d4f3a95d03f",
     "showTitle": false,
     "tableResultSettingsMap": {},
     "title": ""
    }
   },
   "outputs": [],
   "source": [
    "def ip_op_cohort(cohort_name,ip_op_code):\n",
    "   if (ip_op_code=='9201'):\n",
    "    count=0\n",
    "   elif (ip_op_code=='9202'):\n",
    "    count=1\n",
    "   \n",
    "   sql=f\"\"\"\n",
    "        select mom_person_id,baby_person_id,DX_group from (\n",
    "        \n",
    "         select mom_person_id,baby_person_id,DX_group,count(*) from (\n",
    "          select * from {cohort_name}  where visit_concept_id = {ip_op_code}\n",
    "         )\n",
    "         \n",
    "         group by mom_person_id,baby_person_id,DX_group\n",
    "         having count(*) > {count}\n",
    "         order by mom_person_id,baby_person_id\n",
    "        \n",
    "        )\n",
    "       \"\"\"\n",
    "   \n",
    "   ip_op_df=spark.sql(sql)\n",
    "   return ip_op_df "
   ]
  },
  {
   "cell_type": "code",
   "execution_count": 0,
   "metadata": {
    "application/vnd.databricks.v1+cell": {
     "cellMetadata": {},
     "inputWidgets": {},
     "nuid": "b112ac15-26fe-45b0-a683-0462f9f0f0e9",
     "showTitle": false,
     "tableResultSettingsMap": {},
     "title": ""
    }
   },
   "outputs": [],
   "source": [
    "def ip_op_cohort_detail(cohort_name,ip_op_code,mom_baby_df_name):\n",
    "    \n",
    "   sql=f\"\"\"\n",
    "        select mom_person_id,baby_person_id,DX_group,icd_code,code_datetime,\n",
    "        case when visit_concept_id= 9201 then 'IP' else 'OP' end as IP_OP,period\n",
    "        from {cohort_name} a \n",
    "        where visit_concept_id = {ip_op_code}\n",
    "        and CONCAT(a.mom_person_id,a.baby_person_id,a.DX_group) in\n",
    "        (\n",
    "          select CONCAT(b.mom_person_id,b.baby_person_id,b.DX_group) from {mom_baby_df_name} b\n",
    "        ) \n",
    "       \"\"\"\n",
    "   \n",
    "   ip_op_detail_df=spark.sql(sql)\n",
    "   return ip_op_detail_df"
   ]
  },
  {
   "cell_type": "markdown",
   "metadata": {
    "application/vnd.databricks.v1+cell": {
     "cellMetadata": {},
     "inputWidgets": {},
     "nuid": "dea18734-f935-4c81-a4e4-e2e49f0e5b2f",
     "showTitle": false,
     "tableResultSettingsMap": {},
     "title": ""
    }
   },
   "source": [
    "##### select mom and baby pairs from previous steps, group by id and having count(*) \n",
    "##### 1 ICD code count for inpatient (> 0) \n",
    "##### 2 ICD code count for outpatient ( > 1)"
   ]
  },
  {
   "cell_type": "code",
   "execution_count": 0,
   "metadata": {
    "application/vnd.databricks.v1+cell": {
     "cellMetadata": {
      "implicitDf": true
     },
     "inputWidgets": {},
     "nuid": "c596a36d-cad3-4f1a-92df-b42770de9ea7",
     "showTitle": false,
     "tableResultSettingsMap": {},
     "title": ""
    }
   },
   "outputs": [],
   "source": [
    "mom_mental_prenatal_ip1=ip_op_cohort('global_temp.mental_health_dx_prenatal_and_cohort','9201')\n",
    "mom_mental_prenatal_op2=ip_op_cohort('global_temp.mental_health_dx_prenatal_and_cohort','9202')\n",
    "\n",
    "### 1 inpatient OR (any) 2 outpatient ICD-9/ICD-10 codes in prenatal period\n",
    "mom_mental_prenatal_ip1_op2=union_dataframes([mom_mental_prenatal_ip1,mom_mental_prenatal_op2]) \n",
    "mom_mental_prenatal_ip1_op2.createOrReplaceTempView(\"mom_mental_prenatal_ip1_op2\")\n",
    "\n",
    "mom_mental_postpartum_ip1=ip_op_cohort('global_temp.mental_health_dx_postpartum_and_cohort','9201')\n",
    "mom_mental_postpartum_op2=ip_op_cohort('global_temp.mental_health_dx_postpartum_and_cohort','9202')\n",
    "\n",
    "### 1 inpatient OR (any) 2 outpatient ICD-9/ICD-10 codes in postpartum period\n",
    "mom_mental_postpartum_ip1_op2=union_dataframes([mom_mental_postpartum_ip1,mom_mental_postpartum_op2])\n",
    "mom_mental_postpartum_ip1_op2.createOrReplaceTempView(\"mom_mental_postpartum_ip1_op2\")"
   ]
  },
  {
   "cell_type": "markdown",
   "metadata": {
    "application/vnd.databricks.v1+cell": {
     "cellMetadata": {},
     "inputWidgets": {},
     "nuid": "4db213c8-15e9-44dd-af4e-bbf774b90781",
     "showTitle": false,
     "tableResultSettingsMap": {},
     "title": ""
    }
   },
   "source": [
    "##### 1 inpatient OR (any) 2 outpatient ICD-9/ICD-10 codes in the prenatal or 1-year postpartum period "
   ]
  },
  {
   "cell_type": "code",
   "execution_count": 0,
   "metadata": {
    "application/vnd.databricks.v1+cell": {
     "cellMetadata": {},
     "inputWidgets": {},
     "nuid": "b35333f6-5169-4075-836a-7fb54500b209",
     "showTitle": false,
     "tableResultSettingsMap": {},
     "title": ""
    }
   },
   "outputs": [],
   "source": [
    "mom_mental_ip1_op2=union_dataframes([mom_mental_prenatal_ip1_op2,mom_mental_postpartum_ip1_op2])\n",
    "mom_mental_ip1_op2.createOrReplaceTempView(\"mom_mental_ip1_op2\")\n",
    "df_inspection(\"mom_mental_ip1_op2\",\"all\")\n"
   ]
  },
  {
   "cell_type": "markdown",
   "metadata": {
    "application/vnd.databricks.v1+cell": {
     "cellMetadata": {},
     "inputWidgets": {},
     "nuid": "3ba13184-6a96-423a-a9cd-fdcdd5eb1cd1",
     "showTitle": false,
     "tableResultSettingsMap": {},
     "title": ""
    }
   },
   "source": [
    "##### Get the ID that without visit_occurrence_id and the ID did not in the ip1/op2 groups"
   ]
  },
  {
   "cell_type": "code",
   "execution_count": 0,
   "metadata": {
    "application/vnd.databricks.v1+cell": {
     "cellMetadata": {
      "implicitDf": true
     },
     "inputWidgets": {},
     "nuid": "f57668cc-a38e-42c2-ab17-301b0a229df6",
     "showTitle": false,
     "tableResultSettingsMap": {},
     "title": ""
    }
   },
   "outputs": [],
   "source": [
    "%sql\n",
    "select * from combined_cohort"
   ]
  },
  {
   "cell_type": "code",
   "execution_count": 0,
   "metadata": {
    "application/vnd.databricks.v1+cell": {
     "cellMetadata": {},
     "inputWidgets": {},
     "nuid": "09f6d41d-672e-4ae9-9fbc-5b8a5a648269",
     "showTitle": false,
     "tableResultSettingsMap": {},
     "title": ""
    }
   },
   "outputs": [],
   "source": [
    "sql=\"\"\"\n",
    "       select a.mom_person_id,a.baby_person_id from (\n",
    "         select mom_person_id,baby_person_id from combined_cohort where visit_occurrence_id is null\n",
    "       ) a \n",
    "       \n",
    "       where CONCAT(a.mom_person_id,a.baby_person_id) not in\n",
    "       (\n",
    "         select CONCAT(b.mom_person_id,b.baby_person_id) from mom_mental_ip1_op2 b\n",
    "       ) \n",
    "    \"\"\"\n",
    "\n",
    "mom_mental_no_visit_id_pairs= spark.sql(sql)\n",
    "mom_mental_no_visit_id_pairs.createOrReplaceTempView(\"mom_mental_no_visit_id_pairs\")\n",
    "#df_inspection(\"mom_mental_no_visit_id_pairs\",\"all\")"
   ]
  },
  {
   "cell_type": "markdown",
   "metadata": {
    "application/vnd.databricks.v1+cell": {
     "cellMetadata": {},
     "inputWidgets": {},
     "nuid": "0901dd13-5f4b-4892-8bd8-eafd51145d93",
     "showTitle": false,
     "tableResultSettingsMap": {},
     "title": ""
    }
   },
   "source": [
    "##### Find records in condition tables but without visit_occurrence_id info. Then use other information (e.g., condition_start_date,visit_start_date,visit_end_date and visit_concept_id.) to find supplement records around time periods"
   ]
  },
  {
   "cell_type": "markdown",
   "metadata": {
    "application/vnd.databricks.v1+cell": {
     "cellMetadata": {},
     "inputWidgets": {},
     "nuid": "c0c28a69-d6c0-43ae-9768-cec269f081b4",
     "showTitle": false,
     "tableResultSettingsMap": {},
     "title": ""
    }
   },
   "source": [
    "##### create view that there is no visit_occurrence_id information"
   ]
  },
  {
   "cell_type": "code",
   "execution_count": 0,
   "metadata": {
    "application/vnd.databricks.v1+cell": {
     "cellMetadata": {},
     "inputWidgets": {},
     "nuid": "82e4ea7e-af7f-4d7f-a680-e0d093bf61b1",
     "showTitle": false,
     "tableResultSettingsMap": {},
     "title": ""
    }
   },
   "outputs": [],
   "source": [
    "sql=\"\"\"\n",
    "       select a.* from combined_cohort a\n",
    "       inner join mom_mental_no_visit_id_pairs b\n",
    "       on a.mom_person_id = b.mom_person_id and \n",
    "       a.baby_person_id = b.baby_person_id\n",
    "       where visit_occurrence_id is null\n",
    "       order by mom_person_id,baby_person_id;\n",
    "      \n",
    "    \"\"\"\n",
    "mom_mental_no_visitoccurrence_id= spark.sql(sql)\n",
    "mom_mental_no_visitoccurrence_id.createOrReplaceTempView(\"mom_mental_no_visitoccurrence_id\")\n",
    "display(mom_mental_no_visitoccurrence_id)"
   ]
  },
  {
   "cell_type": "markdown",
   "metadata": {
    "application/vnd.databricks.v1+cell": {
     "cellMetadata": {},
     "inputWidgets": {},
     "nuid": "0122e95b-8cea-45f4-b2d9-b4d011364bdd",
     "showTitle": false,
     "tableResultSettingsMap": {},
     "title": ""
    }
   },
   "source": [
    "\n",
    "##### condition1:  had visit_end_date\n"
   ]
  },
  {
   "cell_type": "code",
   "execution_count": 0,
   "metadata": {
    "application/vnd.databricks.v1+cell": {
     "cellMetadata": {},
     "inputWidgets": {},
     "nuid": "6f72c949-239a-45f0-9352-4f5ced679abb",
     "showTitle": false,
     "tableResultSettingsMap": {},
     "title": ""
    }
   },
   "outputs": [],
   "source": [
    "sql=f\"\"\"\n",
    "       select distinct a.mom_person_id,a.baby_person_id,a.DX_group,a.icd_code,\n",
    "       a.code_date,a.code_datetime,a.period,b.visit_occurrence_id,b.visit_concept_id\n",
    "       \n",
    "       from mom_mental_no_visitoccurrence_id a\n",
    "       \n",
    "       inner join {visit_table} b \n",
    "       on a.mom_person_id = b.person_id and visit_end_date is not null\n",
    "       and visit_start_date <= code_date and code_date < visit_end_date\n",
    "       order by mom_person_id,baby_person_id;\n",
    "\n",
    "    \"\"\"\n",
    "mom_mental_no_visitoccurrence_id_cond1= spark.sql(sql)\n",
    "mom_mental_no_visitoccurrence_id_cond1.createOrReplaceTempView(\"mom_mental_no_visitoccurrence_id_cond1\")\n",
    "display(mom_mental_no_visitoccurrence_id_cond1)"
   ]
  },
  {
   "cell_type": "code",
   "execution_count": 0,
   "metadata": {
    "application/vnd.databricks.v1+cell": {
     "cellMetadata": {
      "implicitDf": true
     },
     "inputWidgets": {},
     "nuid": "ad2b813e-a1c4-452e-981b-5822bbb45dd5",
     "showTitle": false,
     "tableResultSettingsMap": {},
     "title": ""
    }
   },
   "outputs": [],
   "source": [
    "%sql\n",
    "select * from rd_omop_prod.visit_occurrence where visit_occurrence_id=118040762"
   ]
  },
  {
   "cell_type": "markdown",
   "metadata": {
    "application/vnd.databricks.v1+cell": {
     "cellMetadata": {},
     "inputWidgets": {},
     "nuid": "30f01fc0-22fc-4361-a1d8-013f76fb8481",
     "showTitle": false,
     "tableResultSettingsMap": {},
     "title": ""
    }
   },
   "source": [
    "##### condition2:  did not have visit_end_date (use visit_start_date+30), and visit concept is '9201' (inpatient)"
   ]
  },
  {
   "cell_type": "code",
   "execution_count": 0,
   "metadata": {
    "application/vnd.databricks.v1+cell": {
     "cellMetadata": {},
     "inputWidgets": {},
     "nuid": "b97f6cfd-1f87-46ff-9b62-e8b90e0f266b",
     "showTitle": false,
     "tableResultSettingsMap": {},
     "title": ""
    }
   },
   "outputs": [],
   "source": [
    "sql=f\"\"\"\n",
    "       select distinct a.mom_person_id,a.baby_person_id,a.DX_group,a.icd_code,\n",
    "       a.code_date,a.code_datetime,a.period,b.visit_occurrence_id,b.visit_concept_id\n",
    "       \n",
    "       from mom_mental_no_visitoccurrence_id a\n",
    "       \n",
    "       left join {visit_table} b \n",
    "       on a.mom_person_id = b.person_id and visit_end_date is null\n",
    "       where b.visit_concept_id = '9201'\n",
    "       and visit_start_date <= code_date and code_date < date_add(visit_start_date, 30)\n",
    "       order by mom_person_id,baby_person_id;\n",
    "\n",
    "    \"\"\"\n",
    "mom_mental_no_visitoccurrence_id_cond2= spark.sql(sql)\n",
    "mom_mental_no_visitoccurrence_id_cond2.createOrReplaceTempView(\"mom_mental_no_visitoccurrence_id_cond2\")\n",
    "display(mom_mental_no_visitoccurrence_id_cond2)"
   ]
  },
  {
   "cell_type": "code",
   "execution_count": 0,
   "metadata": {
    "application/vnd.databricks.v1+cell": {
     "cellMetadata": {
      "implicitDf": true
     },
     "inputWidgets": {},
     "nuid": "f7fd2f69-8fda-4ec2-bfcf-33c3d8e5dac0",
     "showTitle": false,
     "tableResultSettingsMap": {},
     "title": ""
    }
   },
   "outputs": [],
   "source": [
    "%sql\n",
    "select * from rd_omop_prod.visit_occurrence where visit_occurrence_id=239111954"
   ]
  },
  {
   "cell_type": "markdown",
   "metadata": {
    "application/vnd.databricks.v1+cell": {
     "cellMetadata": {},
     "inputWidgets": {},
     "nuid": "246499e6-c6be-4e9a-96ed-4a342c47d62a",
     "showTitle": false,
     "tableResultSettingsMap": {},
     "title": ""
    }
   },
   "source": [
    "##### condition3: did not have visit_end_date (use visit_start_date+3) , and visit concept is '9202' (outpatient)"
   ]
  },
  {
   "cell_type": "code",
   "execution_count": 0,
   "metadata": {
    "application/vnd.databricks.v1+cell": {
     "cellMetadata": {},
     "inputWidgets": {},
     "nuid": "fca88f06-0010-4e64-9521-2222f6cbb743",
     "showTitle": false,
     "tableResultSettingsMap": {},
     "title": ""
    }
   },
   "outputs": [],
   "source": [
    "sql=f\"\"\"\n",
    "       select distinct a.mom_person_id,a.baby_person_id,a.DX_group,a.icd_code,\n",
    "       a.code_date,a.code_datetime,a.period,b.visit_occurrence_id,b.visit_concept_id\n",
    "       \n",
    "       from mom_mental_no_visitoccurrence_id a\n",
    "       \n",
    "       left join {visit_table} b \n",
    "       on a.mom_person_id = b.person_id and visit_end_date is null\n",
    "       where b.visit_concept_id = '9202'\n",
    "       and visit_start_date <= code_date and code_date < date_add(visit_start_date, 3)\n",
    "       order by mom_person_id,baby_person_id;\n",
    "\n",
    "    \"\"\"\n",
    "mom_mental_no_visitoccurrence_id_cond3= spark.sql(sql)\n",
    "mom_mental_no_visitoccurrence_id_cond3.createOrReplaceTempView(\"mom_mental_no_visitoccurrence_id_cond3\")\n",
    "display(mom_mental_no_visitoccurrence_id_cond3)"
   ]
  },
  {
   "cell_type": "code",
   "execution_count": 0,
   "metadata": {
    "application/vnd.databricks.v1+cell": {
     "cellMetadata": {
      "implicitDf": true
     },
     "inputWidgets": {},
     "nuid": "c98ae1f4-ddfa-4942-a8ab-9041ffa2983f",
     "showTitle": false,
     "tableResultSettingsMap": {},
     "title": ""
    }
   },
   "outputs": [],
   "source": [
    "%sql\n",
    "select * from rd_omop_prod.visit_occurrence where visit_occurrence_id=248501435"
   ]
  },
  {
   "cell_type": "markdown",
   "metadata": {
    "application/vnd.databricks.v1+cell": {
     "cellMetadata": {},
     "inputWidgets": {},
     "nuid": "19caa615-9de6-4761-a851-56972332673a",
     "showTitle": false,
     "tableResultSettingsMap": {},
     "title": ""
    }
   },
   "source": [
    "##### Merge combined_cohort and cohorts from all 3 conditions"
   ]
  },
  {
   "cell_type": "code",
   "execution_count": 0,
   "metadata": {
    "application/vnd.databricks.v1+cell": {
     "cellMetadata": {},
     "inputWidgets": {},
     "nuid": "649cffef-9995-432b-b061-391d34c03e6d",
     "showTitle": false,
     "tableResultSettingsMap": {},
     "title": ""
    }
   },
   "outputs": [],
   "source": [
    "#select columns for merge\n",
    "\n",
    "sql=\"\"\"\n",
    "       select mom_person_id,baby_person_id,DX_group,icd_code,code_date,code_datetime,visit_occurrence_id,visit_concept_id,\n",
    "       period from combined_cohort\n",
    "       union \n",
    "       select mom_person_id,baby_person_id,DX_group,icd_code,code_date,code_datetime,visit_occurrence_id,visit_concept_id,period \n",
    "       from mom_mental_no_visitoccurrence_id_cond1\n",
    "       union \n",
    "       select mom_person_id,baby_person_id,DX_group,icd_code,code_date,code_datetime,visit_occurrence_id,visit_concept_id,period \n",
    "       from mom_mental_no_visitoccurrence_id_cond2\n",
    "       union \n",
    "       select mom_person_id,baby_person_id,DX_group,icd_code,code_date,code_datetime,visit_occurrence_id,visit_concept_id,period \n",
    "       from mom_mental_no_visitoccurrence_id_cond3;\n",
    "\n",
    "    \"\"\"\n",
    "mom_mental_update= spark.sql(sql)\n",
    "mom_mental_update.createOrReplaceTempView(\"mom_mental_update\")\n",
    "display(mom_mental_update)"
   ]
  },
  {
   "cell_type": "code",
   "execution_count": 0,
   "metadata": {
    "application/vnd.databricks.v1+cell": {
     "cellMetadata": {},
     "inputWidgets": {},
     "nuid": "2085d03a-c36a-4273-b5c1-d0950bde4c5d",
     "showTitle": false,
     "tableResultSettingsMap": {},
     "title": ""
    }
   },
   "outputs": [],
   "source": [
    "df_inspection(\"mom_mental_update\",\"all\")"
   ]
  },
  {
   "cell_type": "markdown",
   "metadata": {
    "application/vnd.databricks.v1+cell": {
     "cellMetadata": {},
     "inputWidgets": {},
     "nuid": "50975d57-b0c4-4497-ac37-143e15eb7a3e",
     "showTitle": false,
     "tableResultSettingsMap": {},
     "title": ""
    }
   },
   "source": [
    "##### Redefine 1x inpatient and 2x outptient"
   ]
  },
  {
   "cell_type": "code",
   "execution_count": 0,
   "metadata": {
    "application/vnd.databricks.v1+cell": {
     "cellMetadata": {},
     "inputWidgets": {},
     "nuid": "9c75aae6-ae46-4f52-a353-b83fb541dab9",
     "showTitle": false,
     "tableResultSettingsMap": {},
     "title": ""
    }
   },
   "outputs": [],
   "source": [
    "updated_prenatal_df=spark.sql(\"select * from mom_mental_update where period='prenatal'\")\n",
    "updated_prenatal_df.createOrReplaceTempView(\"updated_prenatal_df\")\n",
    "                      \n",
    "mom_mental_prenatal_ip1_update=ip_op_cohort('updated_prenatal_df','9201')\n",
    "mom_mental_prenatal_op2_update=ip_op_cohort('updated_prenatal_df','9202')\n",
    "\n",
    "mom_mental_prenatal_ip1_update.createOrReplaceTempView(\"mom_mental_prenatal_ip1_update\")\n",
    "mom_mental_prenatal_op2_update.createOrReplaceTempView(\"mom_mental_prenatal_op2_update\")\n",
    "\n",
    "### used to get raw data in prenatal period\n",
    "mom_mental_prenatal_ip1_update_detail=ip_op_cohort_detail('updated_prenatal_df','9201',\"mom_mental_prenatal_ip1_update\")\n",
    "mom_mental_prenatal_op2_update_detail=ip_op_cohort_detail('updated_prenatal_df','9202',\"mom_mental_prenatal_op2_update\")\n",
    "mom_mental_prenatal_ip1_op2_update_detail=union_dataframes([mom_mental_prenatal_ip1_update_detail,mom_mental_prenatal_op2_update_detail])\n",
    "mom_mental_prenatal_ip1_op2_update_detail.createOrReplaceTempView(\"mom_mental_prenatal_ip1_op2_update_detail\")\n",
    "\n",
    "### 1 inpatient OR (any) 2 distinct outpatient ICD-9/ICD-10 codes in prenatal period\n",
    "mom_mental_prenatal_ip1_op2_update=union_dataframes([mom_mental_prenatal_ip1_update,mom_mental_prenatal_op2_update]) \n",
    "mom_mental_prenatal_ip1_op2_update.createOrReplaceTempView(\"mom_mental_prenatal_ip1_op2_update\")\n",
    "\n",
    "updated_postpartum_df=spark.sql(\"select * from mom_mental_update where period='postpartum'\")\n",
    "updated_postpartum_df.createOrReplaceTempView(\"updated_postpartum_df\")\n",
    "                                \n",
    "mom_mental_postpartum_ip1_update=ip_op_cohort('updated_postpartum_df','9201')\n",
    "mom_mental_postpartum_op2_update=ip_op_cohort('updated_postpartum_df','9202')\n",
    "\n",
    "### 1 inpatient OR (any) 2 distinct outpatient ICD-9/ICD-10 codes in postpartum period\n",
    "mom_mental_postpartum_ip1_op2_update=union_dataframes([mom_mental_postpartum_ip1_update,mom_mental_postpartum_op2_update])\n",
    "mom_mental_postpartum_ip1_op2_update.createOrReplaceTempView(\"mom_mental_postpartum_ip1_op2_update\")\n",
    "\n",
    "### used to get raw data in postpartum period\n",
    "mom_mental_postpartum_ip1_update.createOrReplaceTempView(\"mom_mental_postpartum_ip1_update\")\n",
    "mom_mental_postpartum_op2_update.createOrReplaceTempView(\"mom_mental_postpartum_op2_update\")\n",
    "mom_mental_postpartum_ip1_update_detail=ip_op_cohort_detail('updated_postpartum_df','9201',\"mom_mental_postpartum_ip1_update\")\n",
    "mom_mental_postpartum_op2_update_detail=ip_op_cohort_detail('updated_postpartum_df','9202',\"mom_mental_postpartum_op2_update\")\n",
    "\n",
    "\n",
    "mom_mental_postpartum_ip1_op2_update_detail=union_dataframes([mom_mental_postpartum_ip1_update_detail,mom_mental_postpartum_op2_update_detail])\n",
    "mom_mental_postpartum_ip1_op2_update_detail.createOrReplaceTempView(\"mom_mental_postpartum_ip1_op2_update_detail\")\n",
    "\n",
    "### combine raw data from both periods\n",
    "mom_mental_ip1_op2_update_detail=union_dataframes([mom_mental_prenatal_ip1_op2_update_detail,mom_mental_postpartum_ip1_op2_update_detail])\n",
    "mom_mental_ip1_op2_update_detail.createOrReplaceTempView(\"mom_mental_ip1_op2_update_detail\")\n",
    "\n",
    "mom_mental_ip1_op2_update_detail.name='mom_mental_ip1_op2_update_detail'\n",
    "register_parquet_global_view(mom_mental_ip1_op2_update_detail)"
   ]
  },
  {
   "cell_type": "code",
   "execution_count": 0,
   "metadata": {
    "application/vnd.databricks.v1+cell": {
     "cellMetadata": {},
     "inputWidgets": {},
     "nuid": "98a27a62-2c97-40c4-9085-1f761b45754c",
     "showTitle": false,
     "tableResultSettingsMap": {},
     "title": ""
    }
   },
   "outputs": [],
   "source": [
    "sql=\"\"\"\n",
    "       select mom_person_source_value as MOM_MRN,baby_person_source_value as BABY_MRN,\n",
    "       DX_group,icd_code,code_datetime,IP_OP,period \n",
    "       from phenotype_cohort a inner join mom_mental_ip1_op2_update_detail b\n",
    "       on a.mom_person_id=b.mom_person_id and a.baby_person_id=b.baby_person_id\n",
    "       order by MOM_MRN,BABY_MRN;\n",
    "    \"\"\"\n",
    "mat_mentl_raw_output=spark.sql(sql)\n",
    "mat_mentl_raw_output.name='mat_mentl_raw_output'\n",
    "register_parquet_global_view(mat_mentl_raw_output)\n",
    "display(mat_mentl_raw_output)\n",
    "#mat_mentl_raw_output.write.mode(\"overwrite\").saveAsTable(\"phenotype_output.cover_mat_mental_raw_data\")"
   ]
  },
  {
   "cell_type": "markdown",
   "metadata": {
    "application/vnd.databricks.v1+cell": {
     "cellMetadata": {},
     "inputWidgets": {},
     "nuid": "4ac486db-fffa-4d2a-868b-319273472ca0",
     "showTitle": false,
     "tableResultSettingsMap": {},
     "title": ""
    }
   },
   "source": [
    "### Save Output for future use"
   ]
  },
  {
   "cell_type": "code",
   "execution_count": 0,
   "metadata": {
    "application/vnd.databricks.v1+cell": {
     "cellMetadata": {},
     "inputWidgets": {},
     "nuid": "e62053ac-15c4-4f39-b3c5-26e82085fee5",
     "showTitle": false,
     "tableResultSettingsMap": {},
     "title": ""
    }
   },
   "outputs": [],
   "source": [
    "mat_mentl_raw_output.write.mode(\"overwrite\").saveAsTable(\"covariate_output.cover_mat_mental_raw_data\")"
   ]
  }
 ],
 "metadata": {
  "application/vnd.databricks.v1+notebook": {
   "computePreferences": null,
   "dashboards": [],
   "environmentMetadata": null,
   "inputWidgetPreferences": null,
   "language": "python",
   "notebookMetadata": {
    "mostRecentlyExecutedCommandWithImplicitDF": {
     "commandId": 4467772904349001,
     "dataframes": [
      "_sqldf"
     ]
    },
    "pythonIndentUnit": 4
   },
   "notebookName": "maternal mental health diagnosis",
   "widgets": {
    "phenotype_version": {
     "currentValue": "V2_11042022",
     "nuid": "440ada10-d2b4-4d90-aa6c-dc0a9687e3b3",
     "typedWidgetInfo": null,
     "widgetInfo": {
      "widgetType": "dropdown",
      "defaultValue": "V2_11042022",
      "label": "Phenotype for outcome covariant",
      "name": "phenotype_version",
      "options": {
       "widgetType": "dropdown",
       "autoCreated": null,
       "choices": [
        "V1_05232022",
        "V2_11042022",
        "Current_version"
       ]
      }
     }
    }
   }
  },
  "kernelspec": {
   "display_name": "Python 3 (ipykernel)",
   "language": "python",
   "name": "python3"
  },
  "language_info": {
   "name": "python"
  }
 },
 "nbformat": 4,
 "nbformat_minor": 0
}