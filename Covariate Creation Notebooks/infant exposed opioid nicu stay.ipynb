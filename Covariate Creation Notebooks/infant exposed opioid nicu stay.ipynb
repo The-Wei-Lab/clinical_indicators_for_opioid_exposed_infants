{
 "cells": [
  {
   "cell_type": "markdown",
   "metadata": {
    "application/vnd.databricks.v1+cell": {
     "cellMetadata": {},
     "inputWidgets": {},
     "nuid": "dd934e03-7897-4ca9-a6b5-4429bbef558e",
     "showTitle": false,
     "tableResultSettingsMap": {},
     "title": ""
    }
   },
   "source": [
    "##### Project: Opioid Exposed Infant Covariates\n",
    "##### Investigator: Stephen Patrick, Sarah Loch\n",
    "##### Programmers: Sander Su, Chris Guardo\n",
    "##### Date Created: 01/17/23\n",
    "##### Last Modified: 09/30/25\n",
    "\n",
    "#### Notes:\n",
    "This step comes after birth visit in the workspace pipeline. The notebook finds evidence of opioid exposure for infants during or after the initial birth inpatient visit \n"
   ]
  },
  {
   "cell_type": "code",
   "execution_count": 0,
   "metadata": {
    "ExecuteTime": {
     "end_time": "2023-01-09T17:09:41.945451Z",
     "start_time": "2023-01-09T17:09:41.931993Z"
    },
    "application/vnd.databricks.v1+cell": {
     "cellMetadata": {},
     "inputWidgets": {},
     "nuid": "ec180f23-b877-491f-a756-d66a12d23e0e",
     "showTitle": false,
     "tableResultSettingsMap": {},
     "title": ""
    }
   },
   "outputs": [],
   "source": [
    "%run \"../Project_modules\""
   ]
  },
  {
   "cell_type": "markdown",
   "metadata": {
    "application/vnd.databricks.v1+cell": {
     "cellMetadata": {},
     "inputWidgets": {},
     "nuid": "95aef72d-f6df-4a80-9fac-1dbc801cb8a7",
     "showTitle": false,
     "tableResultSettingsMap": {},
     "title": ""
    }
   },
   "source": [
    "#### NICU admission : \n",
    "##### The infant in phenotype cohort with exposed to opioid\n",
    "\n",
    "##### CPT codes: initial code\n",
    "- 99222:\tInitial hospital care, per day, for the evaluation and management of a patient, which requires these 3 key components: A comprehensive history; A comprehensive examination; and Medical decision making of moderate complexity...\n",
    "- 99477:\tInitial hospital care, per day, for the evaluation and management of the neonate, 28 days of age or younger, who requires intensive observation, frequent interventions, and other intensive care services...\n",
    "- 99221:\tInitial hospital care, per day, for the evaluation and management of a patient, which requires these 3 key components: A detailed or comprehensive history; A detailed or comprehensive examination; and Medical decision making that is straightforward...\n",
    "- 99223:\tInitial hospital care, per day, for the evaluation and management of a patient, which requires these 3 key components: A comprehensive history; A comprehensive examination; and Medical decision making of high complexity...\n",
    "- 99460:\tInitial hospital or birthing center care, per day, for evaluation and management of normal newborn...\n",
    "- 99463:\tInitial hospital or birthing center care, per day, for evaluation and management of normal newborn infant admitted and discharged on the same date...\n",
    "\n",
    "##### subsequent code\n",
    "- 99232: Subsequent hospital care, per day, for the evaluation and management of a patient, which requires at least 2 of these 3 key components: An expanded problem focused interval history; An expanded problem focused examination...\n",
    "- 99480: Subsequent intensive care, per day, for the evaluation and management of the recovering infant (present body weight of 2501-5000 grams)\n",
    "- 99233: Subsequent hospital care, per day, for the evaluation and management of a patient, which requires at least 2 of these 3 key components: A detailed interval history; A detailed examination; Medical decision making of high complexity...\n",
    "- 99479: Subsequent intensive care, per day, for the evaluation and management of the recovering low birth weight infant (present body weight of 1500-2500 grams)\n",
    "- 99231: Subsequent hospital care, per day, for the evaluation and management of a patient, which requires at least 2 of these 3 key components: A problem focused interval history; A problem focused examination...\n",
    "- 99478: Subsequent intensive care, per day, for the evaluation and management of the recovering very low birth weight infant (present body weight less than 1500 grams);\n",
    "- 99462: Subsequent hospital care, per day, for evaluation and management of normal newborn...\n",
    "\n",
    "##### discharge code\n",
    "- 99238: Hospital discharge day management; 30 minutes or less​\n",
    "- 99239: Hospital discharge day management; more than 30 minutes;;\n",
    "\n",
    "##### After chart review, decided to have CASE as the infant in the phenotype exposed to opioid and got: \n",
    "- 99477 initial, then 99480, 99479, 99478\n",
    "- Control as the infant in the phenotype exposed to opioid,except the case\n",
    "- Calculate the NICU stay length of case\n",
    "- Calculate the birth hospital stay length for every infant in the phenotype exposed to opioid\n",
    "\n"
   ]
  },
  {
   "cell_type": "code",
   "execution_count": 0,
   "metadata": {
    "application/vnd.databricks.v1+cell": {
     "cellMetadata": {},
     "inputWidgets": {},
     "nuid": "d8b3a7cc-0cd4-4e98-a41b-8cd576c74cbe",
     "showTitle": false,
     "tableResultSettingsMap": {},
     "title": ""
    }
   },
   "outputs": [],
   "source": [
    "phenotype_table_location = \" ***Insert file location*** \"\n",
    "phenotype_table=spark.sql(f\"SELECT * FROM {phenotype_table_location}\")"
   ]
  },
  {
   "cell_type": "markdown",
   "metadata": {
    "application/vnd.databricks.v1+cell": {
     "cellMetadata": {},
     "inputWidgets": {},
     "nuid": "3841b19d-8c60-457e-a683-a87e8f866e2b",
     "showTitle": false,
     "tableResultSettingsMap": {},
     "title": ""
    }
   },
   "source": [
    "##### cohort:  infant in phenotype cohort with exposed to opioid during hospitalization"
   ]
  },
  {
   "cell_type": "code",
   "execution_count": 0,
   "metadata": {
    "application/vnd.databricks.v1+cell": {
     "cellMetadata": {},
     "inputWidgets": {},
     "nuid": "eaff1c80-14d7-4e2c-92cc-d7e03c15b97e",
     "showTitle": false,
     "tableResultSettingsMap": {},
     "title": ""
    },
    "code_folding": []
   },
   "outputs": [],
   "source": [
    "bh_exposed_opioid_infant = get_baby_bh_cohort(phenotype_table,\"opioid_exposed\")\n",
    "bh_exposed_opioid_infant.createOrReplaceTempView(\"bh_exposed_opioid_infant\")\n",
    "bh_exposed_opioid_infant.display()"
   ]
  },
  {
   "cell_type": "markdown",
   "metadata": {
    "application/vnd.databricks.v1+cell": {
     "cellMetadata": {},
     "inputWidgets": {},
     "nuid": "af8ef974-04b2-4e3c-b98a-38c268be958d",
     "showTitle": false,
     "tableResultSettingsMap": {},
     "title": ""
    }
   },
   "source": [
    "##### Get the CPT codes for the birth hospitalization cohort"
   ]
  },
  {
   "cell_type": "code",
   "execution_count": 0,
   "metadata": {
    "application/vnd.databricks.v1+cell": {
     "cellMetadata": {},
     "inputWidgets": {},
     "nuid": "bcaf40a2-82d2-41d5-80fa-2fff975a63ba",
     "showTitle": false,
     "tableResultSettingsMap": {},
     "title": ""
    }
   },
   "outputs": [],
   "source": [
    "sql=f\"\"\"\n",
    "\n",
    "     select person_id,baby_person_id,baby_grid,procedure_occurrence_id,procedure_date,procedure_source_value,birth_datetime,\n",
    "     first_visit_start_date,first_visit_end_date from\n",
    "   \n",
    "     (select * from bh_exposed_opioid_infant) a\n",
    "     inner join {proc_table} b\n",
    "     on a.baby_person_id = b.person_id\n",
    "     where first_visit_start_date <= procedure_date and procedure_date <= first_visit_end_date;\n",
    "\n",
    "    \"\"\"\n",
    "cpt_exposed_opioid_infant= spark.sql(sql)\n",
    "cpt_exposed_opioid_infant.createOrReplaceTempView(\"cpt_exposed_opioid_infant\")"
   ]
  },
  {
   "cell_type": "markdown",
   "metadata": {
    "application/vnd.databricks.v1+cell": {
     "cellMetadata": {},
     "inputWidgets": {},
     "nuid": "81fe8e9c-e888-4a40-9718-113a5a409125",
     "showTitle": false,
     "tableResultSettingsMap": {},
     "title": ""
    }
   },
   "source": [
    "##### Validation"
   ]
  },
  {
   "cell_type": "code",
   "execution_count": 0,
   "metadata": {
    "application/vnd.databricks.v1+cell": {
     "cellMetadata": {},
     "inputWidgets": {},
     "nuid": "457b493c-658d-4516-87e8-d4dd39a1215d",
     "showTitle": false,
     "tableResultSettingsMap": {},
     "title": ""
    }
   },
   "outputs": [],
   "source": [
    "df_inspection(\"cpt_exposed_opioid_infant\",\"baby\")\n"
   ]
  },
  {
   "cell_type": "markdown",
   "metadata": {
    "application/vnd.databricks.v1+cell": {
     "cellMetadata": {},
     "inputWidgets": {},
     "nuid": "dfa59627-9392-4158-98c4-cd010cd11547",
     "showTitle": false,
     "tableResultSettingsMap": {},
     "title": ""
    }
   },
   "source": [
    "##### Get the initial or subsequent CPT code records"
   ]
  },
  {
   "cell_type": "code",
   "execution_count": 0,
   "metadata": {
    "ExecuteTime": {
     "end_time": "2023-01-09T17:19:21.502247Z",
     "start_time": "2023-01-09T17:19:11.361171Z"
    },
    "application/vnd.databricks.v1+cell": {
     "cellMetadata": {},
     "inputWidgets": {},
     "nuid": "be0bdf2c-53bb-44e6-ae87-c3166a503a84",
     "showTitle": false,
     "tableResultSettingsMap": {},
     "title": ""
    }
   },
   "outputs": [],
   "source": [
    "code_list=['99222','99477','99221','99223','99232','99480','99233','99479','99231','99478','99460','99463','99462','99238','99239']\n",
    "code_list_str=','.join(map(lambda x: \"'\" + x + \"'\", code_list))\n",
    "           \n",
    "sql=f\"\"\"\n",
    "     select a.*,b.concept_name from \n",
    "     (select * from cpt_exposed_opioid_infant where procedure_source_value in ({code_list_str}) ) a\n",
    "     left join (select * from {concept_table} where vocabulary_id = 'CPT4') b \n",
    "     on a.procedure_source_value = b.concept_code;\n",
    "     \"\"\"\n",
    "subsequent_cpt_exposed_opioid_infant= spark.sql(sql)\n",
    "subsequent_cpt_exposed_opioid_infant.createOrReplaceTempView(\"subsequent_cpt_exposed_opioid_infant\")"
   ]
  },
  {
   "cell_type": "markdown",
   "metadata": {
    "application/vnd.databricks.v1+cell": {
     "cellMetadata": {},
     "inputWidgets": {},
     "nuid": "431e8aa8-f7e0-4851-a4c6-d5431159f5ac",
     "showTitle": false,
     "tableResultSettingsMap": {},
     "title": ""
    }
   },
   "source": [
    "#### Validation"
   ]
  },
  {
   "cell_type": "code",
   "execution_count": 0,
   "metadata": {
    "application/vnd.databricks.v1+cell": {
     "cellMetadata": {},
     "inputWidgets": {},
     "nuid": "49a98ba7-cbdc-48f6-a26b-26102cb2455a",
     "showTitle": false,
     "tableResultSettingsMap": {},
     "title": ""
    }
   },
   "outputs": [],
   "source": [
    "df_inspection(\"subsequent_cpt_exposed_opioid_infant\",\"baby\")"
   ]
  },
  {
   "cell_type": "code",
   "execution_count": 0,
   "metadata": {
    "application/vnd.databricks.v1+cell": {
     "cellMetadata": {},
     "inputWidgets": {},
     "nuid": "3488a25a-3873-46cf-b150-68fdf7c0c70a",
     "showTitle": false,
     "tableResultSettingsMap": {},
     "title": ""
    }
   },
   "outputs": [],
   "source": [
    "sql=\"\"\"\n",
    "     select a.*, b.first_date_of_cpt99477 from \n",
    "     ( \n",
    "      select * from subsequent_cpt_exposed_opioid_infant\n",
    "      where person_id in \n",
    "      \n",
    "      (select person_id from cpt_exposed_opioid_infant\n",
    "      where procedure_source_value in ('99477','99478','99479','99480'))\n",
    "      ) a \n",
    "      \n",
    "      left join \n",
    "     \n",
    "      (select distinct person_id, min(procedure_date) as first_date_of_cpt99477\n",
    "      from subsequent_cpt_exposed_opioid_infant where procedure_source_value = '99477' \n",
    "      group by person_id,procedure_date) b\n",
    "      on a.person_id = b.person_id;\n",
    "   \"\"\"\n",
    "subsequent_cpt_exposed_opioid_infant_case= spark.sql(sql)\n",
    "subsequent_cpt_exposed_opioid_infant_case.createOrReplaceTempView(\"subsequent_cpt_exposed_opioid_infant_case\")"
   ]
  },
  {
   "cell_type": "markdown",
   "metadata": {
    "application/vnd.databricks.v1+cell": {
     "cellMetadata": {},
     "inputWidgets": {},
     "nuid": "5685b3a4-ac2a-4a95-a7fb-4aef2e2864d4",
     "showTitle": false,
     "tableResultSettingsMap": {},
     "title": ""
    }
   },
   "source": [
    "##### Validation"
   ]
  },
  {
   "cell_type": "code",
   "execution_count": 0,
   "metadata": {
    "application/vnd.databricks.v1+cell": {
     "cellMetadata": {},
     "inputWidgets": {},
     "nuid": "33366139-c8cb-4859-9d27-1f803b692d05",
     "showTitle": false,
     "tableResultSettingsMap": {},
     "title": ""
    }
   },
   "outputs": [],
   "source": [
    "df_inspection(\"subsequent_cpt_exposed_opioid_infant_case\",\"baby\")"
   ]
  },
  {
   "cell_type": "code",
   "execution_count": 0,
   "metadata": {
    "application/vnd.databricks.v1+cell": {
     "cellMetadata": {},
     "inputWidgets": {},
     "nuid": "a623afc5-0201-4292-b4c9-b4531a3107b5",
     "showTitle": false,
     "tableResultSettingsMap": {},
     "title": ""
    }
   },
   "outputs": [],
   "source": [
    "sql=f\"\"\"\n",
    "       select a.* from subsequent_cpt_exposed_opioid_infant_case a\n",
    "       left join {phenotype_table} b\n",
    "       on a.person_id = b.baby_person_id;\n",
    "   \"\"\"\n",
    "subsequent_cpt_exposed_opioid_infant_case_grid= spark.sql(sql)\n",
    "subsequent_cpt_exposed_opioid_infant_case_grid.createOrReplaceTempView(\"subsequent_cpt_exposed_opioid_infant_case_grid\")"
   ]
  },
  {
   "cell_type": "markdown",
   "metadata": {
    "application/vnd.databricks.v1+cell": {
     "cellMetadata": {},
     "inputWidgets": {},
     "nuid": "d015b224-8146-4d7d-8a3a-078dca9129f9",
     "showTitle": false,
     "tableResultSettingsMap": {},
     "title": ""
    }
   },
   "source": [
    "##### Calculating: nicu stay + hospital stay of case and control"
   ]
  },
  {
   "cell_type": "code",
   "execution_count": 0,
   "metadata": {
    "application/vnd.databricks.v1+cell": {
     "cellMetadata": {},
     "inputWidgets": {},
     "nuid": "572933aa-8dac-457e-8d61-b83dfcfef343",
     "showTitle": false,
     "tableResultSettingsMap": {},
     "title": ""
    }
   },
   "outputs": [],
   "source": [
    "sql=\"\"\"\n",
    "     select * from \n",
    "    \n",
    "     (select baby_GRID, count(distinct procedure_date) as count_of_distinct_nicu_dates \n",
    "     from subsequent_cpt_exposed_opioid_infant_case_grid\n",
    "     where procedure_source_value in ('99477','99478','99479','99480')\n",
    "     group by baby_GRID) a\n",
    "     \n",
    "     right join\n",
    "     \n",
    "     (select a.baby_grid,b.first_visit_end_date,b.first_visit_start_date,DATEDIFF (b.first_visit_end_date, \n",
    "     b.first_visit_start_date) as length_of_hospital_stay from global_temp.mom_baby_step1_baby1stvisit a \n",
    "     inner join bh_exposed_opioid_infant b\n",
    "     on a.baby_grid = b.baby_grid) b \n",
    "     \n",
    "     using (baby_GRID);\n",
    "   \"\"\"\n",
    "exposed_opioid_infant_nicu_hospital_stay = spark.sql(sql)\n",
    "exposed_opioid_infant_nicu_hospital_stay.name='exposed_opioid_infant_nicu_hospital_stay'\n",
    "register_parquet_global_view(exposed_opioid_infant_nicu_hospital_stay)"
   ]
  },
  {
   "cell_type": "code",
   "execution_count": 0,
   "metadata": {
    "application/vnd.databricks.v1+cell": {
     "cellMetadata": {
      "implicitDf": true
     },
     "inputWidgets": {},
     "nuid": "bae69fe7-cf13-4d11-bf7e-4350e43d8c1f",
     "showTitle": false,
     "tableResultSettingsMap": {},
     "title": ""
    }
   },
   "outputs": [],
   "source": [
    "# %sql\n",
    "# select * from global_temp.exposed_opioid_infant_nicu_hospital_stay;"
   ]
  },
  {
   "cell_type": "markdown",
   "metadata": {
    "application/vnd.databricks.v1+cell": {
     "cellMetadata": {},
     "inputWidgets": {},
     "nuid": "620369b3-55d3-4cd0-9566-0f95baa1bc29",
     "showTitle": false,
     "tableResultSettingsMap": {},
     "title": ""
    }
   },
   "source": [
    "##### Validation"
   ]
  },
  {
   "cell_type": "code",
   "execution_count": 0,
   "metadata": {
    "application/vnd.databricks.v1+cell": {
     "cellMetadata": {},
     "inputWidgets": {},
     "nuid": "8aeb526a-6234-4d48-b9d0-030803ff6a09",
     "showTitle": false,
     "tableResultSettingsMap": {},
     "title": ""
    }
   },
   "outputs": [],
   "source": [
    "# sql=\"\"\"\n",
    "#        select count(*) as total,count(distinct baby_grid) as unique_baby from \n",
    "#        global_temp.exposed_opioid_infant_nicu_hospital_stay;\n",
    "#     \"\"\"\n",
    "# inspect_df = spark.sql(sql)\n",
    "# inspect_df.display()"
   ]
  },
  {
   "cell_type": "code",
   "execution_count": 0,
   "metadata": {
    "application/vnd.databricks.v1+cell": {
     "cellMetadata": {},
     "inputWidgets": {},
     "nuid": "b2b076da-48b4-4713-94f8-8677f162bfe6",
     "showTitle": false,
     "tableResultSettingsMap": {},
     "title": ""
    }
   },
   "outputs": [],
   "source": [
    "# sql=\"\"\"\n",
    "#        select count(*) as total,count(distinct baby_grid) as unique_baby from \n",
    "#        global_temp.exposed_opioid_infant_nicu_hospital_stay\n",
    "#        where count_of_distinct_nicu_dates is not null;\n",
    "#     \"\"\"\n",
    "# inspect_df = spark.sql(sql)\n",
    "# inspect_df.display()"
   ]
  },
  {
   "cell_type": "markdown",
   "metadata": {
    "application/vnd.databricks.v1+cell": {
     "cellMetadata": {},
     "inputWidgets": {},
     "nuid": "3f3e4a72-a2ed-4a38-a502-2b048d316e55",
     "showTitle": false,
     "tableResultSettingsMap": {},
     "title": ""
    }
   },
   "source": [
    "### Save Output for future use"
   ]
  },
  {
   "cell_type": "code",
   "execution_count": 0,
   "metadata": {
    "application/vnd.databricks.v1+cell": {
     "cellMetadata": {},
     "inputWidgets": {},
     "nuid": "e97b922b-5355-4bcd-a0ea-de637a4ce5ab",
     "showTitle": false,
     "tableResultSettingsMap": {},
     "title": ""
    }
   },
   "outputs": [],
   "source": [
    "exposed_opioid_infant_nicu_hospital_stay.write.mode(\"overwrite\").saveAsTable(f\"covariate_output.exposed_opioid_infant_nicu_hospital_stay\")"
   ]
  }
 ],
 "metadata": {
  "application/vnd.databricks.v1+notebook": {
   "computePreferences": null,
   "dashboards": [],
   "environmentMetadata": null,
   "inputWidgetPreferences": null,
   "language": "python",
   "notebookMetadata": {
    "mostRecentlyExecutedCommandWithImplicitDF": {
     "commandId": 3353645674993678,
     "dataframes": [
      "_sqldf"
     ]
    },
    "pythonIndentUnit": 4
   },
   "notebookName": "infant exposed opioid nicu stay",
   "widgets": {
    "phenotype_version": {
     "currentValue": "V2_11042022",
     "nuid": "d7121a75-a25c-4897-a803-4ad61b8e5d03",
     "typedWidgetInfo": null,
     "widgetInfo": {
      "widgetType": "dropdown",
      "defaultValue": "V2_11042022",
      "label": "Phenotype for outcome covariant",
      "name": "phenotype_version",
      "options": {
       "widgetType": "dropdown",
       "autoCreated": null,
       "choices": [
        "V1_05232022",
        "V2_11042022",
        "Current_version"
       ]
      }
     }
    }
   }
  },
  "kernelspec": {
   "display_name": "Python 3 (ipykernel)",
   "language": "python",
   "name": "python3"
  },
  "language_info": {
   "name": "python"
  }
 },
 "nbformat": 4,
 "nbformat_minor": 0
}