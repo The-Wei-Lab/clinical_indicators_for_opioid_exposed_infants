{
 "cells": [
  {
   "cell_type": "markdown",
   "metadata": {
    "ExecuteTime": {
     "end_time": "2022-10-17T15:33:31.433647Z",
     "start_time": "2022-10-17T15:33:31.428545Z"
    },
    "application/vnd.databricks.v1+cell": {
     "cellMetadata": {
      "byteLimit": 2048000,
      "rowLimit": 10000
     },
     "inputWidgets": {},
     "nuid": "184fc538-477c-47ee-8d3f-df550f6db0e4",
     "showTitle": false,
     "tableResultSettingsMap": {},
     "title": ""
    }
   },
   "source": [
    "##### Project: Opioid Exposed Infant Covariates\n",
    "##### Investigator: Stephen Patrick, Sarah Loch\n",
    "##### Programmers: Sander Su, Chris Guardo\n",
    "##### Date Created: 01/17/23\n",
    "##### Last Modified: 09/30/25\n",
    "\n",
    "#### Notes: \n",
    "Using the Drug Related codes from the maternal health record, this notebook filters for the use of opioids in the patient’s medical record \n"
   ]
  },
  {
   "cell_type": "code",
   "execution_count": 0,
   "metadata": {
    "ExecuteTime": {
     "end_time": "2023-01-09T17:09:41.945451Z",
     "start_time": "2023-01-09T17:09:41.931993Z"
    },
    "application/vnd.databricks.v1+cell": {
     "cellMetadata": {
      "byteLimit": 2048000,
      "rowLimit": 10000
     },
     "inputWidgets": {},
     "nuid": "ec180f23-b877-491f-a756-d66a12d23e0e",
     "showTitle": false,
     "tableResultSettingsMap": {},
     "title": ""
    }
   },
   "outputs": [],
   "source": [
    "%run \"../Project_modules\""
   ]
  },
  {
   "cell_type": "markdown",
   "metadata": {
    "application/vnd.databricks.v1+cell": {
     "cellMetadata": {
      "byteLimit": 2048000,
      "rowLimit": 10000
     },
     "inputWidgets": {},
     "nuid": "95aef72d-f6df-4a80-9fac-1dbc801cb8a7",
     "showTitle": false,
     "tableResultSettingsMap": {},
     "title": ""
    }
   },
   "source": [
    "- Time window: 90 days to 2 days prior to birth OR (ETOC date through 1 year post-partum - 03/09/23)\n",
    "- cohort: phenotype cohort (41713) or whole phenotype cohort(56777) from phenotype V2\n",
    "\n",
    "##### Mom Non-opioid-drug\n",
    "- non-opioid drug list: Sheet 9 - non opioid drugs\n",
    "\n",
    "##### Mom Opioid-Drug\n",
    "- Opioid drug list: Sheet 7 - Opioid Search Terms\n",
    "\n",
    "##### The difference of MOM OPIOID-DRUG between covar and phenotype (step 4): \n",
    "- cohort: opioid exposed mom vs. (whole) phenotype cohort from phenotype V2\n",
    "- op drug exposure vs. all records\n",
    "- 90 days to 2 days prior to birth or ETOC date through 1 year post-partum (for phenotype: 30 days to 2 days prior to birth)"
   ]
  },
  {
   "cell_type": "code",
   "execution_count": 0,
   "metadata": {
    "application/vnd.databricks.v1+cell": {
     "cellMetadata": {
      "byteLimit": 2048000,
      "implicitDf": true,
      "rowLimit": 10000
     },
     "inputWidgets": {},
     "nuid": "3eeab5d5-b837-4493-a48e-e6253047e9ef",
     "showTitle": false,
     "tableResultSettingsMap": {},
     "title": ""
    }
   },
   "outputs": [],
   "source": [
    "%sql\n",
    "--- Default bin size for range join optimization for all datetime comparision\n",
    "SET spark.databricks.optimizer.rangeJoin.binSize=90"
   ]
  },
  {
   "cell_type": "code",
   "execution_count": 0,
   "metadata": {
    "application/vnd.databricks.v1+cell": {
     "cellMetadata": {
      "byteLimit": 2048000,
      "rowLimit": 10000
     },
     "inputWidgets": {},
     "nuid": "c1f11dbf-ebb7-4824-bc6f-32c4778b7f5c",
     "showTitle": false,
     "tableResultSettingsMap": {},
     "title": ""
    }
   },
   "outputs": [],
   "source": [
    "phenotype_table_location = \" ***Insert file location*** \"\n",
    "phenotype_table=spark.sql(f\"SELECT * FROM {phenotype_table_location}\")"
   ]
  },
  {
   "cell_type": "code",
   "execution_count": 0,
   "metadata": {
    "application/vnd.databricks.v1+cell": {
     "cellMetadata": {
      "byteLimit": 2048000,
      "rowLimit": 10000
     },
     "inputWidgets": {},
     "nuid": "d8b3a7cc-0cd4-4e98-a41b-8cd576c74cbe",
     "showTitle": false,
     "tableResultSettingsMap": {},
     "title": ""
    }
   },
   "outputs": [],
   "source": [
    "dbutils.widgets.dropdown(\"study_period\", \"ETOC_to_1yr_postpartum\", [\"90_days_to_2_days_prior_birth\", \"ETOC_to_1yr_postpartum\"],\"Study period\")\n",
    "study_period=dbutils.widgets.get(\"study_period\")\n",
    "\n",
    "# non_opioid_table=\"phenotyping.mprint_sheet_9_non_opioid_drug\"\n",
    "opioid_table=\"phenotyping.mprint_mom_drug_searchterm_v2\"\n",
    "\n",
    "if (study_period==\"90_days_to_2_days_prior_birth\"):\n",
    "   phenotype_cohort = get_phenotype_cohort(phenotype_table) ###original cohort with criteria (41713)\n",
    "elif (study_period==\"ETOC_to_1yr_postpartum\"):\n",
    "   phenotype_cohort = get_whole_phenotype_cohort(phenotype_table) ###Andrew requested to check whole phenotype cohort (56777)\n",
    "\n",
    "phenotype_cohort.createOrReplaceTempView(\"phenotype_cohort\")"
   ]
  },
  {
   "cell_type": "markdown",
   "metadata": {
    "application/vnd.databricks.v1+cell": {
     "cellMetadata": {
      "byteLimit": 2048000,
      "rowLimit": 10000
     },
     "inputWidgets": {},
     "nuid": "3841b19d-8c60-457e-a683-a87e8f866e2b",
     "showTitle": false,
     "tableResultSettingsMap": {},
     "title": ""
    }
   },
   "source": [
    "##### Sheet9: non_opioid drug list\n"
   ]
  },
  {
   "cell_type": "code",
   "execution_count": 0,
   "metadata": {
    "application/vnd.databricks.v1+cell": {
     "cellMetadata": {
      "byteLimit": 2048000,
      "rowLimit": 10000
     },
     "inputWidgets": {},
     "nuid": "ac723017-176e-41a4-ba91-ea7dc151c44d",
     "showTitle": false,
     "tableResultSettingsMap": {},
     "title": ""
    }
   },
   "outputs": [],
   "source": [
    "#can be removed later\n",
    "sql=f\"select drug_exposure_id,person_id,drug_exposure_start_date,drug_exposure_end_date, lower(trim(drug_source_value)) as drug_source_value,drug_source_concept_id from {drug_exp_table} where person_id in (select mom_person_id from global_temp.mom_baby_step1_2010_mombabypair)\"\n",
    "drugexp_mombabypair_df=spark.sql(sql)\n",
    "\n",
    "drugexp_mombabypair_df.name='drug_exp_mom_df'\n",
    "register_parquet_global_view(drugexp_mombabypair_df)"
   ]
  },
  {
   "cell_type": "code",
   "execution_count": 0,
   "metadata": {
    "application/vnd.databricks.v1+cell": {
     "cellMetadata": {
      "byteLimit": 2048000,
      "rowLimit": 10000
     },
     "inputWidgets": {},
     "nuid": "d4df6382-3303-432b-a067-861ff090b92d",
     "showTitle": false,
     "tableResultSettingsMap": {},
     "title": ""
    }
   },
   "outputs": [],
   "source": [
    "sql=\"\"\"\n",
    "       select lower(drug_name) as search_term,type_code from (\n",
    "       \n",
    "          select drug_name,type_code from phenotyping.mprint_non_opioid_drug_name\n",
    "          union\n",
    "          select generic as drug_name,type_code from phenotyping.mprint_non_opioid_generic\n",
    "          union\n",
    "          select trade as drug_name,type_code from phenotyping.mprint_non_opioid_trade\n",
    "       ) as drugs\n",
    "      \n",
    "    \"\"\"\n",
    "drug_name_list=spark.sql(sql)\n",
    "drug_name_list.createOrReplaceTempView(\"drug_name_list\")"
   ]
  },
  {
   "cell_type": "code",
   "execution_count": 0,
   "metadata": {
    "application/vnd.databricks.v1+cell": {
     "cellMetadata": {
      "byteLimit": 2048000,
      "rowLimit": 10000
     },
     "inputWidgets": {},
     "nuid": "801d8b52-e765-4129-8286-a7a1fded82eb",
     "showTitle": false,
     "tableResultSettingsMap": {},
     "title": ""
    }
   },
   "outputs": [],
   "source": [
    "df1=spark.sql(f\"select * from global_temp.drug_exp_mom_df\")\n",
    "df2=spark.sql(f\"select search_term,type_code from drug_name_list\")\n",
    "merged_df = df1.join(F.broadcast(df2), df1.drug_source_value.contains(df2[\"search_term\"]), \"inner\")\n",
    "result=merged_df.filter(\"drug_source_value not like '%orapred%'\")\n",
    "\n",
    "result.name='mprint_mom_non_opioid_drug'\n",
    "register_parquet_global_view(result)"
   ]
  },
  {
   "cell_type": "markdown",
   "metadata": {
    "application/vnd.databricks.v1+cell": {
     "cellMetadata": {
      "byteLimit": 2048000,
      "rowLimit": 10000
     },
     "inputWidgets": {},
     "nuid": "81fe8e9c-e888-4a40-9718-113a5a409125",
     "showTitle": false,
     "tableResultSettingsMap": {},
     "title": ""
    }
   },
   "source": [
    "##### Validation"
   ]
  },
  {
   "cell_type": "code",
   "execution_count": 0,
   "metadata": {
    "application/vnd.databricks.v1+cell": {
     "cellMetadata": {
      "byteLimit": 2048000,
      "rowLimit": 10000
     },
     "inputWidgets": {},
     "nuid": "457b493c-658d-4516-87e8-d4dd39a1215d",
     "showTitle": false,
     "tableResultSettingsMap": {},
     "title": ""
    }
   },
   "outputs": [],
   "source": [
    "sql=\"\"\"\n",
    "    select count(*) as total, count(distinct person_id) as unique_mom from global_temp.mprint_mom_non_opioid_drug;\n",
    "    \"\"\"\n",
    "insp_df = spark.sql(sql)\n",
    "insp_df.display()"
   ]
  },
  {
   "cell_type": "markdown",
   "metadata": {
    "application/vnd.databricks.v1+cell": {
     "cellMetadata": {
      "byteLimit": 2048000,
      "rowLimit": 10000
     },
     "inputWidgets": {},
     "nuid": "dfa59627-9392-4158-98c4-cd010cd11547",
     "showTitle": false,
     "tableResultSettingsMap": {},
     "title": ""
    }
   },
   "source": [
    "##### Time window: 90 days to 2 days prior to birth"
   ]
  },
  {
   "cell_type": "code",
   "execution_count": 0,
   "metadata": {
    "ExecuteTime": {
     "end_time": "2023-01-09T17:19:21.502247Z",
     "start_time": "2023-01-09T17:19:11.361171Z"
    },
    "application/vnd.databricks.v1+cell": {
     "cellMetadata": {
      "byteLimit": 2048000,
      "rowLimit": 10000
     },
     "inputWidgets": {},
     "nuid": "be0bdf2c-53bb-44e6-ae87-c3166a503a84",
     "showTitle": false,
     "tableResultSettingsMap": {},
     "title": ""
    }
   },
   "outputs": [],
   "source": [
    "def mom_drug_dob90days(drug_df_name,time_win_lower,time_win_upper):\n",
    "  \n",
    "    sql=f\"\"\"\n",
    "       select * from {drug_df_name} a\n",
    "       left join (select mom_person_id, baby_person_id, baby_birth_datetime \n",
    "       from global_temp.mom_baby_step1_2010_mombabypair) b\n",
    "       on a.person_id = b.mom_person_id\n",
    "       where \n",
    "       date_sub(baby_birth_datetime, {time_win_upper}) <= drug_exposure_start_date \n",
    "       and \n",
    "       drug_exposure_start_date <  date_sub(baby_birth_datetime, {time_win_lower});\n",
    "    \"\"\" \n",
    "    \n",
    "    df= spark.sql(sql)\n",
    "    return df\n",
    "    "
   ]
  },
  {
   "cell_type": "markdown",
   "metadata": {
    "application/vnd.databricks.v1+cell": {
     "cellMetadata": {
      "byteLimit": 2048000,
      "rowLimit": 10000
     },
     "inputWidgets": {},
     "nuid": "f560091d-17f0-47d0-89b3-5363a337e7ff",
     "showTitle": false,
     "tableResultSettingsMap": {},
     "title": ""
    }
   },
   "source": [
    "##### Time window: ETOC date through 1 year post-partum"
   ]
  },
  {
   "cell_type": "code",
   "execution_count": 0,
   "metadata": {
    "application/vnd.databricks.v1+cell": {
     "cellMetadata": {
      "byteLimit": 2048000,
      "rowLimit": 10000
     },
     "inputWidgets": {},
     "nuid": "2bd45a1c-852d-468a-8fae-022a5134bda5",
     "showTitle": false,
     "tableResultSettingsMap": {},
     "title": ""
    }
   },
   "outputs": [],
   "source": [
    "def mom_drug_etoc_1yr_postpartum(drug_df_name):\n",
    "  \n",
    "    sql=f\"\"\"\n",
    "       select * from {drug_df_name} a\n",
    "       left join (select mom_person_id, baby_person_id, start_gestation_date as ETOC, baby_dob as baby_birth_datetime\n",
    "       from global_temp.ega_w33_or_uncertain_gestation_date) b\n",
    "       on a.person_id = b.mom_person_id\n",
    "       where \n",
    "       ETOC <= drug_exposure_start_date \n",
    "       and \n",
    "       drug_exposure_start_date <  date_add(baby_birth_datetime, 365);\n",
    "    \"\"\" \n",
    "    \n",
    "    df= spark.sql(sql)\n",
    "    return df"
   ]
  },
  {
   "cell_type": "code",
   "execution_count": 0,
   "metadata": {
    "application/vnd.databricks.v1+cell": {
     "cellMetadata": {
      "byteLimit": 2048000,
      "rowLimit": 10000
     },
     "inputWidgets": {},
     "nuid": "52f6aaf5-2bac-47df-9c58-7d8bd5a35798",
     "showTitle": false,
     "tableResultSettingsMap": {},
     "title": ""
    }
   },
   "outputs": [],
   "source": [
    "if (study_period==\"90_days_to_2_days_prior_birth\"):\n",
    "    mom_non_opioid_drug_main=mom_drug_dob90days(\"global_temp.mprint_mom_non_opioid_drug\",\"2\",\"90\")\n",
    "elif (study_period==\"ETOC_to_1yr_postpartum\"):\n",
    "    mom_non_opioid_drug_main=mom_drug_etoc_1yr_postpartum(\"global_temp.mprint_mom_non_opioid_drug\")\n",
    "    \n",
    "mom_non_opioid_drug_main.createOrReplaceTempView(\"mom_non_opioid_drug_main\")"
   ]
  },
  {
   "cell_type": "markdown",
   "metadata": {
    "application/vnd.databricks.v1+cell": {
     "cellMetadata": {
      "byteLimit": 2048000,
      "rowLimit": 10000
     },
     "inputWidgets": {},
     "nuid": "431e8aa8-f7e0-4851-a4c6-d5431159f5ac",
     "showTitle": false,
     "tableResultSettingsMap": {},
     "title": ""
    }
   },
   "source": [
    "#### Validation"
   ]
  },
  {
   "cell_type": "code",
   "execution_count": 0,
   "metadata": {
    "application/vnd.databricks.v1+cell": {
     "cellMetadata": {
      "byteLimit": 2048000,
      "rowLimit": 10000
     },
     "inputWidgets": {},
     "nuid": "49a98ba7-cbdc-48f6-a26b-26102cb2455a",
     "showTitle": false,
     "tableResultSettingsMap": {},
     "title": ""
    }
   },
   "outputs": [],
   "source": [
    "df_inspection(\"mom_non_opioid_drug_main\",\"all\")"
   ]
  },
  {
   "cell_type": "markdown",
   "metadata": {
    "application/vnd.databricks.v1+cell": {
     "cellMetadata": {
      "byteLimit": 2048000,
      "rowLimit": 10000
     },
     "inputWidgets": {},
     "nuid": "5685b3a4-ac2a-4a95-a7fb-4aef2e2864d4",
     "showTitle": false,
     "tableResultSettingsMap": {},
     "title": ""
    }
   },
   "source": [
    "##### Add x_drug_exposure info (including doc_type)"
   ]
  },
  {
   "cell_type": "code",
   "execution_count": 0,
   "metadata": {
    "application/vnd.databricks.v1+cell": {
     "cellMetadata": {
      "byteLimit": 2048000,
      "rowLimit": 10000
     },
     "inputWidgets": {},
     "nuid": "33366139-c8cb-4859-9d27-1f803b692d05",
     "showTitle": false,
     "tableResultSettingsMap": {},
     "title": ""
    }
   },
   "outputs": [],
   "source": [
    "def drug_extra_table_addition(drug_df_name):\n",
    "  \n",
    "   sql=f\"\"\"\n",
    "        select * from {drug_df_name} a\n",
    "        inner join {drug_exp_table_extra} b\n",
    "        using (person_id,drug_exposure_id);\n",
    "      \"\"\"\n",
    "   \n",
    "   df= spark.sql(sql)\n",
    "   return df"
   ]
  },
  {
   "cell_type": "code",
   "execution_count": 0,
   "metadata": {
    "application/vnd.databricks.v1+cell": {
     "cellMetadata": {
      "byteLimit": 2048000,
      "rowLimit": 10000
     },
     "inputWidgets": {},
     "nuid": "c8392b14-1849-44f0-8488-c6477c2fd241",
     "showTitle": false,
     "tableResultSettingsMap": {},
     "title": ""
    }
   },
   "outputs": [],
   "source": [
    "mom_non_opioid_drug_all=drug_extra_table_addition(\"mom_non_opioid_drug_main\")\n",
    "mom_non_opioid_drug_all.createOrReplaceTempView(\"mom_non_opioid_drug_all\")"
   ]
  },
  {
   "cell_type": "markdown",
   "metadata": {
    "application/vnd.databricks.v1+cell": {
     "cellMetadata": {
      "byteLimit": 2048000,
      "rowLimit": 10000
     },
     "inputWidgets": {},
     "nuid": "19f4c653-d8c0-434c-8345-b743c2216661",
     "showTitle": false,
     "tableResultSettingsMap": {},
     "title": ""
    }
   },
   "source": [
    "##### Validation"
   ]
  },
  {
   "cell_type": "code",
   "execution_count": 0,
   "metadata": {
    "application/vnd.databricks.v1+cell": {
     "cellMetadata": {
      "byteLimit": 2048000,
      "rowLimit": 10000
     },
     "inputWidgets": {},
     "nuid": "2f26eeab-729e-485f-b0cc-682a8f6bb0ab",
     "showTitle": false,
     "tableResultSettingsMap": {},
     "title": ""
    }
   },
   "outputs": [],
   "source": [
    "#df_inspection(\"mom_non_opioid_drug_all\",\"all\")\n"
   ]
  },
  {
   "cell_type": "markdown",
   "metadata": {
    "application/vnd.databricks.v1+cell": {
     "cellMetadata": {
      "byteLimit": 2048000,
      "rowLimit": 10000
     },
     "inputWidgets": {},
     "nuid": "7a69b9ea-de57-4e88-a9bb-5a6f367def90",
     "showTitle": false,
     "tableResultSettingsMap": {},
     "title": ""
    }
   },
   "source": [
    "##### cohort: all mom in mom_baby_2010_mombabypair_all_version1_11042022_05232022 (v2)"
   ]
  },
  {
   "cell_type": "code",
   "execution_count": 0,
   "metadata": {
    "application/vnd.databricks.v1+cell": {
     "cellMetadata": {
      "byteLimit": 2048000,
      "rowLimit": 10000
     },
     "inputWidgets": {},
     "nuid": "c43e4daf-715c-4c4d-a9a1-ad4214d591e6",
     "showTitle": false,
     "tableResultSettingsMap": {},
     "title": ""
    }
   },
   "outputs": [],
   "source": [
    "def get_cohort(drug_df_name):\n",
    "   \n",
    "   sql=f\"\"\"\n",
    "       select distinct *\n",
    "       from {drug_df_name} \n",
    "       where (mom_person_id,baby_person_id) in\n",
    "       (select mom_person_id,baby_person_id from phenotype_cohort);\n",
    "       \"\"\"\n",
    "   df= spark.sql(sql)\n",
    "   return df"
   ]
  },
  {
   "cell_type": "code",
   "execution_count": 0,
   "metadata": {
    "application/vnd.databricks.v1+cell": {
     "cellMetadata": {
      "byteLimit": 2048000,
      "rowLimit": 10000
     },
     "inputWidgets": {},
     "nuid": "579b07e9-8109-43d9-81f4-fea94483f5a6",
     "showTitle": false,
     "tableResultSettingsMap": {},
     "title": ""
    }
   },
   "outputs": [],
   "source": [
    "mom_non_opioid_drug_cohort= get_cohort(\"mom_non_opioid_drug_all\")\n",
    "mom_non_opioid_drug_cohort.createOrReplaceTempView(\"mom_non_opioid_drug_cohort\")"
   ]
  },
  {
   "cell_type": "markdown",
   "metadata": {
    "application/vnd.databricks.v1+cell": {
     "cellMetadata": {
      "byteLimit": 2048000,
      "rowLimit": 10000
     },
     "inputWidgets": {},
     "nuid": "fb4f2e5b-3bb8-44d2-b1ec-010cf1ba269a",
     "showTitle": false,
     "tableResultSettingsMap": {},
     "title": ""
    }
   },
   "source": [
    "##### Create results table for review"
   ]
  },
  {
   "cell_type": "code",
   "execution_count": 0,
   "metadata": {
    "application/vnd.databricks.v1+cell": {
     "cellMetadata": {
      "byteLimit": 2048000,
      "rowLimit": 10000
     },
     "inputWidgets": {},
     "nuid": "03038908-afe7-456c-9544-6ebfd45d55f7",
     "showTitle": false,
     "tableResultSettingsMap": {},
     "title": ""
    }
   },
   "outputs": [],
   "source": [
    "sql=\"\"\"\n",
    "      select b.mom_person_source_value as mom_mrn,b.baby_person_source_value as baby_mrn,* \n",
    "      from mom_non_opioid_drug_cohort a left join\n",
    "      (select * from phenotype_cohort) b\n",
    "      using(mom_person_id,baby_person_id,baby_birth_datetime);\n",
    "\n",
    "   \"\"\"\n",
    "mom_non_opioid_drug_covar_data= spark.sql(sql).drop(\"mom_person_id\",\"baby_person_id\",\"person_id\",\"mom_person_source_value\",\"baby_person_source_value\")\n",
    "mom_non_opioid_drug_covar_data=change_colname_case(mom_non_opioid_drug_covar_data,'upper')\n",
    "mom_non_opioid_drug_covar_data.name='mom_non_opioid_drug_covar_data'\n",
    "register_parquet_global_view(mom_non_opioid_drug_covar_data)"
   ]
  },
  {
   "cell_type": "code",
   "execution_count": 0,
   "metadata": {
    "application/vnd.databricks.v1+cell": {
     "cellMetadata": {
      "byteLimit": 2048000,
      "implicitDf": true,
      "rowLimit": 10000
     },
     "inputWidgets": {},
     "nuid": "ac59fe0d-f2a8-4f95-9e1a-18dfe904b564",
     "showTitle": false,
     "tableResultSettingsMap": {},
     "title": ""
    }
   },
   "outputs": [],
   "source": [
    "%sql\n",
    "select * from global_temp.mom_non_opioid_drug_covar_data;"
   ]
  },
  {
   "cell_type": "markdown",
   "metadata": {
    "application/vnd.databricks.v1+cell": {
     "cellMetadata": {
      "byteLimit": 2048000,
      "rowLimit": 10000
     },
     "inputWidgets": {},
     "nuid": "c43106d2-e01c-4906-9f77-e118a3d338df",
     "showTitle": false,
     "tableResultSettingsMap": {},
     "title": ""
    }
   },
   "source": [
    "##### Validation"
   ]
  },
  {
   "cell_type": "code",
   "execution_count": 0,
   "metadata": {
    "application/vnd.databricks.v1+cell": {
     "cellMetadata": {
      "byteLimit": 2048000,
      "implicitDf": true,
      "rowLimit": 10000
     },
     "inputWidgets": {},
     "nuid": "ba982d7a-c5d4-47f7-ad2e-040362c950e7",
     "showTitle": false,
     "tableResultSettingsMap": {},
     "title": ""
    }
   },
   "outputs": [],
   "source": [
    "%sql\n",
    "select count(*) AS total, count(distinct mom_mrn) AS unique_mom, count(distinct baby_mrn) AS unique_baby from global_temp.mom_non_opioid_drug_covar_data;\n"
   ]
  },
  {
   "cell_type": "markdown",
   "metadata": {
    "application/vnd.databricks.v1+cell": {
     "cellMetadata": {
      "byteLimit": 2048000,
      "rowLimit": 10000
     },
     "inputWidgets": {},
     "nuid": "4cb2579d-e548-4f85-ab5d-a3c208505192",
     "showTitle": false,
     "tableResultSettingsMap": {},
     "title": ""
    }
   },
   "source": [
    "##### Output for review"
   ]
  },
  {
   "cell_type": "code",
   "execution_count": 0,
   "metadata": {
    "application/vnd.databricks.v1+cell": {
     "cellMetadata": {
      "byteLimit": 2048000,
      "rowLimit": 10000
     },
     "inputWidgets": {},
     "nuid": "7b3a5a1a-e12e-4019-a4be-033ee1e74170",
     "showTitle": false,
     "tableResultSettingsMap": {},
     "title": ""
    }
   },
   "outputs": [],
   "source": [
    "spark.sql(\"select * from global_temp.mom_non_opioid_drug_covar_data\").write.mode(\"overwrite\").saveAsTable(f\"phenotype_output.mom_non_opioid_drug_covar_data_{study_period}\")"
   ]
  },
  {
   "cell_type": "markdown",
   "metadata": {
    "application/vnd.databricks.v1+cell": {
     "cellMetadata": {
      "byteLimit": 2048000,
      "rowLimit": 10000
     },
     "inputWidgets": {},
     "nuid": "8a38d999-703a-495a-baea-8f326c0a2e4d",
     "showTitle": false,
     "tableResultSettingsMap": {},
     "title": ""
    }
   },
   "source": [
    "##### Search the OPIOID drug list in table 'DRUG_EXPOSURE'\n",
    "- NOTE: We used drug_mom cohort from step4_momdrug.JN"
   ]
  },
  {
   "cell_type": "markdown",
   "metadata": {
    "application/vnd.databricks.v1+cell": {
     "cellMetadata": {
      "byteLimit": 2048000,
      "rowLimit": 10000
     },
     "inputWidgets": {},
     "nuid": "38654096-1ffc-47b2-88b7-67ec19136f23",
     "showTitle": false,
     "tableResultSettingsMap": {},
     "title": ""
    }
   },
   "source": [
    "##### Time window: 90 days to 2 days prior to birth or ETOC date through 1 year post-partum"
   ]
  },
  {
   "cell_type": "code",
   "execution_count": 0,
   "metadata": {
    "application/vnd.databricks.v1+cell": {
     "cellMetadata": {
      "byteLimit": 2048000,
      "rowLimit": 10000
     },
     "inputWidgets": {},
     "nuid": "43035924-e06f-4ca2-b1ae-0c35a0867e56",
     "showTitle": false,
     "tableResultSettingsMap": {},
     "title": ""
    }
   },
   "outputs": [],
   "source": [
    "if (study_period==\"90_days_to_2_days_prior_birth\"):\n",
    "    mom_opioid_drug_main=mom_drug_dob90days(\"global_temp.mom_drug_info\",\"2\",\"90\")\n",
    "elif (study_period==\"ETOC_to_1yr_postpartum\"):\n",
    "    mom_opioid_drug_main=mom_drug_etoc_1yr_postpartum(\"global_temp.mom_drug_info\")\n",
    "    \n",
    "mom_opioid_drug_main.createOrReplaceTempView(\"mom_opioid_drug_main\")"
   ]
  },
  {
   "cell_type": "code",
   "execution_count": 0,
   "metadata": {
    "application/vnd.databricks.v1+cell": {
     "cellMetadata": {
      "byteLimit": 2048000,
      "rowLimit": 10000
     },
     "inputWidgets": {},
     "nuid": "26fcc039-711c-4220-ae21-927823661230",
     "showTitle": false,
     "tableResultSettingsMap": {},
     "title": ""
    }
   },
   "outputs": [],
   "source": [
    "mom_opioid_drug_all=drug_extra_table_addition(\"mom_opioid_drug_main\")\n",
    "mom_opioid_drug_all.createOrReplaceTempView(\"mom_opioid_drug_all\")"
   ]
  },
  {
   "cell_type": "code",
   "execution_count": 0,
   "metadata": {
    "application/vnd.databricks.v1+cell": {
     "cellMetadata": {
      "byteLimit": 2048000,
      "rowLimit": 10000
     },
     "inputWidgets": {},
     "nuid": "e56093bd-e232-447f-9ec3-03999f55e95c",
     "showTitle": false,
     "tableResultSettingsMap": {},
     "title": ""
    }
   },
   "outputs": [],
   "source": [
    "mom_opioid_drug_cohort= get_cohort(\"mom_opioid_drug_all\")\n",
    "mom_opioid_drug_cohort.createOrReplaceTempView(\"mom_opioid_drug_cohort\")"
   ]
  },
  {
   "cell_type": "markdown",
   "metadata": {
    "application/vnd.databricks.v1+cell": {
     "cellMetadata": {
      "byteLimit": 2048000,
      "rowLimit": 10000
     },
     "inputWidgets": {},
     "nuid": "b145695a-34ef-4aed-a3be-44f57785fc7d",
     "showTitle": false,
     "tableResultSettingsMap": {},
     "title": ""
    }
   },
   "source": [
    "##### Create result for review"
   ]
  },
  {
   "cell_type": "code",
   "execution_count": 0,
   "metadata": {
    "application/vnd.databricks.v1+cell": {
     "cellMetadata": {
      "byteLimit": 2048000,
      "rowLimit": 10000
     },
     "inputWidgets": {},
     "nuid": "969e1457-4d62-458e-b690-44b57b5f782e",
     "showTitle": false,
     "tableResultSettingsMap": {},
     "title": ""
    }
   },
   "outputs": [],
   "source": [
    "sql=\"\"\"\n",
    "    select b.mom_person_source_value as mom_mrn,b.baby_person_source_value as baby_mrn,*,'OPIOIDS' as TYPE_CODE \n",
    "    from mom_opioid_drug_cohort a left join\n",
    "    (select * from phenotype_cohort) b\n",
    "    using(mom_person_id,baby_person_id,baby_birth_datetime);\n",
    "   \"\"\"\n",
    "mom_opioid_drug_covar_data= spark.sql(sql).drop(\"mom_person_id\",\"baby_person_id\",\"person_id\",\"mom_person_source_value\",\"baby_person_source_value\")\n",
    "mom_opioid_drug_covar_data=mom_opioid_drug_covar_data.withColumnRenamed(\"generic\",\"search_term\")\n",
    "mom_opioid_drug_covar_data=change_colname_case(mom_opioid_drug_covar_data,'upper')\n",
    "mom_opioid_drug_covar_data.name='mom_opioid_drug_covar_data'\n",
    "register_parquet_global_view(mom_opioid_drug_covar_data)"
   ]
  },
  {
   "cell_type": "code",
   "execution_count": 0,
   "metadata": {
    "application/vnd.databricks.v1+cell": {
     "cellMetadata": {
      "byteLimit": 2048000,
      "implicitDf": true,
      "rowLimit": 10000
     },
     "inputWidgets": {},
     "nuid": "f166d91d-0082-4b77-8683-b9b3d067199a",
     "showTitle": false,
     "tableResultSettingsMap": {},
     "title": ""
    }
   },
   "outputs": [],
   "source": [
    "%sql\n",
    "select * from global_temp.mom_opioid_drug_covar_data;"
   ]
  },
  {
   "cell_type": "code",
   "execution_count": 0,
   "metadata": {
    "application/vnd.databricks.v1+cell": {
     "cellMetadata": {
      "byteLimit": 2048000,
      "implicitDf": true,
      "rowLimit": 10000
     },
     "inputWidgets": {},
     "nuid": "552e3c84-a89f-4cee-b89f-4b88ebefec43",
     "showTitle": false,
     "tableResultSettingsMap": {},
     "title": ""
    }
   },
   "outputs": [],
   "source": [
    "%sql\n",
    "select count(*) AS total, count(distinct mom_mrn) AS unique_mom, count(distinct baby_mrn) AS unique_baby from global_temp.mom_opioid_drug_covar_data;\n"
   ]
  },
  {
   "cell_type": "markdown",
   "metadata": {
    "application/vnd.databricks.v1+cell": {
     "cellMetadata": {},
     "inputWidgets": {},
     "nuid": "0758c6be-7eb0-4d2d-8998-2a11909393e9",
     "showTitle": false,
     "tableResultSettingsMap": {},
     "title": ""
    }
   },
   "source": [
    "### Save Output for future use"
   ]
  },
  {
   "cell_type": "code",
   "execution_count": 0,
   "metadata": {
    "application/vnd.databricks.v1+cell": {
     "cellMetadata": {
      "byteLimit": 2048000,
      "rowLimit": 10000
     },
     "inputWidgets": {},
     "nuid": "2a2cfc17-fb27-4fc5-8c2c-f6facd479324",
     "showTitle": false,
     "tableResultSettingsMap": {},
     "title": ""
    }
   },
   "outputs": [],
   "source": [
    "spark.sql(\"select * from global_temp.mom_opioid_drug_covar_data\").write.mode(\"overwrite\").saveAsTable(f\"covariate_output..mom_opioid_drug_covar_data_{study_period}\")"
   ]
  }
 ],
 "metadata": {
  "application/vnd.databricks.v1+notebook": {
   "computePreferences": null,
   "dashboards": [],
   "environmentMetadata": null,
   "inputWidgetPreferences": null,
   "language": "python",
   "notebookMetadata": {
    "mostRecentlyExecutedCommandWithImplicitDF": {
     "commandId": 1370923410205577,
     "dataframes": [
      "_sqldf"
     ]
    },
    "pythonIndentUnit": 4
   },
   "notebookName": "maternal opioid perscription",
   "widgets": {
    "phenotype_version": {
     "currentValue": "V2_11042022",
     "nuid": "74094e75-210d-4a54-a036-14cce22c3a25",
     "typedWidgetInfo": null,
     "widgetInfo": {
      "widgetType": "dropdown",
      "defaultValue": "V2_11042022",
      "label": "Phenotype for outcome covariant",
      "name": "phenotype_version",
      "options": {
       "widgetType": "dropdown",
       "autoCreated": null,
       "choices": [
        "V1_05232022",
        "V2_11042022",
        "Current_version"
       ]
      }
     }
    },
    "study_period": {
     "currentValue": "ETOC_to_1yr_postpartum",
     "nuid": "a39cb55e-6ed3-4ca8-8a39-367909968c19",
     "typedWidgetInfo": null,
     "widgetInfo": {
      "widgetType": "dropdown",
      "defaultValue": "ETOC_to_1yr_postpartum",
      "label": "Study period",
      "name": "study_period",
      "options": {
       "widgetType": "dropdown",
       "autoCreated": null,
       "choices": [
        "90_days_to_2_days_prior_birth",
        "ETOC_to_1yr_postpartum"
       ]
      }
     }
    }
   }
  },
  "kernelspec": {
   "display_name": "Python 3 (ipykernel)",
   "language": "python",
   "name": "python3"
  },
  "language_info": {
   "name": "python"
  }
 },
 "nbformat": 4,
 "nbformat_minor": 0
}