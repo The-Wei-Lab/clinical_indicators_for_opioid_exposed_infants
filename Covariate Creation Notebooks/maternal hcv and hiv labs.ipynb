{
 "cells": [
  {
   "cell_type": "markdown",
   "metadata": {
    "ExecuteTime": {
     "end_time": "2022-10-17T15:33:31.433647Z",
     "start_time": "2022-10-17T15:33:31.428545Z"
    },
    "application/vnd.databricks.v1+cell": {
     "cellMetadata": {
      "byteLimit": 2048000,
      "rowLimit": 10000
     },
     "inputWidgets": {},
     "nuid": "9220d7be-0111-4c57-a791-fcd3a7a27e02",
     "showTitle": false,
     "tableResultSettingsMap": {},
     "title": ""
    }
   },
   "source": [
    "##### Project: Opioid Exposed Infant Covariates\n",
    "##### Investigator: Stephen Patrick, Sarah Loch\n",
    "##### Programmers: Sander Su, Chris Guardo\n",
    "##### Date Created: 01/17/23\n",
    "##### Last Modified: 09/30/25\n",
    "\n",
    "#### Notes:\n",
    "This notebook depends on the gestational age notebook in the pipeline and pulls all HIV and HCV related LOINC codes from a patient’s medical records around the pregnancy period \n"
   ]
  },
  {
   "cell_type": "code",
   "execution_count": 0,
   "metadata": {
    "ExecuteTime": {
     "end_time": "2023-01-09T16:55:16.161097Z",
     "start_time": "2023-01-09T16:55:06.334305Z"
    },
    "application/vnd.databricks.v1+cell": {
     "cellMetadata": {
      "byteLimit": 2048000,
      "rowLimit": 10000
     },
     "inputWidgets": {},
     "nuid": "f5e7b029-0e14-4ee0-b941-caebd71b2545",
     "showTitle": false,
     "tableResultSettingsMap": {},
     "title": ""
    }
   },
   "outputs": [],
   "source": [
    "%run \"../Project_modules\""
   ]
  },
  {
   "cell_type": "markdown",
   "metadata": {
    "application/vnd.databricks.v1+cell": {
     "cellMetadata": {
      "byteLimit": 2048000,
      "rowLimit": 10000
     },
     "inputWidgets": {},
     "nuid": "6e5b1d13-3995-42e3-95c4-c6dc79e8fb75",
     "showTitle": false,
     "tableResultSettingsMap": {},
     "title": ""
    }
   },
   "source": [
    "#### HIV-positive Variable: HCV-positive\n",
    "##### search the information about 2 parts:\n",
    "- Lab list: Sheet 10 - mat HCV and HIV"
   ]
  },
  {
   "cell_type": "code",
   "execution_count": 0,
   "metadata": {
    "application/vnd.databricks.v1+cell": {
     "cellMetadata": {
      "byteLimit": 2048000,
      "rowLimit": 10000
     },
     "inputWidgets": {},
     "nuid": "7d77ed69-d3f1-4d18-8d5c-9901db78eac5",
     "showTitle": false,
     "tableResultSettingsMap": {},
     "title": ""
    },
    "code_folding": []
   },
   "outputs": [],
   "source": [
    "phenotype_table_location = \" ***Insert file location*** \"\n",
    "phenotype_table=spark.sql(f\"SELECT * FROM {phenotype_table_location}\")\n",
    "sheet_name=\"phenotyping.mprint_hcv_hiv_lab\"\n",
    "\n",
    "### combine short names and long names into a search term list \n",
    "search_term=get_search_term(sheet_name)\n",
    "search_term.createOrReplaceTempView(\"search_term\")"
   ]
  },
  {
   "cell_type": "markdown",
   "metadata": {
    "application/vnd.databricks.v1+cell": {
     "cellMetadata": {
      "byteLimit": 2048000,
      "rowLimit": 10000
     },
     "inputWidgets": {},
     "nuid": "165056e4-84de-4d17-b5d1-c0adce808b02",
     "showTitle": false,
     "tableResultSettingsMap": {},
     "title": ""
    }
   },
   "source": [
    "##### hcv or hiv positive/present/reactive from lab report"
   ]
  },
  {
   "cell_type": "code",
   "execution_count": 0,
   "metadata": {
    "ExecuteTime": {
     "end_time": "2023-01-09T16:57:37.191649Z",
     "start_time": "2023-01-09T16:57:18.459998Z"
    },
    "application/vnd.databricks.v1+cell": {
     "cellMetadata": {
      "byteLimit": 2048000,
      "rowLimit": 10000
     },
     "inputWidgets": {},
     "nuid": "8898a3f0-af31-4713-8819-7fea316e9682",
     "showTitle": false,
     "tableResultSettingsMap": {},
     "title": ""
    }
   },
   "outputs": [],
   "source": [
    "sql=f\"\"\"\n",
    "      select * from\n",
    "      \n",
    "      (select * from {meas_table} a\n",
    "      inner join (select * from search_term) b on lower(trim(measurement_source_value)) LIKE '%' || b.search_term || '%'\n",
    "      \n",
    "      where lower(value_source_value) like '%positive%' or lower(value_source_value) like '%present%' or \n",
    "      lower(value_source_value) like '%reactive%')  c\n",
    "       \n",
    "    \"\"\"\n",
    "hcv_hiv_lab_positive = spark.sql(sql)\n",
    "hcv_hiv_lab_positive.createOrReplaceTempView(\"hcv_hiv_lab_positive\")"
   ]
  },
  {
   "cell_type": "markdown",
   "metadata": {
    "application/vnd.databricks.v1+cell": {
     "cellMetadata": {
      "byteLimit": 2048000,
      "rowLimit": 10000
     },
     "inputWidgets": {},
     "nuid": "e0c0040b-5034-4a63-a371-6d16f01adc09",
     "showTitle": false,
     "tableResultSettingsMap": {},
     "title": ""
    }
   },
   "source": [
    "##### hcv or hiv quantitative value from lab report"
   ]
  },
  {
   "cell_type": "code",
   "execution_count": 0,
   "metadata": {
    "application/vnd.databricks.v1+cell": {
     "cellMetadata": {
      "byteLimit": 2048000,
      "rowLimit": 10000
     },
     "inputWidgets": {},
     "nuid": "3c3afd56-b3a3-4d11-a128-0da80a02b945",
     "showTitle": false,
     "tableResultSettingsMap": {},
     "title": ""
    }
   },
   "outputs": [],
   "source": [
    "mom_meas_df=spark.sql(f\"select * from {meas_table} where person_id in (select distinct mom_person_id from global_temp.ega_w33_or_uncertain_gestation_date)\")\n",
    "mom_meas_df.createOrReplaceTempView(\"mom_meas_df\")\n",
    "\n",
    "sql=f\"\"\"\n",
    "       select * from\n",
    "       (select * from mom_meas_df a\n",
    "       inner join (select * from search_term) b on lower(trim(measurement_source_value)) LIKE '%' || b.search_term || '%'\n",
    "       where value_as_number is not null)  c\n",
    "    \n",
    "    \"\"\"\n",
    "hcv_hiv_lab_quantative= spark.sql(sql)\n",
    "hcv_hiv_lab_quantative.createOrReplaceTempView(\"hcv_hiv_lab_quantative\")"
   ]
  },
  {
   "cell_type": "markdown",
   "metadata": {
    "application/vnd.databricks.v1+cell": {
     "cellMetadata": {
      "byteLimit": 2048000,
      "rowLimit": 10000
     },
     "inputWidgets": {},
     "nuid": "04b8a0dc-0b5f-4978-a95e-0dd9d786cc04",
     "showTitle": false,
     "tableResultSettingsMap": {},
     "title": ""
    }
   },
   "source": [
    "##### Report within time window: From start_gestation_date to 'birth date + 30 days'"
   ]
  },
  {
   "cell_type": "code",
   "execution_count": 0,
   "metadata": {
    "application/vnd.databricks.v1+cell": {
     "cellMetadata": {
      "byteLimit": 2048000,
      "rowLimit": 10000
     },
     "inputWidgets": {},
     "nuid": "82883967-4728-437d-93ae-bb4d63f34760",
     "showTitle": false,
     "tableResultSettingsMap": {},
     "title": ""
    }
   },
   "outputs": [],
   "source": [
    "def report_within_time_window(report_name):\n",
    "    \n",
    "    sql=f\"\"\"\n",
    "           select * from {report_name} a\n",
    "           inner join  (select mom_person_id, baby_person_id,baby_dob,start_gestation_date,\n",
    "           length_of_gestation from global_temp.ega_w33_or_uncertain_gestation_date) b\n",
    "           on a.person_id = b.mom_person_id\n",
    "           where measurement_date >= start_gestation_date and measurement_date < date_add(baby_dob, 30);\n",
    "       \"\"\"\n",
    "    df = spark.sql(sql)\n",
    "    return df"
   ]
  },
  {
   "cell_type": "markdown",
   "metadata": {
    "application/vnd.databricks.v1+cell": {
     "cellMetadata": {
      "byteLimit": 2048000,
      "rowLimit": 10000
     },
     "inputWidgets": {},
     "nuid": "c990a9f1-8240-4f0f-b1c0-4a95a8009754",
     "showTitle": false,
     "tableResultSettingsMap": {},
     "title": ""
    }
   },
   "source": [
    "##### for lab positive report"
   ]
  },
  {
   "cell_type": "code",
   "execution_count": 0,
   "metadata": {
    "application/vnd.databricks.v1+cell": {
     "cellMetadata": {
      "byteLimit": 2048000,
      "rowLimit": 10000
     },
     "inputWidgets": {},
     "nuid": "34d497cf-ac5b-4993-998f-fa2719ee6801",
     "showTitle": false,
     "tableResultSettingsMap": {},
     "title": ""
    }
   },
   "outputs": [
    {
     "output_type": "display_data",
     "data": {
      "text/html": [
       "<style scoped>\n",
       "  .ansiout {\n",
       "    display: block;\n",
       "    unicode-bidi: embed;\n",
       "    white-space: pre-wrap;\n",
       "    word-wrap: break-word;\n",
       "    word-break: break-all;\n",
       "    font-family: \"Menlo\", \"Monaco\", \"Consolas\", \"Ubuntu Mono\", \"Source Code Pro\", monospace;\n",
       "    font-size: 13px;\n",
       "    color: #555;\n",
       "    margin-left: 4px;\n",
       "    line-height: 19px;\n",
       "  }\n",
       "</style>"
      ]
     },
     "metadata": {
      "application/vnd.databricks.v1+output": {
       "arguments": {},
       "data": "",
       "errorSummary": "",
       "errorTraceType": null,
       "metadata": {},
       "type": "ipynbError"
      }
     },
     "output_type": "display_data"
    }
   ],
   "source": [
    "hcv_hiv_lab_positive_prenatal = report_within_time_window(\"hcv_hiv_lab_positive\")\n",
    "hcv_hiv_lab_positive_prenatal.name='hcv_hiv_lab_positive_prenatal'\n",
    "register_parquet_global_view(hcv_hiv_lab_positive_prenatal)"
   ]
  },
  {
   "cell_type": "markdown",
   "metadata": {
    "application/vnd.databricks.v1+cell": {
     "cellMetadata": {
      "byteLimit": 2048000,
      "rowLimit": 10000
     },
     "inputWidgets": {},
     "nuid": "d21c0607-fe81-4a8a-82e9-f1046a388a58",
     "showTitle": false,
     "tableResultSettingsMap": {},
     "title": ""
    }
   },
   "source": [
    "##### for HCV/HIV lab quantative value report"
   ]
  },
  {
   "cell_type": "code",
   "execution_count": 0,
   "metadata": {
    "application/vnd.databricks.v1+cell": {
     "cellMetadata": {
      "byteLimit": 2048000,
      "rowLimit": 10000
     },
     "inputWidgets": {},
     "nuid": "30519511-61e1-4c98-ab23-e85a9c5c1332",
     "showTitle": false,
     "tableResultSettingsMap": {},
     "title": ""
    }
   },
   "outputs": [
    {
     "output_type": "display_data",
     "data": {
      "text/html": [
       "<style scoped>\n",
       "  .ansiout {\n",
       "    display: block;\n",
       "    unicode-bidi: embed;\n",
       "    white-space: pre-wrap;\n",
       "    word-wrap: break-word;\n",
       "    word-break: break-all;\n",
       "    font-family: \"Menlo\", \"Monaco\", \"Consolas\", \"Ubuntu Mono\", \"Source Code Pro\", monospace;\n",
       "    font-size: 13px;\n",
       "    color: #555;\n",
       "    margin-left: 4px;\n",
       "    line-height: 19px;\n",
       "  }\n",
       "</style>"
      ]
     },
     "metadata": {
      "application/vnd.databricks.v1+output": {
       "arguments": {},
       "data": "",
       "errorSummary": "",
       "errorTraceType": null,
       "metadata": {},
       "type": "ipynbError"
      }
     },
     "output_type": "display_data"
    }
   ],
   "source": [
    "hcv_hiv_lab_quantative_prenatal= report_within_time_window(\"hcv_hiv_lab_quantative\")\n",
    "hcv_hiv_lab_quantative_prenatal.name='hcv_hiv_lab_quantative_prenatal'\n",
    "register_parquet_global_view(hcv_hiv_lab_quantative_prenatal)"
   ]
  },
  {
   "cell_type": "markdown",
   "metadata": {
    "application/vnd.databricks.v1+cell": {
     "cellMetadata": {
      "byteLimit": 2048000,
      "rowLimit": 10000
     },
     "inputWidgets": {},
     "nuid": "5377b976-5c3c-4da6-8667-b0317c117654",
     "showTitle": false,
     "tableResultSettingsMap": {},
     "title": ""
    }
   },
   "source": [
    "##### Prenatal Opioid Exposure"
   ]
  },
  {
   "cell_type": "code",
   "execution_count": 0,
   "metadata": {
    "application/vnd.databricks.v1+cell": {
     "cellMetadata": {
      "byteLimit": 2048000,
      "rowLimit": 10000
     },
     "inputWidgets": {},
     "nuid": "de5be896-e7ab-4047-8698-cf9f943a8346",
     "showTitle": false,
     "tableResultSettingsMap": {},
     "title": ""
    }
   },
   "outputs": [
    {
     "output_type": "display_data",
     "data": {
      "text/html": [
       "<style scoped>\n",
       "  .ansiout {\n",
       "    display: block;\n",
       "    unicode-bidi: embed;\n",
       "    white-space: pre-wrap;\n",
       "    word-wrap: break-word;\n",
       "    word-break: break-all;\n",
       "    font-family: \"Menlo\", \"Monaco\", \"Consolas\", \"Ubuntu Mono\", \"Source Code Pro\", monospace;\n",
       "    font-size: 13px;\n",
       "    color: #555;\n",
       "    margin-left: 4px;\n",
       "    line-height: 19px;\n",
       "  }\n",
       "</style>"
      ]
     },
     "metadata": {
      "application/vnd.databricks.v1+output": {
       "arguments": {},
       "data": "",
       "errorSummary": "",
       "errorTraceType": null,
       "metadata": {},
       "type": "ipynbError"
      }
     },
     "output_type": "display_data"
    }
   ],
   "source": [
    "def prenatal_opioid_exposure(prenatal_df_name,lab_name):\n",
    "    \n",
    "   sql=f\"\"\"\n",
    "       select * from global_temp.{prenatal_df_name}\n",
    "       where (mom_person_id,baby_person_id) in \n",
    "       (\n",
    "        select mom_person_id,baby_person_id\n",
    "        from {phenotype_table}\n",
    "        where gestational_age_w33_or_uncertain = 1 and live_birth_code=1 and critical_illness_4cpt = 0 \n",
    "        and respiratory_procedure_code = 0 and   fetal_anomalies_code =0 \n",
    "        and (mom_oud_inpatient = 1 or mom_oud_outpatient=1 or mom_drug = 1 or mom_drug_in_note = 1)\n",
    "       )\n",
    "       and lab='{lab_name}'; \n",
    "      \"\"\"\n",
    "   df = spark.sql(sql)\n",
    "   return df\n"
   ]
  },
  {
   "cell_type": "markdown",
   "metadata": {
    "application/vnd.databricks.v1+cell": {
     "cellMetadata": {
      "byteLimit": 2048000,
      "rowLimit": 10000
     },
     "inputWidgets": {},
     "nuid": "fbab19ff-7e85-4635-a3f0-9cdfee799bf2",
     "showTitle": false,
     "tableResultSettingsMap": {},
     "title": ""
    }
   },
   "source": [
    "##### For lab positive report"
   ]
  },
  {
   "cell_type": "code",
   "execution_count": 0,
   "metadata": {
    "application/vnd.databricks.v1+cell": {
     "cellMetadata": {
      "byteLimit": 2048000,
      "rowLimit": 10000
     },
     "inputWidgets": {},
     "nuid": "c83616a8-3735-4a62-b4f2-77e86b3b1dc9",
     "showTitle": false,
     "tableResultSettingsMap": {},
     "title": ""
    }
   },
   "outputs": [
    {
     "output_type": "display_data",
     "data": {
      "text/html": [
       "<style scoped>\n",
       "  .ansiout {\n",
       "    display: block;\n",
       "    unicode-bidi: embed;\n",
       "    white-space: pre-wrap;\n",
       "    word-wrap: break-word;\n",
       "    word-break: break-all;\n",
       "    font-family: \"Menlo\", \"Monaco\", \"Consolas\", \"Ubuntu Mono\", \"Source Code Pro\", monospace;\n",
       "    font-size: 13px;\n",
       "    color: #555;\n",
       "    margin-left: 4px;\n",
       "    line-height: 19px;\n",
       "  }\n",
       "</style>"
      ]
     },
     "metadata": {
      "application/vnd.databricks.v1+output": {
       "arguments": {},
       "data": "",
       "errorSummary": "",
       "errorTraceType": null,
       "metadata": {},
       "type": "ipynbError"
      }
     },
     "output_type": "display_data"
    }
   ],
   "source": [
    "hcv_hiv_lab_positive_prenatal_opioid_hcv = prenatal_opioid_exposure(\"hcv_hiv_lab_positive_prenatal\",\"HCV\")\n",
    "hcv_hiv_lab_positive_prenatal_opioid_hiv = prenatal_opioid_exposure(\"hcv_hiv_lab_positive_prenatal\",\"HIV\")\n",
    "\n",
    "hcv_hiv_lab_positive_prenatal_opioid_hcv.name='hcv_hiv_lab_positive_prenatal_opioid_hcv'\n",
    "register_parquet_global_view(hcv_hiv_lab_positive_prenatal_opioid_hcv)\n",
    "\n",
    "hcv_hiv_lab_positive_prenatal_opioid_hiv.name='hcv_hiv_lab_positive_prenatal_opioid_hiv'\n",
    "register_parquet_global_view(hcv_hiv_lab_positive_prenatal_opioid_hiv)\n",
    "\n",
    "df_inspection(\"global_temp.hcv_hiv_lab_positive_prenatal_opioid_hcv\",\"all\")"
   ]
  },
  {
   "cell_type": "markdown",
   "metadata": {
    "application/vnd.databricks.v1+cell": {
     "cellMetadata": {
      "byteLimit": 2048000,
      "rowLimit": 10000
     },
     "inputWidgets": {},
     "nuid": "742cc04e-95e9-470e-947e-55eaa7e08059",
     "showTitle": false,
     "tableResultSettingsMap": {},
     "title": ""
    }
   },
   "source": [
    "##### For quantative report"
   ]
  },
  {
   "cell_type": "code",
   "execution_count": 0,
   "metadata": {
    "application/vnd.databricks.v1+cell": {
     "cellMetadata": {
      "byteLimit": 2048000,
      "rowLimit": 10000
     },
     "inputWidgets": {},
     "nuid": "4652758a-ccec-4221-b9af-190795fc3560",
     "showTitle": false,
     "tableResultSettingsMap": {},
     "title": ""
    }
   },
   "outputs": [
    {
     "output_type": "display_data",
     "data": {
      "text/html": [
       "<style scoped>\n",
       "  .ansiout {\n",
       "    display: block;\n",
       "    unicode-bidi: embed;\n",
       "    white-space: pre-wrap;\n",
       "    word-wrap: break-word;\n",
       "    word-break: break-all;\n",
       "    font-family: \"Menlo\", \"Monaco\", \"Consolas\", \"Ubuntu Mono\", \"Source Code Pro\", monospace;\n",
       "    font-size: 13px;\n",
       "    color: #555;\n",
       "    margin-left: 4px;\n",
       "    line-height: 19px;\n",
       "  }\n",
       "</style>"
      ]
     },
     "metadata": {
      "application/vnd.databricks.v1+output": {
       "arguments": {},
       "data": "",
       "errorSummary": "",
       "errorTraceType": null,
       "metadata": {},
       "type": "ipynbError"
      }
     },
     "output_type": "display_data"
    }
   ],
   "source": [
    "hcv_hiv_lab_quantative_prenatal_opioid_hcv=prenatal_opioid_exposure(\"hcv_hiv_lab_quantative_prenatal\",\"HCV\")\n",
    "hcv_hiv_lab_quantative_prenatal_opioid_hcv.name='hcv_hiv_lab_quantative_prenatal_opioid_hcv'\n",
    "register_parquet_global_view(hcv_hiv_lab_quantative_prenatal_opioid_hcv)\n",
    "\n",
    "df_inspection(\"global_temp.hcv_hiv_lab_quantative_prenatal_opioid_hcv\",\"all\")\n",
    "\n",
    "hcv_hiv_lab_quantative_prenatal_opioid_hiv=prenatal_opioid_exposure(\"hcv_hiv_lab_quantative_prenatal\",\"HIV\")\n",
    "hcv_hiv_lab_quantative_prenatal_opioid_hiv.name='hcv_hiv_lab_quantative_prenatal_opioid_hiv'\n",
    "register_parquet_global_view(hcv_hiv_lab_quantative_prenatal_opioid_hiv)\n",
    "\n",
    "df_inspection(\"global_temp.hcv_hiv_lab_quantative_prenatal_opioid_hiv\",\"all\")"
   ]
  },
  {
   "cell_type": "markdown",
   "metadata": {
    "application/vnd.databricks.v1+cell": {
     "cellMetadata": {},
     "inputWidgets": {},
     "nuid": "7fbfa692-7f79-4d35-83f0-470b91d88673",
     "showTitle": false,
     "tableResultSettingsMap": {},
     "title": ""
    }
   },
   "source": [
    "### Save Output for future use"
   ]
  },
  {
   "cell_type": "code",
   "execution_count": 0,
   "metadata": {
    "application/vnd.databricks.v1+cell": {
     "cellMetadata": {},
     "inputWidgets": {},
     "nuid": "c51bf441-f591-4d53-8e55-b5719d074c22",
     "showTitle": false,
     "tableResultSettingsMap": {},
     "title": ""
    }
   },
   "outputs": [],
   "source": [
    "hcv_hiv_lab_quantative_prenatal_opioid_hiv.write.mode(\"overwrite\").saveAsTable(f\"covariate_output.hcv_hiv_lab_quantative_prenatal_opioid_hiv\")\n",
    "hcv_hiv_lab_quantative_prenatal_opioid_hcv.write.mode(\"overwrite\").saveAsTable(f\"covariate_output.hcv_hiv_lab_quantative_prenatal_opioid_hcv\")"
   ]
  },
  {
   "cell_type": "markdown",
   "metadata": {
    "application/vnd.databricks.v1+cell": {
     "cellMetadata": {
      "byteLimit": 2048000,
      "rowLimit": 10000
     },
     "inputWidgets": {},
     "nuid": "09767924-657f-49ca-9c22-89fc73d1eb31",
     "showTitle": false,
     "tableResultSettingsMap": {},
     "title": ""
    }
   },
   "source": [
    "#### Review only:\n",
    "- COMBINE HCV positive and HCV quantative (consider HCV is also positive when it got quantative value)\n",
    "- COMBINE HIV positive and HIV quantative (consider HIV is also positive when it got quantative value) "
   ]
  },
  {
   "cell_type": "code",
   "execution_count": 0,
   "metadata": {
    "application/vnd.databricks.v1+cell": {
     "cellMetadata": {
      "byteLimit": 2048000,
      "rowLimit": 10000
     },
     "inputWidgets": {},
     "nuid": "7c5f3a33-3828-4511-9c93-3e9f29884877",
     "showTitle": false,
     "tableResultSettingsMap": {},
     "title": ""
    }
   },
   "outputs": [
    {
     "output_type": "display_data",
     "data": {
      "text/html": [
       "<style scoped>\n",
       "  .ansiout {\n",
       "    display: block;\n",
       "    unicode-bidi: embed;\n",
       "    white-space: pre-wrap;\n",
       "    word-wrap: break-word;\n",
       "    word-break: break-all;\n",
       "    font-family: \"Menlo\", \"Monaco\", \"Consolas\", \"Ubuntu Mono\", \"Source Code Pro\", monospace;\n",
       "    font-size: 13px;\n",
       "    color: #555;\n",
       "    margin-left: 4px;\n",
       "    line-height: 19px;\n",
       "  }\n",
       "</style>"
      ]
     },
     "metadata": {
      "application/vnd.databricks.v1+output": {
       "arguments": {},
       "data": "",
       "errorSummary": "",
       "errorTraceType": null,
       "metadata": {},
       "type": "ipynbError"
      }
     },
     "output_type": "display_data"
    }
   ],
   "source": [
    "# def report_combination(lab_name):\n",
    "    \n",
    "#    sql=\"\"\"\n",
    "#        select *, case when (mom_person_id,baby_person_id) in (select mom_person_id,baby_person_id from hcv_hiv_lab_positive_prenatal_opioid_{lab_name}) then 1 else 0 end as already_in_hcvpositive_table\n",
    "#     from hcv_hiv_lab_quantative_prenatal_opioid_{lab_name\n",
    "    \n",
    "\n",
    "#    df = spark.sql(sql)\n",
    "#    return df"
   ]
  },
  {
   "cell_type": "markdown",
   "metadata": {
    "application/vnd.databricks.v1+cell": {
     "cellMetadata": {
      "byteLimit": 2048000,
      "rowLimit": 10000
     },
     "inputWidgets": {},
     "nuid": "18969729-c03c-41ee-ac11-be8bcfc2a77b",
     "showTitle": false,
     "tableResultSettingsMap": {},
     "title": ""
    }
   },
   "source": [
    "##### HCV report combination"
   ]
  },
  {
   "cell_type": "code",
   "execution_count": 0,
   "metadata": {
    "application/vnd.databricks.v1+cell": {
     "cellMetadata": {
      "byteLimit": 2048000,
      "rowLimit": 10000
     },
     "inputWidgets": {},
     "nuid": "b827d471-912d-495e-b17e-2d9e635d74a2",
     "showTitle": false,
     "tableResultSettingsMap": {},
     "title": ""
    }
   },
   "outputs": [
    {
     "output_type": "display_data",
     "data": {
      "text/html": [
       "<style scoped>\n",
       "  .ansiout {\n",
       "    display: block;\n",
       "    unicode-bidi: embed;\n",
       "    white-space: pre-wrap;\n",
       "    word-wrap: break-word;\n",
       "    word-break: break-all;\n",
       "    font-family: \"Menlo\", \"Monaco\", \"Consolas\", \"Ubuntu Mono\", \"Source Code Pro\", monospace;\n",
       "    font-size: 13px;\n",
       "    color: #555;\n",
       "    margin-left: 4px;\n",
       "    line-height: 19px;\n",
       "  }\n",
       "</style>"
      ]
     },
     "metadata": {
      "application/vnd.databricks.v1+output": {
       "arguments": {},
       "data": "",
       "errorSummary": "",
       "errorTraceType": null,
       "metadata": {},
       "type": "ipynbError"
      }
     },
     "output_type": "display_data"
    }
   ],
   "source": [
    "# hcv_hiv_lab_quantative_prenatal_opioid_hcv_ifinpositive = report_combination('hcv')\n",
    "# hcv_hiv_lab_quantative_prenatal_opioid_hcv_ifinpositive.createOrReplaceTempView(\"hcv_hiv_lab_quantative_prenatal_opioid_hcv_ifinpositive\")  \n",
    "# hcv_hiv_lab_quantative_prenatal_opioid_hcv_ifinpositive.display()\n"
   ]
  },
  {
   "cell_type": "markdown",
   "metadata": {
    "application/vnd.databricks.v1+cell": {
     "cellMetadata": {
      "byteLimit": 2048000,
      "rowLimit": 10000
     },
     "inputWidgets": {},
     "nuid": "9b7f50e3-dbb4-43b2-aeaa-6f2758084cff",
     "showTitle": false,
     "tableResultSettingsMap": {},
     "title": ""
    }
   },
   "source": [
    "##### HIV report combination"
   ]
  },
  {
   "cell_type": "code",
   "execution_count": 0,
   "metadata": {
    "application/vnd.databricks.v1+cell": {
     "cellMetadata": {
      "byteLimit": 2048000,
      "rowLimit": 10000
     },
     "inputWidgets": {},
     "nuid": "7af545ed-bbed-486f-a1ca-143795a64f2a",
     "showTitle": false,
     "tableResultSettingsMap": {},
     "title": ""
    }
   },
   "outputs": [
    {
     "output_type": "display_data",
     "data": {
      "text/html": [
       "<style scoped>\n",
       "  .ansiout {\n",
       "    display: block;\n",
       "    unicode-bidi: embed;\n",
       "    white-space: pre-wrap;\n",
       "    word-wrap: break-word;\n",
       "    word-break: break-all;\n",
       "    font-family: \"Menlo\", \"Monaco\", \"Consolas\", \"Ubuntu Mono\", \"Source Code Pro\", monospace;\n",
       "    font-size: 13px;\n",
       "    color: #555;\n",
       "    margin-left: 4px;\n",
       "    line-height: 19px;\n",
       "  }\n",
       "</style>"
      ]
     },
     "metadata": {
      "application/vnd.databricks.v1+output": {
       "arguments": {},
       "data": "",
       "errorSummary": "",
       "errorTraceType": null,
       "metadata": {},
       "type": "ipynbError"
      }
     },
     "output_type": "display_data"
    }
   ],
   "source": [
    "# hcv_hiv_lab_quantative_prenatal_opioid_hiv_ifinpositive = report_combination('hiv')\n",
    "# hcv_hiv_lab_quantative_prenatal_opioid_hiv_ifinpositive.createOrReplaceTempView(\"hcv_hiv_lab_quantative_prenatal_opioid_hiv_ifinpositive\")  \n",
    "# hcv_hiv_lab_quantative_prenatal_opioid_hiv_ifinpositive.display()"
   ]
  }
 ],
 "metadata": {
  "application/vnd.databricks.v1+notebook": {
   "computePreferences": null,
   "dashboards": [],
   "environmentMetadata": null,
   "inputWidgetPreferences": null,
   "language": "python",
   "notebookMetadata": {
    "mostRecentlyExecutedCommandWithImplicitDF": {
     "commandId": 619614099783499,
     "dataframes": [
      "_sqldf"
     ]
    },
    "pythonIndentUnit": 4
   },
   "notebookName": "maternal hcv and hiv labs",
   "widgets": {
    "phenotype_version": {
     "currentValue": "V2_11042022",
     "nuid": "57201739-1472-4b53-b8cc-6cc0a029cce0",
     "typedWidgetInfo": null,
     "widgetInfo": {
      "widgetType": "dropdown",
      "defaultValue": "V2_11042022",
      "label": "Phenotype for outcome covariant",
      "name": "phenotype_version",
      "options": {
       "widgetType": "dropdown",
       "autoCreated": null,
       "choices": [
        "V1_05232022",
        "V2_11042022",
        "Current_version"
       ]
      }
     }
    }
   }
  },
  "kernelspec": {
   "display_name": "Python 3 (ipykernel)",
   "language": "python",
   "name": "python3"
  },
  "language_info": {
   "name": "python"
  }
 },
 "nbformat": 4,
 "nbformat_minor": 0
}