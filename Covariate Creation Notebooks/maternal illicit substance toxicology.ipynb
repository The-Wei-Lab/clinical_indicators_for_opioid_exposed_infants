{
 "cells": [
  {
   "cell_type": "markdown",
   "metadata": {
    "ExecuteTime": {
     "end_time": "2022-10-17T15:33:31.433647Z",
     "start_time": "2022-10-17T15:33:31.428545Z"
    },
    "application/vnd.databricks.v1+cell": {
     "cellMetadata": {},
     "inputWidgets": {},
     "nuid": "9220d7be-0111-4c57-a791-fcd3a7a27e02",
     "showTitle": false,
     "tableResultSettingsMap": {},
     "title": ""
    }
   },
   "source": [
    "##### Project: Opioid Exposed Infant Covariates\n",
    "##### Investigator: Stephen Patrick, Sarah Loch\n",
    "##### Programmers: Sander Su, Chris Guardo\n",
    "##### Date Created: 01/17/23\n",
    "##### Last Modified: 09/30/25\n",
    "\n",
    "#### Notes:\n",
    "Using the Drug Related codes from the maternal health record, this notebook filters for evidence of present/positive/non-zero laboratory toxicology results indicative of illicit substance use recorded from 30-days prior to delivery up through and including the birth hospitalization. \n"
   ]
  },
  {
   "cell_type": "code",
   "execution_count": 0,
   "metadata": {
    "ExecuteTime": {
     "end_time": "2023-01-09T16:55:16.161097Z",
     "start_time": "2023-01-09T16:55:06.334305Z"
    },
    "application/vnd.databricks.v1+cell": {
     "cellMetadata": {
      "byteLimit": 2048000,
      "rowLimit": 10000
     },
     "inputWidgets": {},
     "nuid": "f5e7b029-0e14-4ee0-b941-caebd71b2545",
     "showTitle": false,
     "tableResultSettingsMap": {},
     "title": ""
    }
   },
   "outputs": [],
   "source": [
    "%run \"../Project_modules\""
   ]
  },
  {
   "cell_type": "markdown",
   "metadata": {
    "application/vnd.databricks.v1+cell": {
     "cellMetadata": {},
     "inputWidgets": {},
     "nuid": "6e5b1d13-3995-42e3-95c4-c6dc79e8fb75",
     "showTitle": false,
     "tableResultSettingsMap": {},
     "title": ""
    }
   },
   "source": [
    "##### Maternal illicit substance use:\n",
    "##### use values from 'Sheet 12 mat illicit toxicology' in table 'measurement'\n",
    "##### cohort: the numbers in popuation 40k(All moms of mom-baby pairs after 2010 and passed the exclusion criteria)\n",
    "##### lab value: positive, present or reactive\n",
    "##### time window updated: 30 days before birth date through end of birth hospitalization stay"
   ]
  },
  {
   "cell_type": "code",
   "execution_count": 0,
   "metadata": {
    "application/vnd.databricks.v1+cell": {
     "cellMetadata": {
      "byteLimit": 2048000,
      "rowLimit": 10000
     },
     "inputWidgets": {},
     "nuid": "9a9d41d3-1d91-48a7-9009-bec7e50d9638",
     "showTitle": false,
     "tableResultSettingsMap": {},
     "title": ""
    }
   },
   "outputs": [],
   "source": [
    "phenotype_table_location = \" ***Insert file location*** \"\n",
    "phenotype_table=spark.sql(f\"SELECT * FROM {phenotype_table_location}\")\n",
    "phenotype_cohort=get_phenotype_cohort(phenotype_table)\n",
    "phenotype_cohort.createOrReplaceTempView(\"phenotype_cohort\")\n",
    "\n",
    "sheet_name=\"phenotyping.mprint_sheet_12_mat_illicit_toxicology\" ### combine main and extra list into one sheet"
   ]
  },
  {
   "cell_type": "markdown",
   "metadata": {
    "application/vnd.databricks.v1+cell": {
     "cellMetadata": {},
     "inputWidgets": {},
     "nuid": "165056e4-84de-4d17-b5d1-c0adce808b02",
     "showTitle": false,
     "tableResultSettingsMap": {},
     "title": ""
    }
   },
   "source": [
    "##### mom_baby_step1_matopioidtoxicology_main"
   ]
  },
  {
   "cell_type": "code",
   "execution_count": 0,
   "metadata": {
    "application/vnd.databricks.v1+cell": {
     "cellMetadata": {
      "byteLimit": 2048000,
      "rowLimit": 10000
     },
     "inputWidgets": {},
     "nuid": "c43066b1-a925-446d-b746-4851cc282d8e",
     "showTitle": false,
     "tableResultSettingsMap": {},
     "title": ""
    }
   },
   "outputs": [],
   "source": [
    "def search_str_df(col_name):\n",
    "    df1=spark.sql(f\"select * from global_temp.mom_meas_data\")\n",
    "    df2=spark.sql(f\"\"\"select lower({col_name}) as search_term, drug_type_grouping, '{col_name}' as search_term_type , source \n",
    "                  from {sheet_name} where {col_name} is not null\"\"\")\n",
    "    merged_df = df1.join(F.broadcast(df2), df1.measurement_source_value.contains(df2[\"search_term\"]), \"inner\")\n",
    "    result_df=merged_df.filter(\"(value_source_value like '%positive%' or value_source_value like '%present%' or value_source_value like '%reactive%') or value_as_number is not null\")\n",
    "  \n",
    "    return result_df"
   ]
  },
  {
   "cell_type": "code",
   "execution_count": 0,
   "metadata": {
    "ExecuteTime": {
     "end_time": "2023-01-09T16:57:37.191649Z",
     "start_time": "2023-01-09T16:57:18.459998Z"
    },
    "application/vnd.databricks.v1+cell": {
     "cellMetadata": {
      "byteLimit": 2048000,
      "rowLimit": 10000
     },
     "inputWidgets": {},
     "nuid": "8898a3f0-af31-4713-8819-7fea316e9682",
     "showTitle": false,
     "tableResultSettingsMap": {},
     "title": ""
    }
   },
   "outputs": [],
   "source": [
    "sql=f\"\"\"\n",
    "          select * from {meas_table} where person_id in \n",
    "          (select mom_person_id from global_temp.mom_baby_step1_2010_mombabypair);\n",
    "     \"\"\"\n",
    "mom_meas_df=spark.sql(sql)\n",
    "mom_meas_df = mom_meas_df.withColumn(\"measurement_source_value\", trim(mom_meas_df.measurement_source_value))\n",
    "mom_meas_df = mom_meas_df.withColumn(\"measurement_source_value\",F.lower(F.col(\"measurement_source_value\")))\n",
    "mom_meas_df = mom_meas_df.withColumn(\"value_source_value\",F.lower(F.col(\"value_source_value\")))\n",
    "mom_meas_df.name=\"mom_meas_data\"\n",
    "register_parquet_global_view(mom_meas_df)\n",
    "\n",
    "short_name_df=search_str_df('short_name')\n",
    "long_name_df=search_str_df('long_name')\n",
    "meas_df = short_name_df.union(long_name_df).distinct()\n",
    "meas_df.name=\"illicit_substance_meas_df\"\n",
    "register_parquet_global_view(meas_df)\n",
    " \n",
    "sql=\"select a.*,b.* from global_temp.illicit_substance_meas_df as a, global_temp.mom_baby_step1_2010_mombabypair as b where a.person_id = b.mom_person_id;\"\n",
    "\n",
    "mom_baby_step1_2010_mombabypair_illicit_substance  = spark.sql(sql)\n",
    "mom_baby_step1_2010_mombabypair_illicit_substance.name='mom_baby_step1_2010_mombabypair_illicit_substance'\n",
    "register_parquet_global_view(mom_baby_step1_2010_mombabypair_illicit_substance)"
   ]
  },
  {
   "cell_type": "markdown",
   "metadata": {
    "application/vnd.databricks.v1+cell": {
     "cellMetadata": {},
     "inputWidgets": {},
     "nuid": "04b8a0dc-0b5f-4978-a95e-0dd9d786cc04",
     "showTitle": false,
     "tableResultSettingsMap": {},
     "title": ""
    }
   },
   "source": [
    "##### Validation"
   ]
  },
  {
   "cell_type": "code",
   "execution_count": 0,
   "metadata": {
    "application/vnd.databricks.v1+cell": {
     "cellMetadata": {
      "byteLimit": 2048000,
      "rowLimit": 10000
     },
     "inputWidgets": {},
     "nuid": "34d497cf-ac5b-4993-998f-fa2719ee6801",
     "showTitle": false,
     "tableResultSettingsMap": {},
     "title": ""
    }
   },
   "outputs": [],
   "source": [
    "df_inspection(\"global_temp.mom_baby_step1_2010_mombabypair_illicit_substance\",\"all\")"
   ]
  },
  {
   "cell_type": "markdown",
   "metadata": {
    "application/vnd.databricks.v1+cell": {
     "cellMetadata": {},
     "inputWidgets": {},
     "nuid": "60036e2f-3c03-4da9-bf11-8f4b11d00212",
     "showTitle": false,
     "tableResultSettingsMap": {},
     "title": ""
    }
   },
   "source": [
    "##### Remove unwant item"
   ]
  },
  {
   "cell_type": "code",
   "execution_count": 0,
   "metadata": {
    "application/vnd.databricks.v1+cell": {
     "cellMetadata": {
      "byteLimit": 2048000,
      "rowLimit": 10000
     },
     "inputWidgets": {},
     "nuid": "dc4e4860-c5e1-4322-82f0-c83ae841fe74",
     "showTitle": false,
     "tableResultSettingsMap": {},
     "title": ""
    }
   },
   "outputs": [],
   "source": [
    "\n",
    "sql=\"\"\"\n",
    "     select * from global_temp.mom_baby_step1_2010_mombabypair_illicit_substance\n",
    "     where measurement_source_value not like '%streptococcus%';   \n",
    "     --remove 'GROUP B STREPTOCOCCUS VAGINAL CULTURE - EXTERNAL MANUAL' from the result list\n",
    "    \"\"\"\n",
    "\n",
    "mom_baby_step1_2010_mombabypair_mom_illicitsubstance_all = spark.sql(sql)\n",
    "mom_baby_step1_2010_mombabypair_mom_illicitsubstance_all.name=\"mom_baby_step1_2010_mombabypair_mom_illicitsubstance_all\"\n",
    "register_parquet_global_view(mom_baby_step1_2010_mombabypair_mom_illicitsubstance_all)"
   ]
  },
  {
   "cell_type": "code",
   "execution_count": 0,
   "metadata": {
    "application/vnd.databricks.v1+cell": {
     "cellMetadata": {
      "byteLimit": 2048000,
      "rowLimit": 10000
     },
     "inputWidgets": {},
     "nuid": "d045e762-ae7d-434b-8928-8813ba78720f",
     "showTitle": false,
     "tableResultSettingsMap": {},
     "title": ""
    }
   },
   "outputs": [],
   "source": [
    "df_inspection(\"global_temp.mom_baby_step1_2010_mombabypair_mom_illicitsubstance_all\",\"all\")\n"
   ]
  },
  {
   "cell_type": "markdown",
   "metadata": {
    "application/vnd.databricks.v1+cell": {
     "cellMetadata": {},
     "inputWidgets": {},
     "nuid": "538b1d97-6ba0-4e04-b510-3bc49f12b0fe",
     "showTitle": false,
     "tableResultSettingsMap": {},
     "title": ""
    }
   },
   "source": [
    "##### time window updated: 30 days before birth date through end of birth hospitalization stay"
   ]
  },
  {
   "cell_type": "code",
   "execution_count": 0,
   "metadata": {
    "application/vnd.databricks.v1+cell": {
     "cellMetadata": {
      "byteLimit": 2048000,
      "rowLimit": 10000
     },
     "inputWidgets": {},
     "nuid": "b2ae2599-f63e-464d-8eb9-fa82bde30a91",
     "showTitle": false,
     "tableResultSettingsMap": {},
     "title": ""
    }
   },
   "outputs": [],
   "source": [
    "sql=\"\"\"\n",
    "     select * from global_temp.mom_baby_step1_2010_mombabypair_mom_illicitsubstance_all a\n",
    "     inner join global_temp.mom_baby_step1_baby1stvisit_all b\n",
    "     using (baby_person_id)\n",
    "     where measurement_date >= date_sub(baby_birth_datetime, 30) and measurement_date <= first_visit_end_date;\n",
    "    \"\"\"\n",
    "\n",
    "mom_baby_step1_2010_mombabypair_mom_illicitsubstance_all_30bh = spark.sql(sql)\n",
    "mom_baby_step1_2010_mombabypair_mom_illicitsubstance_all_30bh.createOrReplaceTempView(\"mom_baby_step1_2010_mombabypair_mom_illicitsubstance_all_30bh\")"
   ]
  },
  {
   "cell_type": "code",
   "execution_count": 0,
   "metadata": {
    "application/vnd.databricks.v1+cell": {
     "cellMetadata": {
      "byteLimit": 2048000,
      "rowLimit": 10000
     },
     "inputWidgets": {},
     "nuid": "8de1df90-0344-42d0-89e3-0ae502428fff",
     "showTitle": false,
     "tableResultSettingsMap": {},
     "title": ""
    }
   },
   "outputs": [],
   "source": [
    "df_inspection(\"mom_baby_step1_2010_mombabypair_mom_illicitsubstance_all_30bh\",\"all\")\n"
   ]
  },
  {
   "cell_type": "markdown",
   "metadata": {
    "application/vnd.databricks.v1+cell": {
     "cellMetadata": {},
     "inputWidgets": {},
     "nuid": "ab4e43f0-a708-4c2b-a8b5-8072289fd505",
     "showTitle": false,
     "tableResultSettingsMap": {},
     "title": ""
    }
   },
   "source": [
    "##### Cohort:\n",
    "##### Calculate the numbers in popuation 40k (All moms of mom-baby pairs after 2010 and passed the exclusion criteria)\n",
    "##### population: gestational_age_w33_or_uncertain = 1 and live_birth_code=1 and critical_illness_4cpt = 0 and respiratory_procedure_code = 0 and fetal_anomalies_code =0"
   ]
  },
  {
   "cell_type": "code",
   "execution_count": 0,
   "metadata": {
    "application/vnd.databricks.v1+cell": {
     "cellMetadata": {
      "byteLimit": 2048000,
      "rowLimit": 10000
     },
     "inputWidgets": {},
     "nuid": "1c079da9-d2ed-4088-8809-6cc5abbd9b75",
     "showTitle": false,
     "tableResultSettingsMap": {},
     "title": ""
    }
   },
   "outputs": [],
   "source": [
    "sql=\"\"\"\n",
    "     select a.mom_person_id,a.baby_person_id,a.mom_person_source_value as MOM_MRN,MEASUREMENT_ID,MEASUREMENT_DATE,MEASUREMENT_DATETIME,\n",
    "     VALUE_AS_NUMBER,RANGE_LOW,RANGE_HIGH,VISIT_OCCURRENCE_ID,MEASUREMENT_SOURCE_VALUE,UNIT_SOURCE_VALUE,VALUE_SOURCE_VALUE,\n",
    "     drug_type_grouping, search_term,search_term_type,first_visit_start_date,\n",
    "     first_visit_end_date,cohort.baby_person_source_value as BABY_MRN,cohort.BABY_BIRTH_DATETIME,cohort.BABY_GENDER,\n",
    "     cohort.BABY_RACE,LIVE_BIRTH_CODE,PREGNANCY_CODE,GESTATIONAL_AGE_W33_OR_UNCERTAIN,CRITICAL_ILLNESS_4CPT,\n",
    "     RESPIRATORY_PROCEDURE_CODE,FETAL_ANOMALIES_CODE,GESTATIONAL_AGE_UNCERTAIN,NOWS_BABY_CODE,INFANT_TOX_LAB,\n",
    "     MOM_OUD,MOM_OUD_INPATIENT,MOM_OUD_OUTPATIENT,MOM_DRUG,MOM_DRUG_IN_NOTE,mom_opioid_tox,cohort.BABY_1ST_VISIT_PROBLEM\n",
    "     from mom_baby_step1_2010_mombabypair_mom_illicitsubstance_all_30bh a\n",
    "\n",
    "     inner join (select * from phenotype_cohort) cohort\n",
    "     on a.mom_person_id = cohort.mom_person_id and \n",
    "     a.baby_person_id = cohort.baby_person_id\n",
    "     order by mom_person_id,baby_person_id\n",
    "    \"\"\"\n",
    "\n",
    "mom_illicitsubstance_cohort = spark.sql(sql).distinct()\n",
    "mom_illicitsubstance_cohort.name=\"mom_illicitsubstance_cohort\"\n",
    "register_parquet_global_view(mom_illicitsubstance_cohort)"
   ]
  },
  {
   "cell_type": "code",
   "execution_count": 0,
   "metadata": {
    "application/vnd.databricks.v1+cell": {
     "cellMetadata": {
      "byteLimit": 2048000,
      "rowLimit": 10000
     },
     "inputWidgets": {},
     "nuid": "891cb9ef-be2c-4c9d-aa44-c35b1a1a85fe",
     "showTitle": false,
     "tableResultSettingsMap": {},
     "title": ""
    }
   },
   "outputs": [],
   "source": [
    "df_inspection(\"global_temp.mom_illicitsubstance_cohort\",\"all\")\n"
   ]
  },
  {
   "cell_type": "markdown",
   "metadata": {
    "application/vnd.databricks.v1+cell": {
     "cellMetadata": {},
     "inputWidgets": {},
     "nuid": "2544a168-eafd-4d61-bd90-217912cce8e7",
     "showTitle": false,
     "tableResultSettingsMap": {},
     "title": ""
    }
   },
   "source": [
    "### Save Output for future use"
   ]
  },
  {
   "cell_type": "code",
   "execution_count": 0,
   "metadata": {
    "application/vnd.databricks.v1+cell": {
     "cellMetadata": {},
     "inputWidgets": {},
     "nuid": "3ad484c4-ee0c-4b6c-9e7d-168343eae877",
     "showTitle": false,
     "tableResultSettingsMap": {},
     "title": ""
    }
   },
   "outputs": [],
   "source": [
    "mom_illicitsubstance_cohort.write.mode(\"overwrite\").saveAsTable(f\"covariate_output.mom_illicitsubstance_cohort\")"
   ]
  }
 ],
 "metadata": {
  "application/vnd.databricks.v1+notebook": {
   "computePreferences": null,
   "dashboards": [],
   "environmentMetadata": null,
   "inputWidgetPreferences": null,
   "language": "python",
   "notebookMetadata": {
    "mostRecentlyExecutedCommandWithImplicitDF": {
     "commandId": 873600827159180,
     "dataframes": [
      "_sqldf"
     ]
    },
    "pythonIndentUnit": 4
   },
   "notebookName": "maternal illicit substance toxicology",
   "widgets": {
    "phenotype_version": {
     "currentValue": "V2_11042022",
     "nuid": "5e6fdcb6-bd88-403b-9c95-cd677b201da4",
     "typedWidgetInfo": null,
     "widgetInfo": {
      "widgetType": "dropdown",
      "defaultValue": "V2_11042022",
      "label": "Phenotype for outcome covariant",
      "name": "phenotype_version",
      "options": {
       "widgetType": "dropdown",
       "autoCreated": null,
       "choices": [
        "V1_05232022",
        "V2_11042022",
        "Current_version"
       ]
      }
     }
    }
   }
  },
  "kernelspec": {
   "display_name": "Python 3 (ipykernel)",
   "language": "python",
   "name": "python3"
  },
  "language_info": {
   "name": "python"
  }
 },
 "nbformat": 4,
 "nbformat_minor": 0
}