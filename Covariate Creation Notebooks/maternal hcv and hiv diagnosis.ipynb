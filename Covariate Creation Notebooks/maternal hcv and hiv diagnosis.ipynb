{
 "cells": [
  {
   "cell_type": "markdown",
   "metadata": {
    "ExecuteTime": {
     "end_time": "2022-10-17T15:33:31.433647Z",
     "start_time": "2022-10-17T15:33:31.428545Z"
    },
    "application/vnd.databricks.v1+cell": {
     "cellMetadata": {},
     "inputWidgets": {},
     "nuid": "9220d7be-0111-4c57-a791-fcd3a7a27e02",
     "showTitle": false,
     "tableResultSettingsMap": {},
     "title": ""
    }
   },
   "source": [
    "##### Project: Opioid Exposed Infant Covariates\n",
    "##### Investigator: Stephen Patrick, Sarah Loch\n",
    "##### Programmers: Sander Su, Chris Guardo\n",
    "##### Date Created: 01/17/23\n",
    "##### Last Modified: 09/30/25\n",
    "\n",
    "#### Notes:\n",
    "This notebook depends on the gestational age notebook in the pipeline and pulls all HIV and HCV related ICD codes from a patient’s medical records around the pregnancy period \n"
   ]
  },
  {
   "cell_type": "code",
   "execution_count": 0,
   "metadata": {
    "ExecuteTime": {
     "end_time": "2023-01-09T16:55:16.161097Z",
     "start_time": "2023-01-09T16:55:06.334305Z"
    },
    "application/vnd.databricks.v1+cell": {
     "cellMetadata": {},
     "inputWidgets": {},
     "nuid": "f5e7b029-0e14-4ee0-b941-caebd71b2545",
     "showTitle": false,
     "tableResultSettingsMap": {},
     "title": ""
    }
   },
   "outputs": [],
   "source": [
    "%run \"../Project_modules\""
   ]
  },
  {
   "cell_type": "markdown",
   "metadata": {
    "application/vnd.databricks.v1+cell": {
     "cellMetadata": {},
     "inputWidgets": {},
     "nuid": "6e5b1d13-3995-42e3-95c4-c6dc79e8fb75",
     "showTitle": false,
     "tableResultSettingsMap": {},
     "title": ""
    }
   },
   "source": [
    "##### Variable: HIV-positive\n",
    "##### search the information about 2 parts:\n",
    "##### ICD code: Sheet 10 - HCV and HIV \n",
    "##### Cohort: Moms in phenotype\n"
   ]
  },
  {
   "cell_type": "code",
   "execution_count": 0,
   "metadata": {
    "application/vnd.databricks.v1+cell": {
     "cellMetadata": {},
     "inputWidgets": {},
     "nuid": "7d77ed69-d3f1-4d18-8d5c-9901db78eac5",
     "showTitle": false,
     "tableResultSettingsMap": {},
     "title": ""
    },
    "code_folding": []
   },
   "outputs": [],
   "source": [
    "phenotype_table_location = \" ***Insert file location*** \"\n",
    "phenotype_table=spark.sql(f\"SELECT * FROM {phenotype_table_location}\")\n",
    "sheet_name=\"phenotyping.mprint_hcv_hiv_icd\""
   ]
  },
  {
   "cell_type": "markdown",
   "metadata": {
    "application/vnd.databricks.v1+cell": {
     "cellMetadata": {},
     "inputWidgets": {},
     "nuid": "165056e4-84de-4d17-b5d1-c0adce808b02",
     "showTitle": false,
     "tableResultSettingsMap": {},
     "title": ""
    }
   },
   "source": [
    "##### hcv or hiv positive/present/reactive of mprint project2 maternal cohort"
   ]
  },
  {
   "cell_type": "code",
   "execution_count": 0,
   "metadata": {
    "ExecuteTime": {
     "end_time": "2023-01-09T16:57:37.191649Z",
     "start_time": "2023-01-09T16:57:18.459998Z"
    },
    "application/vnd.databricks.v1+cell": {
     "cellMetadata": {},
     "inputWidgets": {},
     "nuid": "8898a3f0-af31-4713-8819-7fea316e9682",
     "showTitle": false,
     "tableResultSettingsMap": {},
     "title": ""
    }
   },
   "outputs": [],
   "source": [
    "#Explore the ICD codes in procedure_occurrence, observation, condition_occurrence already!\n",
    "\n",
    "sql=f\"\"\"\n",
    "    select a.*,b.description,b.type from \n",
    "    (select person_id,observation_source_value as code, observation_date as code_date,\n",
    "    observation_datetime as   code_datetime,visit_occurrence_id,'observation' as source_table\n",
    "    from {obs_table} where observation_source_value in (select ICD9_ICD10 from {sheet_name})\n",
    "    \n",
    "    union\n",
    "    \n",
    "    select person_id,condition_source_value as code, condition_start_date as code_date,\n",
    "    condition_start_datetime as code_datetime,visit_occurrence_id,'condition' as source_table \n",
    "    from {cond_table} where condition_source_value in (select ICD9_ICD10 from {sheet_name})) as a\n",
    "    left join {sheet_name} b\n",
    "    on a.code = b.ICD9_ICD10;\n",
    "    \"\"\"\n",
    "hcv_hiv_icd = spark.sql(sql)\n",
    "hcv_hiv_icd.createOrReplaceTempView(\"hcv_hiv_icd\")"
   ]
  },
  {
   "cell_type": "markdown",
   "metadata": {
    "application/vnd.databricks.v1+cell": {
     "cellMetadata": {},
     "inputWidgets": {},
     "nuid": "04b8a0dc-0b5f-4978-a95e-0dd9d786cc04",
     "showTitle": false,
     "tableResultSettingsMap": {},
     "title": ""
    }
   },
   "source": [
    "##### Adding time window: From start_gestation_date to 'birth date + 30 days'"
   ]
  },
  {
   "cell_type": "code",
   "execution_count": 0,
   "metadata": {
    "application/vnd.databricks.v1+cell": {
     "cellMetadata": {},
     "inputWidgets": {},
     "nuid": "34d497cf-ac5b-4993-998f-fa2719ee6801",
     "showTitle": false,
     "tableResultSettingsMap": {},
     "title": ""
    }
   },
   "outputs": [],
   "source": [
    "sql=\"\"\"\n",
    "    select * from hcv_hiv_icd a\n",
    "    inner join  (select mom_person_id, baby_person_id,baby_dob,start_gestation_date,\n",
    "    length_of_gestation from global_temp.ega_w33_or_uncertain_gestation_date) b\n",
    "    on a.person_id = b.mom_person_id\n",
    "    where code_date >= start_gestation_date and code_date <  date_add(baby_dob, 30);\n",
    "   \"\"\"\n",
    "\n",
    "hcv_hiv_icd_prenatal = spark.sql(sql)\n",
    "hcv_hiv_icd_prenatal.createOrReplaceGlobalTempView(\"hcv_hiv_icd_prenatal\")"
   ]
  },
  {
   "cell_type": "markdown",
   "metadata": {
    "application/vnd.databricks.v1+cell": {
     "cellMetadata": {},
     "inputWidgets": {},
     "nuid": "5377b976-5c3c-4da6-8667-b0317c117654",
     "showTitle": false,
     "tableResultSettingsMap": {},
     "title": ""
    }
   },
   "source": [
    "##### check the visit type by having the visit records"
   ]
  },
  {
   "cell_type": "code",
   "execution_count": 0,
   "metadata": {
    "application/vnd.databricks.v1+cell": {
     "cellMetadata": {},
     "inputWidgets": {},
     "nuid": "de5be896-e7ab-4047-8698-cf9f943a8346",
     "showTitle": false,
     "tableResultSettingsMap": {},
     "title": ""
    }
   },
   "outputs": [],
   "source": [
    "sql=f\"\"\"\n",
    "    select a.person_id,a.mom_person_id,a.baby_person_id,baby_dob,a.code,a.code_date,a.description,\n",
    "    a.type,  b.visit_occurrence_id,b.visit_concept_id,b.visit_start_date,b.visit_end_date \n",
    "    from global_temp.hcv_hiv_icd_prenatal a\n",
    "    left join {visit_table} b\n",
    "    using (person_id,visit_occurrence_id)\n",
    "   \"\"\"\n",
    "\n",
    "hcv_hiv_icd_prenatal_visitinfo = spark.sql(sql)\n",
    "hcv_hiv_icd_prenatal_visitinfo.createOrReplaceTempView(\"hcv_hiv_icd_prenatal_visitinfo\")"
   ]
  },
  {
   "cell_type": "markdown",
   "metadata": {
    "application/vnd.databricks.v1+cell": {
     "cellMetadata": {},
     "inputWidgets": {},
     "nuid": "e0c0040b-5034-4a63-a371-6d16f01adc09",
     "showTitle": false,
     "tableResultSettingsMap": {},
     "title": ""
    }
   },
   "source": [
    "##### HCV and HIV cohorts"
   ]
  },
  {
   "cell_type": "code",
   "execution_count": 0,
   "metadata": {
    "application/vnd.databricks.v1+cell": {
     "cellMetadata": {},
     "inputWidgets": {},
     "nuid": "c83616a8-3735-4a62-b4f2-77e86b3b1dc9",
     "showTitle": false,
     "tableResultSettingsMap": {},
     "title": ""
    }
   },
   "outputs": [],
   "source": [
    "sql=\"\"\"\n",
    "       select * from hcv_hiv_icd_prenatal_visitinfo where type = 'HIV'; \n",
    "    \"\"\"\n",
    "icd_prenatal_visit_hiv= spark.sql(sql)\n",
    "icd_prenatal_visit_hiv.name='icd_prenatal_visit_hiv'\n",
    "register_parquet_global_view(icd_prenatal_visit_hiv)"
   ]
  },
  {
   "cell_type": "code",
   "execution_count": 0,
   "metadata": {
    "application/vnd.databricks.v1+cell": {
     "cellMetadata": {},
     "inputWidgets": {},
     "nuid": "f5deb123-e481-4eb7-989d-40d12a69e1a4",
     "showTitle": false,
     "tableResultSettingsMap": {},
     "title": ""
    }
   },
   "outputs": [],
   "source": [
    "sql=\"\"\"\n",
    "       select count(*) as total,count(distinct person_id) as unique_mom from global_temp.icd_prenatal_visit_hiv; \n",
    "    \"\"\"\n",
    "inspect_df= spark.sql(sql)\n",
    "inspect_df.display()"
   ]
  },
  {
   "cell_type": "code",
   "execution_count": 0,
   "metadata": {
    "application/vnd.databricks.v1+cell": {
     "cellMetadata": {},
     "inputWidgets": {},
     "nuid": "3c3afd56-b3a3-4d11-a128-0da80a02b945",
     "showTitle": false,
     "tableResultSettingsMap": {},
     "title": ""
    }
   },
   "outputs": [],
   "source": [
    "sql=\"\"\"\n",
    "       select * from hcv_hiv_icd_prenatal_visitinfo where type = 'HCV'; \n",
    "    \"\"\"\n",
    "icd_prenatal_visit_hcv = spark.sql(sql)\n",
    "icd_prenatal_visit_hcv.name='icd_prenatal_visit_hcv'\n",
    "register_parquet_global_view(icd_prenatal_visit_hcv)"
   ]
  },
  {
   "cell_type": "code",
   "execution_count": 0,
   "metadata": {
    "application/vnd.databricks.v1+cell": {
     "cellMetadata": {},
     "inputWidgets": {},
     "nuid": "3476cc2f-b02f-43f9-8ad9-7e21ba13adea",
     "showTitle": false,
     "tableResultSettingsMap": {},
     "title": ""
    }
   },
   "outputs": [],
   "source": [
    "sql=\"\"\"\n",
    "       select count(*) as total,count(distinct person_id) as unique_mom from global_temp.icd_prenatal_visit_hcv; \n",
    "    \"\"\"\n",
    "inspect_df= spark.sql(sql)\n",
    "inspect_df.display()"
   ]
  },
  {
   "cell_type": "markdown",
   "metadata": {
    "application/vnd.databricks.v1+cell": {
     "cellMetadata": {},
     "inputWidgets": {},
     "nuid": "60036e2f-3c03-4da9-bf11-8f4b11d00212",
     "showTitle": false,
     "tableResultSettingsMap": {},
     "title": ""
    }
   },
   "source": [
    "##### HCV: 1IP ICD or 2OP ICD\n",
    "##### At least once inpatient code.  the visit type is '9201' which is inpatient\n",
    "##### At least twice outpatient code.  the visit type is '9202' which is outpatient"
   ]
  },
  {
   "cell_type": "code",
   "execution_count": 0,
   "metadata": {
    "application/vnd.databricks.v1+cell": {
     "cellMetadata": {},
     "inputWidgets": {},
     "nuid": "60540d95-b97f-4083-bb45-18054aee4c4c",
     "showTitle": false,
     "tableResultSettingsMap": {},
     "title": ""
    }
   },
   "outputs": [],
   "source": [
    "def ip_op_visit_count_df(visit_df_name,visit_concept_id,visit_count):\n",
    "    \n",
    "   sql=f\"\"\"\n",
    "          select mom_person_id,baby_person_id from (select distinct * from global_temp.{visit_df_name} where \n",
    "          visit_concept_id = '{visit_concept_id}') as a \n",
    "          group by a.mom_person_id,a.baby_person_id \n",
    "          having count(*) > {visit_count}\n",
    "       \"\"\"\n",
    "    \n",
    "   df= spark.sql(sql)\n",
    "   return df"
   ]
  },
  {
   "cell_type": "code",
   "execution_count": 0,
   "metadata": {
    "application/vnd.databricks.v1+cell": {
     "cellMetadata": {},
     "inputWidgets": {},
     "nuid": "dc4e4860-c5e1-4322-82f0-c83ae841fe74",
     "showTitle": false,
     "tableResultSettingsMap": {},
     "title": ""
    }
   },
   "outputs": [],
   "source": [
    "### HCV\n",
    "icd_prenatal_visit_hcv_ip1= ip_op_visit_count_df(\"icd_prenatal_visit_hcv\",\"9201\",\"0\")\n",
    "\n",
    "icd_prenatal_visit_hcv_op2= ip_op_visit_count_df(\"icd_prenatal_visit_hcv\",\"9202\",\"1\")\n",
    "\n",
    "hcv_ip1_op2=union_dataframes([icd_prenatal_visit_hcv_ip1,icd_prenatal_visit_hcv_op2])\n",
    "\n",
    "### HIV\n",
    "icd_prenatal_visit_hiv_ip1= ip_op_visit_count_df(\"icd_prenatal_visit_hiv\",\"9201\",\"0\")\n",
    "icd_prenatal_visit_hiv_op2= ip_op_visit_count_df(\"icd_prenatal_visit_hiv\",\"9202\",\"1\")\n",
    "hiv_ip1_op2=union_dataframes([icd_prenatal_visit_hiv_ip1,icd_prenatal_visit_hiv_op2])\n",
    "\n",
    "hcv_ip1_op2.createOrReplaceTempView(\"hcv_ip1_op2\") \n",
    "hiv_ip1_op2.createOrReplaceTempView(\"hiv_ip1_op2\")"
   ]
  },
  {
   "cell_type": "markdown",
   "metadata": {
    "application/vnd.databricks.v1+cell": {
     "cellMetadata": {},
     "inputWidgets": {},
     "nuid": "98fdf543-7d3f-405c-8792-ad5836c68ecc",
     "showTitle": false,
     "tableResultSettingsMap": {},
     "title": ""
    }
   },
   "source": [
    "##### Create the view of Moms  without visit_occurrence_id and did not in ip1 or op2 group"
   ]
  },
  {
   "cell_type": "code",
   "execution_count": 0,
   "metadata": {
    "application/vnd.databricks.v1+cell": {
     "cellMetadata": {},
     "inputWidgets": {},
     "nuid": "ea847659-182e-4fca-aa7a-01f8f73f4a29",
     "showTitle": false,
     "tableResultSettingsMap": {},
     "title": ""
    }
   },
   "outputs": [],
   "source": [
    "def mom_no_visit_occurrence_id_df(visit_df,ip1_op2_df):\n",
    "  \n",
    "   sql=f\"\"\"\n",
    "       select a.mom_person_id,a.baby_person_id from \n",
    "       (select mom_person_id,baby_person_id from global_temp.{visit_df} where visit_occurrence_id is null) a \n",
    "       left join ({ip1_op2_df}) b\n",
    "       on a.baby_person_id=b.baby_person_id\n",
    "       where b.mom_person_id is null\n",
    "      \"\"\"\n",
    "   df = spark.sql(sql)\n",
    "   return df"
   ]
  },
  {
   "cell_type": "code",
   "execution_count": 0,
   "metadata": {
    "application/vnd.databricks.v1+cell": {
     "cellMetadata": {},
     "inputWidgets": {},
     "nuid": "a8cd465c-d4ef-44df-a445-b2d6888c2b30",
     "showTitle": false,
     "tableResultSettingsMap": {},
     "title": ""
    }
   },
   "outputs": [],
   "source": [
    "mom_no_visit_occurrence_id_hcv=mom_no_visit_occurrence_id_df(\"icd_prenatal_visit_hcv\",\"hcv_ip1_op2\")\n",
    "mom_no_visit_occurrence_id_hiv=mom_no_visit_occurrence_id_df(\"icd_prenatal_visit_hcv\",\"hiv_ip1_op2\")\n",
    "\n",
    "mom_no_visit_occurrence_id_hcv.createOrReplaceTempView(\"mom_no_visit_occurrence_id_hcv\") \n",
    "mom_no_visit_occurrence_id_hiv.createOrReplaceTempView(\"mom_no_visit_occurrence_id_hiv\") "
   ]
  },
  {
   "cell_type": "code",
   "execution_count": 0,
   "metadata": {
    "application/vnd.databricks.v1+cell": {
     "cellMetadata": {},
     "inputWidgets": {},
     "nuid": "12419ac5-d8e2-4b02-b179-58975aeddf84",
     "showTitle": false,
     "tableResultSettingsMap": {},
     "title": ""
    }
   },
   "outputs": [],
   "source": [
    "df_inspection(\"mom_no_visit_occurrence_id_hcv\",\"all\")\n",
    "df_inspection(\"mom_no_visit_occurrence_id_hiv\",\"all\")"
   ]
  },
  {
   "cell_type": "markdown",
   "metadata": {
    "application/vnd.databricks.v1+cell": {
     "cellMetadata": {},
     "inputWidgets": {},
     "nuid": "18969729-c03c-41ee-ac11-be8bcfc2a77b",
     "showTitle": false,
     "tableResultSettingsMap": {},
     "title": ""
    }
   },
   "source": [
    "##### create view that there is no visit_occurrence_id information "
   ]
  },
  {
   "cell_type": "code",
   "execution_count": 0,
   "metadata": {
    "application/vnd.databricks.v1+cell": {
     "cellMetadata": {},
     "inputWidgets": {},
     "nuid": "4a825ac5-3142-426a-95d4-d03215afecd1",
     "showTitle": false,
     "tableResultSettingsMap": {},
     "title": ""
    }
   },
   "outputs": [],
   "source": [
    "def get_no_visit_list(hcv_hiv_df):\n",
    "  \n",
    "    sql=f\"\"\"\n",
    "           select a.* from hcv_hiv_icd_prenatal_visitinfo  a\n",
    "           inner join {hcv_hiv_df} b\n",
    "           on a.mom_person_id = b.mom_person_id and a.baby_person_id = b.baby_person_id;\n",
    "        \"\"\"\n",
    "\n",
    "    df= spark.sql(sql)\n",
    "    return df"
   ]
  },
  {
   "cell_type": "code",
   "execution_count": 0,
   "metadata": {
    "application/vnd.databricks.v1+cell": {
     "cellMetadata": {},
     "inputWidgets": {},
     "nuid": "b827d471-912d-495e-b17e-2d9e635d74a2",
     "showTitle": false,
     "tableResultSettingsMap": {},
     "title": ""
    }
   },
   "outputs": [],
   "source": [
    "icd_prenatal_hcv_no_visit_occurrence_id=get_no_visit_list(\"mom_no_visit_occurrence_id_hcv\")\n",
    "icd_prenatal_hiv_no_visit_occurrence_id=get_no_visit_list(\"mom_no_visit_occurrence_id_hiv\")\n",
    "\n",
    "icd_prenatal_hcv_no_visit_occurrence_id.createOrReplaceTempView(\"icd_prenatal_hcv_no_visit_occurrence_id\")  \n",
    "icd_prenatal_hiv_no_visit_occurrence_id.createOrReplaceTempView(\"icd_prenatal_hiv_no_visit_occurrence_id\")"
   ]
  },
  {
   "cell_type": "code",
   "execution_count": 0,
   "metadata": {
    "application/vnd.databricks.v1+cell": {
     "cellMetadata": {},
     "inputWidgets": {},
     "nuid": "6395113e-53d1-47d0-9836-cb07fe3e6575",
     "showTitle": false,
     "tableResultSettingsMap": {},
     "title": ""
    }
   },
   "outputs": [],
   "source": [
    "df_inspection(\"icd_prenatal_hcv_no_visit_occurrence_id\",\"all\")\n",
    "\n",
    "df_inspection(\"icd_prenatal_hiv_no_visit_occurrence_id\",\"all\")"
   ]
  },
  {
   "cell_type": "markdown",
   "metadata": {
    "application/vnd.databricks.v1+cell": {
     "cellMetadata": {},
     "inputWidgets": {},
     "nuid": "9b7f50e3-dbb4-43b2-aeaa-6f2758084cff",
     "showTitle": false,
     "tableResultSettingsMap": {},
     "title": ""
    }
   },
   "source": [
    "#### Condition 1:  had visit_end_date\n",
    "- if the code is inpatient or outpatient by checking the CODE_DATE: visit_start_date <= code_date and code_date < visit_end_date\n",
    "\n",
    "#### Condition 2:  did not have visit_end_date, and visit concept is '9201' \n",
    "- if did not have visit end date: check visit_start_date <= code_date and code_date < visit_start_date + 30;\n",
    "\n",
    "#### condition 3:  did not have visit_end_date, and visit concept is '9202'\n",
    "- if did not have visit end date: check visit_start_date <= code_date and code_date < visit_start_date + 3;\n",
    "\n",
    "#### Normal condition: had visit_occurrence_id"
   ]
  },
  {
   "cell_type": "code",
   "execution_count": 0,
   "metadata": {
    "application/vnd.databricks.v1+cell": {
     "cellMetadata": {},
     "inputWidgets": {},
     "nuid": "ff5dae66-241a-478b-a439-8c29dd9d2dee",
     "showTitle": false,
     "tableResultSettingsMap": {},
     "title": ""
    }
   },
   "outputs": [],
   "source": [
    "def format_cond_sql(visit_concept_id,hcv_hiv_df_name,buffer_day):\n",
    "    \n",
    "    sql=f\"\"\"\n",
    "           select  distinct a.person_id,a.mom_person_id,a.baby_person_id,baby_dob,a.code,a.code_date,\n",
    "           a.description,a.type, b.visit_occurrence_id,b.visit_concept_id,b.visit_start_date,b.visit_end_date\n",
    "    \n",
    "           from {hcv_hiv_df_name} a\n",
    "           left join {visit_table} b \n",
    "           on a.mom_person_id = b.person_id and b.visit_end_date is null\n",
    "           where b.visit_concept_id = {visit_concept_id}\n",
    "           and b.visit_start_date <= code_date and code_date < date_add(b.visit_start_date, {buffer_day});\n",
    "        \"\"\"\n",
    "    return sql\n",
    "\n",
    "def combine_no_visit_cond(hcv_hiv_df_name):\n",
    "    \n",
    "    #cond1\n",
    "    sql=f\"\"\"\n",
    "        select distinct a.person_id,a.mom_person_id,a.baby_person_id,baby_dob,a.code,a.code_date,\n",
    "        a.description,a.type,  b.visit_occurrence_id,b.visit_concept_id,b.visit_start_date,b.visit_end_date \n",
    "        from {hcv_hiv_df_name} a\n",
    "        inner join {visit_table} b \n",
    "        on a.mom_person_id = b.person_id and b.visit_end_date is not null\n",
    "        and b.visit_start_date <= code_date and code_date < b.visit_end_date;\n",
    "       \"\"\"\n",
    "\n",
    "    cond1 = spark.sql(sql)\n",
    "    \n",
    "    #cond2.\n",
    "    cond2 = spark.sql(format_cond_sql('9201',hcv_hiv_df_name,\"30\"))\n",
    "   \n",
    "    #cond3\n",
    "    cond3 = spark.sql(format_cond_sql('9202',hcv_hiv_df_name,\"3\"))\n",
    "    \n",
    "    sql=\"\"\"\n",
    "           select * from global_temp.icd_prenatal_visit_hcv;\n",
    "        \"\"\"\n",
    "    normal_cond = spark.sql(sql)\n",
    "    all_cond_df=union_dataframes([normal_cond,cond1,cond2,cond3]).distinct()\n",
    "\n",
    "    return all_cond_df"
   ]
  },
  {
   "cell_type": "code",
   "execution_count": 0,
   "metadata": {
    "application/vnd.databricks.v1+cell": {
     "cellMetadata": {},
     "inputWidgets": {},
     "nuid": "7af545ed-bbed-486f-a1ca-143795a64f2a",
     "showTitle": false,
     "tableResultSettingsMap": {},
     "title": ""
    }
   },
   "outputs": [],
   "source": [
    "icd_prenatal_hcv_update= combine_no_visit_cond(\"icd_prenatal_hcv_no_visit_occurrence_id\")\n",
    "icd_prenatal_hiv_update= combine_no_visit_cond(\"icd_prenatal_hiv_no_visit_occurrence_id\")\n",
    "\n",
    "icd_prenatal_hcv_update.createOrReplaceGlobalTempView(\"icd_prenatal_hcv_update\")  \n",
    "icd_prenatal_hiv_update.createOrReplaceGlobalTempView(\"icd_prenatal_hiv_update\")"
   ]
  },
  {
   "cell_type": "markdown",
   "metadata": {
    "application/vnd.databricks.v1+cell": {
     "cellMetadata": {},
     "inputWidgets": {},
     "nuid": "a63357a1-1935-47da-9563-908a7aca1b24",
     "showTitle": false,
     "tableResultSettingsMap": {},
     "title": ""
    }
   },
   "source": [
    "##### After combining all conditions, check again if the patient got at least once inpatient ICD\n",
    "##### After combining all conditions, check again if the patient got at least twice outpatient ICD"
   ]
  },
  {
   "cell_type": "code",
   "execution_count": 0,
   "metadata": {
    "application/vnd.databricks.v1+cell": {
     "cellMetadata": {},
     "inputWidgets": {},
     "nuid": "babb6b9a-e940-461b-b7fc-e48df73023cb",
     "showTitle": false,
     "tableResultSettingsMap": {},
     "title": ""
    }
   },
   "outputs": [],
   "source": [
    "icd_prenatal_visit_hcv_ip1_update=ip_op_visit_count_df(\"icd_prenatal_hcv_update\",\"9201\",\"0\")\n",
    "icd_prenatal_visit_hiv_ip1_update=ip_op_visit_count_df(\"icd_prenatal_hiv_update\",\"9201\",\"0\")\n",
    "icd_prenatal_visit_hcv_op2_update=ip_op_visit_count_df(\"icd_prenatal_hcv_update\",\"9202\",\"1\")\n",
    "icd_prenatal_visit_hiv_op2_update=ip_op_visit_count_df(\"icd_prenatal_hiv_update\",\"9202\",\"1\")\n",
    "\n",
    "icd_prenatal_visit_hcv_ip1_update.name='icd_prenatal_visit_hcv_ip1_update'\n",
    "register_parquet_global_view(icd_prenatal_visit_hcv_ip1_update)\n",
    "\n",
    "icd_prenatal_visit_hiv_ip1_update.name='icd_prenatal_visit_hiv_ip1_update'\n",
    "register_parquet_global_view(icd_prenatal_visit_hiv_ip1_update)\n",
    "\n",
    "icd_prenatal_visit_hcv_op2_update.name='icd_prenatal_visit_hcv_op2_update'\n",
    "register_parquet_global_view(icd_prenatal_visit_hcv_op2_update)\n",
    "\n",
    "icd_prenatal_visit_hiv_op2_update.name='icd_prenatal_visit_hiv_op2_update'\n",
    "register_parquet_global_view(icd_prenatal_visit_hiv_op2_update)"
   ]
  },
  {
   "cell_type": "code",
   "execution_count": 0,
   "metadata": {
    "application/vnd.databricks.v1+cell": {
     "cellMetadata": {},
     "inputWidgets": {},
     "nuid": "5733568e-5065-421e-b749-1c67fa3a1fd6",
     "showTitle": false,
     "tableResultSettingsMap": {},
     "title": ""
    }
   },
   "outputs": [],
   "source": [
    "df_inspection(\"global_temp.icd_prenatal_visit_hiv_ip1_update\",\"all\")\n",
    "\n",
    "df_inspection(\"global_temp.icd_prenatal_visit_hiv_op2_update\",\"all\")"
   ]
  },
  {
   "cell_type": "markdown",
   "metadata": {
    "application/vnd.databricks.v1+cell": {
     "cellMetadata": {},
     "inputWidgets": {},
     "nuid": "4035c424-2363-4be3-9217-2fc422661862",
     "showTitle": false,
     "tableResultSettingsMap": {},
     "title": ""
    }
   },
   "source": [
    "##### Combine ip1 and op2 for HCV and HIV"
   ]
  },
  {
   "cell_type": "code",
   "execution_count": 0,
   "metadata": {
    "application/vnd.databricks.v1+cell": {
     "cellMetadata": {},
     "inputWidgets": {},
     "nuid": "ad3d5e4e-44c1-407d-b5c9-7535edf1d0d1",
     "showTitle": false,
     "tableResultSettingsMap": {},
     "title": ""
    }
   },
   "outputs": [],
   "source": [
    "icd_prenatal_visit_hiv_ip1op2_update=union_dataframes([icd_prenatal_visit_hiv_ip1_update,icd_prenatal_visit_hiv_op2_update]).distinct()\n",
    "icd_prenatal_visit_hiv_ip1op2_update.name='icd_prenatal_visit_hiv_ip1op2_update'\n",
    "register_parquet_global_view(icd_prenatal_visit_hiv_ip1op2_update)\n",
    "\n",
    "icd_prenatal_visit_hcv_ip1op2_update=union_dataframes([icd_prenatal_visit_hcv_ip1_update,icd_prenatal_visit_hcv_op2_update]).distinct()\n",
    "icd_prenatal_visit_hcv_ip1op2_update.name='icd_prenatal_visit_hcv_ip1op2_update'\n",
    "register_parquet_global_view(icd_prenatal_visit_hcv_ip1op2_update)"
   ]
  },
  {
   "cell_type": "code",
   "execution_count": 0,
   "metadata": {
    "application/vnd.databricks.v1+cell": {
     "cellMetadata": {},
     "inputWidgets": {},
     "nuid": "568a1cfd-b9f2-4027-89b3-577635811730",
     "showTitle": false,
     "tableResultSettingsMap": {},
     "title": ""
    }
   },
   "outputs": [],
   "source": [
    "df_inspection(\"global_temp.icd_prenatal_visit_hiv_ip1op2_update\",\"all\")"
   ]
  },
  {
   "cell_type": "markdown",
   "metadata": {
    "application/vnd.databricks.v1+cell": {
     "cellMetadata": {},
     "inputWidgets": {},
     "nuid": "b7f013b6-555d-4bd3-a2bf-b7859a2c0656",
     "showTitle": false,
     "tableResultSettingsMap": {},
     "title": ""
    }
   },
   "source": [
    "### Save Output for future use"
   ]
  },
  {
   "cell_type": "code",
   "execution_count": 0,
   "metadata": {
    "application/vnd.databricks.v1+cell": {
     "cellMetadata": {},
     "inputWidgets": {},
     "nuid": "c5c67477-cc45-41ad-998b-39e6ca02785a",
     "showTitle": false,
     "tableResultSettingsMap": {},
     "title": ""
    }
   },
   "outputs": [],
   "source": [
    "icd_prenatal_visit_hcv_ip1op2_update.write.mode(\"overwrite\").saveAsTable(f\"covariate_output.icd_prenatal_visit_hcv_ip1op2_update\")\n",
    "icd_prenatal_visit_hiv_ip1op2_update.write.mode(\"overwrite\").saveAsTable(f\"covariate_output.icd_prenatal_visit_hiv_ip1op2_update\")"
   ]
  }
 ],
 "metadata": {
  "application/vnd.databricks.v1+notebook": {
   "computePreferences": null,
   "dashboards": [],
   "environmentMetadata": null,
   "inputWidgetPreferences": null,
   "language": "python",
   "notebookMetadata": {
    "pythonIndentUnit": 4
   },
   "notebookName": "maternal hcv and hiv diagnosis",
   "widgets": {
    "phenotype_version": {
     "currentValue": "V2_11042022",
     "nuid": "a98f6a93-e82a-41e6-880d-ab761bc5542d",
     "typedWidgetInfo": null,
     "widgetInfo": {
      "widgetType": "dropdown",
      "defaultValue": "V2_11042022",
      "label": "Phenotype for outcome covariant",
      "name": "phenotype_version",
      "options": {
       "widgetType": "dropdown",
       "autoCreated": null,
       "choices": [
        "V1_05232022",
        "V2_11042022",
        "Current_version"
       ]
      }
     }
    }
   }
  },
  "kernelspec": {
   "display_name": "Python 3 (ipykernel)",
   "language": "python",
   "name": "python3"
  },
  "language_info": {
   "name": "python"
  }
 },
 "nbformat": 4,
 "nbformat_minor": 0
}